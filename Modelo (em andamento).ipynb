{
 "cells": [
  {
   "cell_type": "markdown",
   "metadata": {},
   "source": [
    "# Obtendo os dados:"
   ]
  },
  {
   "cell_type": "code",
   "execution_count": 1,
   "metadata": {},
   "outputs": [],
   "source": [
    "import numpy as np\n",
    "import pandas as pd\n",
    "# import sympy\n",
    "%display typeset"
   ]
  },
  {
   "cell_type": "code",
   "execution_count": 2,
   "metadata": {},
   "outputs": [],
   "source": [
    "def load_data(state):\n",
    "    df = pd.read_csv(f'dados_{state}.csv')\n",
    "    df['date'] = pd.to_datetime(df.date)\n",
    "#    df.set_index('data', inplace=True)\n",
    "    return df"
   ]
  },
  {
   "cell_type": "code",
   "execution_count": 3,
   "metadata": {
    "scrolled": true
   },
   "outputs": [
    {
     "data": {
      "text/html": [
       "<table border=\"1\" class=\"dataframe\">\n",
       "  <thead>\n",
       "    <tr style=\"text-align: right;\">\n",
       "      <th></th>\n",
       "      <th>iso_code</th>\n",
       "      <th>continent</th>\n",
       "      <th>location</th>\n",
       "      <th>date</th>\n",
       "      <th>total_cases</th>\n",
       "      <th>new_cases</th>\n",
       "      <th>new_cases_smoothed</th>\n",
       "      <th>total_deaths</th>\n",
       "      <th>new_deaths</th>\n",
       "      <th>new_deaths_smoothed</th>\n",
       "      <th>total_cases_per_million</th>\n",
       "      <th>new_cases_per_million</th>\n",
       "      <th>new_cases_smoothed_per_million</th>\n",
       "      <th>total_deaths_per_million</th>\n",
       "      <th>new_deaths_per_million</th>\n",
       "      <th>new_deaths_smoothed_per_million</th>\n",
       "      <th>reproduction_rate</th>\n",
       "      <th>icu_patients</th>\n",
       "      <th>icu_patients_per_million</th>\n",
       "      <th>hosp_patients</th>\n",
       "      <th>hosp_patients_per_million</th>\n",
       "      <th>weekly_icu_admissions</th>\n",
       "      <th>weekly_icu_admissions_per_million</th>\n",
       "      <th>weekly_hosp_admissions</th>\n",
       "      <th>weekly_hosp_admissions_per_million</th>\n",
       "      <th>total_tests</th>\n",
       "      <th>new_tests</th>\n",
       "      <th>total_tests_per_thousand</th>\n",
       "      <th>new_tests_per_thousand</th>\n",
       "      <th>new_tests_smoothed</th>\n",
       "      <th>new_tests_smoothed_per_thousand</th>\n",
       "      <th>tests_per_case</th>\n",
       "      <th>positive_rate</th>\n",
       "      <th>tests_units</th>\n",
       "      <th>stringency_index</th>\n",
       "      <th>population</th>\n",
       "      <th>population_density</th>\n",
       "      <th>median_age</th>\n",
       "      <th>aged_65_older</th>\n",
       "      <th>aged_70_older</th>\n",
       "      <th>gdp_per_capita</th>\n",
       "      <th>extreme_poverty</th>\n",
       "      <th>cardiovasc_death_rate</th>\n",
       "      <th>diabetes_prevalence</th>\n",
       "      <th>female_smokers</th>\n",
       "      <th>male_smokers</th>\n",
       "      <th>handwashing_facilities</th>\n",
       "      <th>hospital_beds_per_thousand</th>\n",
       "      <th>life_expectancy</th>\n",
       "      <th>human_development_index</th>\n",
       "    </tr>\n",
       "  </thead>\n",
       "  <tbody>\n",
       "    <tr>\n",
       "      <th>34283</th>\n",
       "      <td>MEX</td>\n",
       "      <td>North America</td>\n",
       "      <td>Mexico</td>\n",
       "      <td>2020-11-12</td>\n",
       "      <td>986177.0</td>\n",
       "      <td>7646.0</td>\n",
       "      <td>6078.143</td>\n",
       "      <td>96430.0</td>\n",
       "      <td>588.0</td>\n",
       "      <td>457.429</td>\n",
       "      <td>7648.770</td>\n",
       "      <td>59.302</td>\n",
       "      <td>47.142</td>\n",
       "      <td>747.909</td>\n",
       "      <td>4.561</td>\n",
       "      <td>3.548</td>\n",
       "      <td>NaN</td>\n",
       "      <td>NaN</td>\n",
       "      <td>NaN</td>\n",
       "      <td>NaN</td>\n",
       "      <td>NaN</td>\n",
       "      <td>NaN</td>\n",
       "      <td>NaN</td>\n",
       "      <td>NaN</td>\n",
       "      <td>NaN</td>\n",
       "      <td>NaN</td>\n",
       "      <td>NaN</td>\n",
       "      <td>NaN</td>\n",
       "      <td>NaN</td>\n",
       "      <td>NaN</td>\n",
       "      <td>NaN</td>\n",
       "      <td>NaN</td>\n",
       "      <td>NaN</td>\n",
       "      <td>NaN</td>\n",
       "      <td>74.54</td>\n",
       "      <td>128932753.0</td>\n",
       "      <td>66.444</td>\n",
       "      <td>29.3</td>\n",
       "      <td>6.857</td>\n",
       "      <td>4.321</td>\n",
       "      <td>17336.469</td>\n",
       "      <td>2.5</td>\n",
       "      <td>152.783</td>\n",
       "      <td>13.06</td>\n",
       "      <td>6.9</td>\n",
       "      <td>21.4</td>\n",
       "      <td>87.847</td>\n",
       "      <td>1.38</td>\n",
       "      <td>75.05</td>\n",
       "      <td>0.774</td>\n",
       "    </tr>\n",
       "    <tr>\n",
       "      <th>34284</th>\n",
       "      <td>MEX</td>\n",
       "      <td>North America</td>\n",
       "      <td>Mexico</td>\n",
       "      <td>2020-11-13</td>\n",
       "      <td>991835.0</td>\n",
       "      <td>5658.0</td>\n",
       "      <td>6091.143</td>\n",
       "      <td>97056.0</td>\n",
       "      <td>626.0</td>\n",
       "      <td>469.143</td>\n",
       "      <td>7692.654</td>\n",
       "      <td>43.883</td>\n",
       "      <td>47.243</td>\n",
       "      <td>752.765</td>\n",
       "      <td>4.855</td>\n",
       "      <td>3.639</td>\n",
       "      <td>NaN</td>\n",
       "      <td>NaN</td>\n",
       "      <td>NaN</td>\n",
       "      <td>NaN</td>\n",
       "      <td>NaN</td>\n",
       "      <td>NaN</td>\n",
       "      <td>NaN</td>\n",
       "      <td>NaN</td>\n",
       "      <td>NaN</td>\n",
       "      <td>NaN</td>\n",
       "      <td>NaN</td>\n",
       "      <td>NaN</td>\n",
       "      <td>NaN</td>\n",
       "      <td>NaN</td>\n",
       "      <td>NaN</td>\n",
       "      <td>NaN</td>\n",
       "      <td>NaN</td>\n",
       "      <td>NaN</td>\n",
       "      <td>74.54</td>\n",
       "      <td>128932753.0</td>\n",
       "      <td>66.444</td>\n",
       "      <td>29.3</td>\n",
       "      <td>6.857</td>\n",
       "      <td>4.321</td>\n",
       "      <td>17336.469</td>\n",
       "      <td>2.5</td>\n",
       "      <td>152.783</td>\n",
       "      <td>13.06</td>\n",
       "      <td>6.9</td>\n",
       "      <td>21.4</td>\n",
       "      <td>87.847</td>\n",
       "      <td>1.38</td>\n",
       "      <td>75.05</td>\n",
       "      <td>0.774</td>\n",
       "    </tr>\n",
       "    <tr>\n",
       "      <th>34285</th>\n",
       "      <td>MEX</td>\n",
       "      <td>North America</td>\n",
       "      <td>Mexico</td>\n",
       "      <td>2020-11-14</td>\n",
       "      <td>997393.0</td>\n",
       "      <td>5558.0</td>\n",
       "      <td>6037.857</td>\n",
       "      <td>97624.0</td>\n",
       "      <td>568.0</td>\n",
       "      <td>471.571</td>\n",
       "      <td>7735.761</td>\n",
       "      <td>43.108</td>\n",
       "      <td>46.830</td>\n",
       "      <td>757.170</td>\n",
       "      <td>4.405</td>\n",
       "      <td>3.657</td>\n",
       "      <td>NaN</td>\n",
       "      <td>NaN</td>\n",
       "      <td>NaN</td>\n",
       "      <td>NaN</td>\n",
       "      <td>NaN</td>\n",
       "      <td>NaN</td>\n",
       "      <td>NaN</td>\n",
       "      <td>NaN</td>\n",
       "      <td>NaN</td>\n",
       "      <td>NaN</td>\n",
       "      <td>NaN</td>\n",
       "      <td>NaN</td>\n",
       "      <td>NaN</td>\n",
       "      <td>NaN</td>\n",
       "      <td>NaN</td>\n",
       "      <td>NaN</td>\n",
       "      <td>NaN</td>\n",
       "      <td>NaN</td>\n",
       "      <td>74.54</td>\n",
       "      <td>128932753.0</td>\n",
       "      <td>66.444</td>\n",
       "      <td>29.3</td>\n",
       "      <td>6.857</td>\n",
       "      <td>4.321</td>\n",
       "      <td>17336.469</td>\n",
       "      <td>2.5</td>\n",
       "      <td>152.783</td>\n",
       "      <td>13.06</td>\n",
       "      <td>6.9</td>\n",
       "      <td>21.4</td>\n",
       "      <td>87.847</td>\n",
       "      <td>1.38</td>\n",
       "      <td>75.05</td>\n",
       "      <td>0.774</td>\n",
       "    </tr>\n",
       "    <tr>\n",
       "      <th>34286</th>\n",
       "      <td>MEX</td>\n",
       "      <td>North America</td>\n",
       "      <td>Mexico</td>\n",
       "      <td>2020-11-15</td>\n",
       "      <td>1003253.0</td>\n",
       "      <td>5860.0</td>\n",
       "      <td>5902.143</td>\n",
       "      <td>98259.0</td>\n",
       "      <td>635.0</td>\n",
       "      <td>493.000</td>\n",
       "      <td>7781.211</td>\n",
       "      <td>45.450</td>\n",
       "      <td>45.777</td>\n",
       "      <td>762.095</td>\n",
       "      <td>4.925</td>\n",
       "      <td>3.824</td>\n",
       "      <td>NaN</td>\n",
       "      <td>NaN</td>\n",
       "      <td>NaN</td>\n",
       "      <td>NaN</td>\n",
       "      <td>NaN</td>\n",
       "      <td>NaN</td>\n",
       "      <td>NaN</td>\n",
       "      <td>NaN</td>\n",
       "      <td>NaN</td>\n",
       "      <td>NaN</td>\n",
       "      <td>NaN</td>\n",
       "      <td>NaN</td>\n",
       "      <td>NaN</td>\n",
       "      <td>NaN</td>\n",
       "      <td>NaN</td>\n",
       "      <td>NaN</td>\n",
       "      <td>NaN</td>\n",
       "      <td>NaN</td>\n",
       "      <td>74.54</td>\n",
       "      <td>128932753.0</td>\n",
       "      <td>66.444</td>\n",
       "      <td>29.3</td>\n",
       "      <td>6.857</td>\n",
       "      <td>4.321</td>\n",
       "      <td>17336.469</td>\n",
       "      <td>2.5</td>\n",
       "      <td>152.783</td>\n",
       "      <td>13.06</td>\n",
       "      <td>6.9</td>\n",
       "      <td>21.4</td>\n",
       "      <td>87.847</td>\n",
       "      <td>1.38</td>\n",
       "      <td>75.05</td>\n",
       "      <td>0.774</td>\n",
       "    </tr>\n",
       "    <tr>\n",
       "      <th>34287</th>\n",
       "      <td>MEX</td>\n",
       "      <td>North America</td>\n",
       "      <td>Mexico</td>\n",
       "      <td>2020-11-16</td>\n",
       "      <td>1006522.0</td>\n",
       "      <td>3269.0</td>\n",
       "      <td>5528.143</td>\n",
       "      <td>98542.0</td>\n",
       "      <td>283.0</td>\n",
       "      <td>502.143</td>\n",
       "      <td>7806.566</td>\n",
       "      <td>25.354</td>\n",
       "      <td>42.876</td>\n",
       "      <td>764.290</td>\n",
       "      <td>2.195</td>\n",
       "      <td>3.895</td>\n",
       "      <td>NaN</td>\n",
       "      <td>NaN</td>\n",
       "      <td>NaN</td>\n",
       "      <td>NaN</td>\n",
       "      <td>NaN</td>\n",
       "      <td>NaN</td>\n",
       "      <td>NaN</td>\n",
       "      <td>NaN</td>\n",
       "      <td>NaN</td>\n",
       "      <td>NaN</td>\n",
       "      <td>NaN</td>\n",
       "      <td>NaN</td>\n",
       "      <td>NaN</td>\n",
       "      <td>NaN</td>\n",
       "      <td>NaN</td>\n",
       "      <td>NaN</td>\n",
       "      <td>NaN</td>\n",
       "      <td>NaN</td>\n",
       "      <td>74.54</td>\n",
       "      <td>128932753.0</td>\n",
       "      <td>66.444</td>\n",
       "      <td>29.3</td>\n",
       "      <td>6.857</td>\n",
       "      <td>4.321</td>\n",
       "      <td>17336.469</td>\n",
       "      <td>2.5</td>\n",
       "      <td>152.783</td>\n",
       "      <td>13.06</td>\n",
       "      <td>6.9</td>\n",
       "      <td>21.4</td>\n",
       "      <td>87.847</td>\n",
       "      <td>1.38</td>\n",
       "      <td>75.05</td>\n",
       "      <td>0.774</td>\n",
       "    </tr>\n",
       "  </tbody>\n",
       "</table>"
      ],
      "text/plain": [
       "<table border=\"1\" class=\"dataframe\">\n",
       "  <thead>\n",
       "    <tr style=\"text-align: right;\">\n",
       "      <th></th>\n",
       "      <th>iso_code</th>\n",
       "      <th>continent</th>\n",
       "      <th>location</th>\n",
       "      <th>date</th>\n",
       "      <th>total_cases</th>\n",
       "      <th>new_cases</th>\n",
       "      <th>new_cases_smoothed</th>\n",
       "      <th>total_deaths</th>\n",
       "      <th>new_deaths</th>\n",
       "      <th>new_deaths_smoothed</th>\n",
       "      <th>total_cases_per_million</th>\n",
       "      <th>new_cases_per_million</th>\n",
       "      <th>new_cases_smoothed_per_million</th>\n",
       "      <th>total_deaths_per_million</th>\n",
       "      <th>new_deaths_per_million</th>\n",
       "      <th>new_deaths_smoothed_per_million</th>\n",
       "      <th>reproduction_rate</th>\n",
       "      <th>icu_patients</th>\n",
       "      <th>icu_patients_per_million</th>\n",
       "      <th>hosp_patients</th>\n",
       "      <th>hosp_patients_per_million</th>\n",
       "      <th>weekly_icu_admissions</th>\n",
       "      <th>weekly_icu_admissions_per_million</th>\n",
       "      <th>weekly_hosp_admissions</th>\n",
       "      <th>weekly_hosp_admissions_per_million</th>\n",
       "      <th>total_tests</th>\n",
       "      <th>new_tests</th>\n",
       "      <th>total_tests_per_thousand</th>\n",
       "      <th>new_tests_per_thousand</th>\n",
       "      <th>new_tests_smoothed</th>\n",
       "      <th>new_tests_smoothed_per_thousand</th>\n",
       "      <th>tests_per_case</th>\n",
       "      <th>positive_rate</th>\n",
       "      <th>tests_units</th>\n",
       "      <th>stringency_index</th>\n",
       "      <th>population</th>\n",
       "      <th>population_density</th>\n",
       "      <th>median_age</th>\n",
       "      <th>aged_65_older</th>\n",
       "      <th>aged_70_older</th>\n",
       "      <th>gdp_per_capita</th>\n",
       "      <th>extreme_poverty</th>\n",
       "      <th>cardiovasc_death_rate</th>\n",
       "      <th>diabetes_prevalence</th>\n",
       "      <th>female_smokers</th>\n",
       "      <th>male_smokers</th>\n",
       "      <th>handwashing_facilities</th>\n",
       "      <th>hospital_beds_per_thousand</th>\n",
       "      <th>life_expectancy</th>\n",
       "      <th>human_development_index</th>\n",
       "    </tr>\n",
       "  </thead>\n",
       "  <tbody>\n",
       "    <tr>\n",
       "      <th>34283</th>\n",
       "      <td>MEX</td>\n",
       "      <td>North America</td>\n",
       "      <td>Mexico</td>\n",
       "      <td>2020-11-12</td>\n",
       "      <td>986177.0</td>\n",
       "      <td>7646.0</td>\n",
       "      <td>6078.143</td>\n",
       "      <td>96430.0</td>\n",
       "      <td>588.0</td>\n",
       "      <td>457.429</td>\n",
       "      <td>7648.770</td>\n",
       "      <td>59.302</td>\n",
       "      <td>47.142</td>\n",
       "      <td>747.909</td>\n",
       "      <td>4.561</td>\n",
       "      <td>3.548</td>\n",
       "      <td>NaN</td>\n",
       "      <td>NaN</td>\n",
       "      <td>NaN</td>\n",
       "      <td>NaN</td>\n",
       "      <td>NaN</td>\n",
       "      <td>NaN</td>\n",
       "      <td>NaN</td>\n",
       "      <td>NaN</td>\n",
       "      <td>NaN</td>\n",
       "      <td>NaN</td>\n",
       "      <td>NaN</td>\n",
       "      <td>NaN</td>\n",
       "      <td>NaN</td>\n",
       "      <td>NaN</td>\n",
       "      <td>NaN</td>\n",
       "      <td>NaN</td>\n",
       "      <td>NaN</td>\n",
       "      <td>NaN</td>\n",
       "      <td>74.54</td>\n",
       "      <td>128932753.0</td>\n",
       "      <td>66.444</td>\n",
       "      <td>29.3</td>\n",
       "      <td>6.857</td>\n",
       "      <td>4.321</td>\n",
       "      <td>17336.469</td>\n",
       "      <td>2.5</td>\n",
       "      <td>152.783</td>\n",
       "      <td>13.06</td>\n",
       "      <td>6.9</td>\n",
       "      <td>21.4</td>\n",
       "      <td>87.847</td>\n",
       "      <td>1.38</td>\n",
       "      <td>75.05</td>\n",
       "      <td>0.774</td>\n",
       "    </tr>\n",
       "    <tr>\n",
       "      <th>34284</th>\n",
       "      <td>MEX</td>\n",
       "      <td>North America</td>\n",
       "      <td>Mexico</td>\n",
       "      <td>2020-11-13</td>\n",
       "      <td>991835.0</td>\n",
       "      <td>5658.0</td>\n",
       "      <td>6091.143</td>\n",
       "      <td>97056.0</td>\n",
       "      <td>626.0</td>\n",
       "      <td>469.143</td>\n",
       "      <td>7692.654</td>\n",
       "      <td>43.883</td>\n",
       "      <td>47.243</td>\n",
       "      <td>752.765</td>\n",
       "      <td>4.855</td>\n",
       "      <td>3.639</td>\n",
       "      <td>NaN</td>\n",
       "      <td>NaN</td>\n",
       "      <td>NaN</td>\n",
       "      <td>NaN</td>\n",
       "      <td>NaN</td>\n",
       "      <td>NaN</td>\n",
       "      <td>NaN</td>\n",
       "      <td>NaN</td>\n",
       "      <td>NaN</td>\n",
       "      <td>NaN</td>\n",
       "      <td>NaN</td>\n",
       "      <td>NaN</td>\n",
       "      <td>NaN</td>\n",
       "      <td>NaN</td>\n",
       "      <td>NaN</td>\n",
       "      <td>NaN</td>\n",
       "      <td>NaN</td>\n",
       "      <td>NaN</td>\n",
       "      <td>74.54</td>\n",
       "      <td>128932753.0</td>\n",
       "      <td>66.444</td>\n",
       "      <td>29.3</td>\n",
       "      <td>6.857</td>\n",
       "      <td>4.321</td>\n",
       "      <td>17336.469</td>\n",
       "      <td>2.5</td>\n",
       "      <td>152.783</td>\n",
       "      <td>13.06</td>\n",
       "      <td>6.9</td>\n",
       "      <td>21.4</td>\n",
       "      <td>87.847</td>\n",
       "      <td>1.38</td>\n",
       "      <td>75.05</td>\n",
       "      <td>0.774</td>\n",
       "    </tr>\n",
       "    <tr>\n",
       "      <th>34285</th>\n",
       "      <td>MEX</td>\n",
       "      <td>North America</td>\n",
       "      <td>Mexico</td>\n",
       "      <td>2020-11-14</td>\n",
       "      <td>997393.0</td>\n",
       "      <td>5558.0</td>\n",
       "      <td>6037.857</td>\n",
       "      <td>97624.0</td>\n",
       "      <td>568.0</td>\n",
       "      <td>471.571</td>\n",
       "      <td>7735.761</td>\n",
       "      <td>43.108</td>\n",
       "      <td>46.830</td>\n",
       "      <td>757.170</td>\n",
       "      <td>4.405</td>\n",
       "      <td>3.657</td>\n",
       "      <td>NaN</td>\n",
       "      <td>NaN</td>\n",
       "      <td>NaN</td>\n",
       "      <td>NaN</td>\n",
       "      <td>NaN</td>\n",
       "      <td>NaN</td>\n",
       "      <td>NaN</td>\n",
       "      <td>NaN</td>\n",
       "      <td>NaN</td>\n",
       "      <td>NaN</td>\n",
       "      <td>NaN</td>\n",
       "      <td>NaN</td>\n",
       "      <td>NaN</td>\n",
       "      <td>NaN</td>\n",
       "      <td>NaN</td>\n",
       "      <td>NaN</td>\n",
       "      <td>NaN</td>\n",
       "      <td>NaN</td>\n",
       "      <td>74.54</td>\n",
       "      <td>128932753.0</td>\n",
       "      <td>66.444</td>\n",
       "      <td>29.3</td>\n",
       "      <td>6.857</td>\n",
       "      <td>4.321</td>\n",
       "      <td>17336.469</td>\n",
       "      <td>2.5</td>\n",
       "      <td>152.783</td>\n",
       "      <td>13.06</td>\n",
       "      <td>6.9</td>\n",
       "      <td>21.4</td>\n",
       "      <td>87.847</td>\n",
       "      <td>1.38</td>\n",
       "      <td>75.05</td>\n",
       "      <td>0.774</td>\n",
       "    </tr>\n",
       "    <tr>\n",
       "      <th>34286</th>\n",
       "      <td>MEX</td>\n",
       "      <td>North America</td>\n",
       "      <td>Mexico</td>\n",
       "      <td>2020-11-15</td>\n",
       "      <td>1003253.0</td>\n",
       "      <td>5860.0</td>\n",
       "      <td>5902.143</td>\n",
       "      <td>98259.0</td>\n",
       "      <td>635.0</td>\n",
       "      <td>493.000</td>\n",
       "      <td>7781.211</td>\n",
       "      <td>45.450</td>\n",
       "      <td>45.777</td>\n",
       "      <td>762.095</td>\n",
       "      <td>4.925</td>\n",
       "      <td>3.824</td>\n",
       "      <td>NaN</td>\n",
       "      <td>NaN</td>\n",
       "      <td>NaN</td>\n",
       "      <td>NaN</td>\n",
       "      <td>NaN</td>\n",
       "      <td>NaN</td>\n",
       "      <td>NaN</td>\n",
       "      <td>NaN</td>\n",
       "      <td>NaN</td>\n",
       "      <td>NaN</td>\n",
       "      <td>NaN</td>\n",
       "      <td>NaN</td>\n",
       "      <td>NaN</td>\n",
       "      <td>NaN</td>\n",
       "      <td>NaN</td>\n",
       "      <td>NaN</td>\n",
       "      <td>NaN</td>\n",
       "      <td>NaN</td>\n",
       "      <td>74.54</td>\n",
       "      <td>128932753.0</td>\n",
       "      <td>66.444</td>\n",
       "      <td>29.3</td>\n",
       "      <td>6.857</td>\n",
       "      <td>4.321</td>\n",
       "      <td>17336.469</td>\n",
       "      <td>2.5</td>\n",
       "      <td>152.783</td>\n",
       "      <td>13.06</td>\n",
       "      <td>6.9</td>\n",
       "      <td>21.4</td>\n",
       "      <td>87.847</td>\n",
       "      <td>1.38</td>\n",
       "      <td>75.05</td>\n",
       "      <td>0.774</td>\n",
       "    </tr>\n",
       "    <tr>\n",
       "      <th>34287</th>\n",
       "      <td>MEX</td>\n",
       "      <td>North America</td>\n",
       "      <td>Mexico</td>\n",
       "      <td>2020-11-16</td>\n",
       "      <td>1006522.0</td>\n",
       "      <td>3269.0</td>\n",
       "      <td>5528.143</td>\n",
       "      <td>98542.0</td>\n",
       "      <td>283.0</td>\n",
       "      <td>502.143</td>\n",
       "      <td>7806.566</td>\n",
       "      <td>25.354</td>\n",
       "      <td>42.876</td>\n",
       "      <td>764.290</td>\n",
       "      <td>2.195</td>\n",
       "      <td>3.895</td>\n",
       "      <td>NaN</td>\n",
       "      <td>NaN</td>\n",
       "      <td>NaN</td>\n",
       "      <td>NaN</td>\n",
       "      <td>NaN</td>\n",
       "      <td>NaN</td>\n",
       "      <td>NaN</td>\n",
       "      <td>NaN</td>\n",
       "      <td>NaN</td>\n",
       "      <td>NaN</td>\n",
       "      <td>NaN</td>\n",
       "      <td>NaN</td>\n",
       "      <td>NaN</td>\n",
       "      <td>NaN</td>\n",
       "      <td>NaN</td>\n",
       "      <td>NaN</td>\n",
       "      <td>NaN</td>\n",
       "      <td>NaN</td>\n",
       "      <td>74.54</td>\n",
       "      <td>128932753.0</td>\n",
       "      <td>66.444</td>\n",
       "      <td>29.3</td>\n",
       "      <td>6.857</td>\n",
       "      <td>4.321</td>\n",
       "      <td>17336.469</td>\n",
       "      <td>2.5</td>\n",
       "      <td>152.783</td>\n",
       "      <td>13.06</td>\n",
       "      <td>6.9</td>\n",
       "      <td>21.4</td>\n",
       "      <td>87.847</td>\n",
       "      <td>1.38</td>\n",
       "      <td>75.05</td>\n",
       "      <td>0.774</td>\n",
       "    </tr>\n",
       "  </tbody>\n",
       "</table>"
      ]
     },
     "execution_count": 3,
     "metadata": {},
     "output_type": "execute_result"
    }
   ],
   "source": [
    "dfMX = load_data('Mexico')\n",
    "dfMX = dfMX[dfMX['location'].str.contains(\"Mexico\")]\n",
    "ld = len(dfMX)\n",
    "html(dfMX.tail().to_html())"
   ]
  },
  {
   "cell_type": "code",
   "execution_count": 4,
   "metadata": {},
   "outputs": [
    {
     "data": {
      "text/html": [
       "<html><script type=\"math/tex; mode=display\">\\newcommand{\\Bold}[1]{\\mathbf{#1}}\\verb|AxesSubplot(0.125,0.11;0.775x0.77)|</script></html>"
      ],
      "text/plain": [
       "<matplotlib.axes._subplots.AxesSubplot object at 0x6fecade45f8>"
      ]
     },
     "execution_count": 4,
     "metadata": {},
     "output_type": "execute_result"
    }
   ],
   "source": [
    "subnot=1\n",
    "dfMX.set_index('date')[['total_cases','total_deaths']].plot()"
   ]
  },
  {
   "cell_type": "markdown",
   "metadata": {},
   "source": [
    "# Achando o R0:"
   ]
  },
  {
   "cell_type": "code",
   "execution_count": 5,
   "metadata": {},
   "outputs": [
    {
     "data": {
      "text/html": [
       "<html><script type=\"math/tex; mode=display\">\\newcommand{\\Bold}[1]{\\mathbf{#1}}\\left(S, E, \\mathit{Ia}, \\mathit{Is}, R, D, a, \\mathit{ba}, \\mathit{bs}, \\mathit{ca}, \\mathit{cs}, p, q\\right)</script></html>"
      ],
      "text/plain": [
       "(S, E, Ia, Is, R, D, a, ba, bs, ca, cs, p, q)"
      ]
     },
     "execution_count": 5,
     "metadata": {},
     "output_type": "execute_result"
    }
   ],
   "source": [
    "var('S E Ia Is R D a ba bs ca cs p q')"
   ]
  },
  {
   "cell_type": "markdown",
   "metadata": {},
   "source": [
    "### Equilíbrio livre de doença:"
   ]
  },
  {
   "cell_type": "code",
   "execution_count": 13,
   "metadata": {},
   "outputs": [],
   "source": [
    "dsdt  = -(bs * Is + ba * Ia) * S,  # dS/dt\n",
    "dedt  =  (bs * Is + ba * Ia) * S - a * E,  # dE/dt\n",
    "disdt =  (1 - p) * a * E - cs * Is, # dIs/dt\n",
    "diadt =  p * a * E - ca * Ia,  # dIa/dt\n",
    "drdt  =  ca * Ia + cs * q * Is,  # dR/dt\n",
    "dddt  =  cs * (1 - q) * Is,  # dD/dt"
   ]
  },
  {
   "cell_type": "code",
   "execution_count": 14,
   "metadata": {},
   "outputs": [
    {
     "data": {
      "text/html": [
       "<html><script type=\"math/tex; mode=display\">\\newcommand{\\Bold}[1]{\\mathbf{#1}}\\left[\\left[D = c_{31}, E = 0, \\mathit{Ia} = 0, \\mathit{Is} = 0, R = c_{32}, S = c_{33}\\right]\\right]</script></html>"
      ],
      "text/plain": [
       "[[D == c31, E == 0, Ia == 0, Is == 0, R == c32, S == c33]]"
      ]
     },
     "execution_count": 14,
     "metadata": {},
     "output_type": "execute_result"
    }
   ],
   "source": [
    "solve([dsdt, dedt, diadt, disdt, drdt, dddt],[S, E , Ia, Is, R, D])"
   ]
  },
  {
   "cell_type": "markdown",
   "metadata": {},
   "source": [
    "#### Análise de estabilidade:"
   ]
  },
  {
   "cell_type": "code",
   "execution_count": null,
   "metadata": {},
   "outputs": [],
   "source": [
    "#fazer"
   ]
  },
  {
   "cell_type": "code",
   "execution_count": 15,
   "metadata": {
    "scrolled": true
   },
   "outputs": [
    {
     "ename": "TypeError",
     "evalue": "unable to convert (-(Ia*ba + Is*bs)*S,) to a symbolic expression",
     "output_type": "error",
     "traceback": [
      "\u001b[0;31m---------------------------------------------------------------------------\u001b[0m",
      "\u001b[0;31mTypeError\u001b[0m                                 Traceback (most recent call last)",
      "\u001b[0;32m<ipython-input-15-ef4d446b316e>\u001b[0m in \u001b[0;36m<module>\u001b[0;34m()\u001b[0m\n\u001b[0;32m----> 1\u001b[0;31m \u001b[0mjack\u001b[0m \u001b[0;34m=\u001b[0m \u001b[0mjacobian\u001b[0m\u001b[0;34m(\u001b[0m\u001b[0;34m[\u001b[0m\u001b[0mdsdt\u001b[0m\u001b[0;34m,\u001b[0m \u001b[0mdedt\u001b[0m\u001b[0;34m,\u001b[0m \u001b[0mdiadt\u001b[0m\u001b[0;34m,\u001b[0m \u001b[0mdisdt\u001b[0m\u001b[0;34m,\u001b[0m \u001b[0mdrdt\u001b[0m\u001b[0;34m,\u001b[0m \u001b[0mdddt\u001b[0m\u001b[0;34m]\u001b[0m\u001b[0;34m,\u001b[0m\u001b[0;34m[\u001b[0m\u001b[0mS\u001b[0m\u001b[0;34m,\u001b[0m \u001b[0mE\u001b[0m \u001b[0;34m,\u001b[0m \u001b[0mIa\u001b[0m\u001b[0;34m,\u001b[0m \u001b[0mIs\u001b[0m\u001b[0;34m,\u001b[0m \u001b[0mR\u001b[0m\u001b[0;34m,\u001b[0m \u001b[0mD\u001b[0m\u001b[0;34m]\u001b[0m\u001b[0;34m)\u001b[0m\u001b[0;34m\u001b[0m\u001b[0;34m\u001b[0m\u001b[0m\n\u001b[0m\u001b[1;32m      2\u001b[0m \u001b[0mjack\u001b[0m\u001b[0;34m\u001b[0m\u001b[0;34m\u001b[0m\u001b[0m\n",
      "\u001b[0;32m/opt/sagemath-9.1/local/lib/python3.7/site-packages/sage/calculus/functions.py\u001b[0m in \u001b[0;36mjacobian\u001b[0;34m(functions, variables)\u001b[0m\n\u001b[1;32m    145\u001b[0m         \u001b[0mvariables\u001b[0m \u001b[0;34m=\u001b[0m \u001b[0;34m[\u001b[0m\u001b[0mvariables\u001b[0m\u001b[0;34m]\u001b[0m\u001b[0;34m\u001b[0m\u001b[0;34m\u001b[0m\u001b[0m\n\u001b[1;32m    146\u001b[0m \u001b[0;34m\u001b[0m\u001b[0m\n\u001b[0;32m--> 147\u001b[0;31m     \u001b[0;32mreturn\u001b[0m \u001b[0mmatrix\u001b[0m\u001b[0;34m(\u001b[0m\u001b[0;34m[\u001b[0m\u001b[0;34m[\u001b[0m\u001b[0mdiff\u001b[0m\u001b[0;34m(\u001b[0m\u001b[0mf\u001b[0m\u001b[0;34m,\u001b[0m \u001b[0mv\u001b[0m\u001b[0;34m)\u001b[0m \u001b[0;32mfor\u001b[0m \u001b[0mv\u001b[0m \u001b[0;32min\u001b[0m \u001b[0mvariables\u001b[0m\u001b[0;34m]\u001b[0m \u001b[0;32mfor\u001b[0m \u001b[0mf\u001b[0m \u001b[0;32min\u001b[0m \u001b[0mfunctions\u001b[0m\u001b[0;34m]\u001b[0m\u001b[0;34m)\u001b[0m\u001b[0;34m\u001b[0m\u001b[0;34m\u001b[0m\u001b[0m\n\u001b[0m",
      "\u001b[0;32m/opt/sagemath-9.1/local/lib/python3.7/site-packages/sage/calculus/functions.py\u001b[0m in \u001b[0;36m<listcomp>\u001b[0;34m(.0)\u001b[0m\n\u001b[1;32m    145\u001b[0m         \u001b[0mvariables\u001b[0m \u001b[0;34m=\u001b[0m \u001b[0;34m[\u001b[0m\u001b[0mvariables\u001b[0m\u001b[0;34m]\u001b[0m\u001b[0;34m\u001b[0m\u001b[0;34m\u001b[0m\u001b[0m\n\u001b[1;32m    146\u001b[0m \u001b[0;34m\u001b[0m\u001b[0m\n\u001b[0;32m--> 147\u001b[0;31m     \u001b[0;32mreturn\u001b[0m \u001b[0mmatrix\u001b[0m\u001b[0;34m(\u001b[0m\u001b[0;34m[\u001b[0m\u001b[0;34m[\u001b[0m\u001b[0mdiff\u001b[0m\u001b[0;34m(\u001b[0m\u001b[0mf\u001b[0m\u001b[0;34m,\u001b[0m \u001b[0mv\u001b[0m\u001b[0;34m)\u001b[0m \u001b[0;32mfor\u001b[0m \u001b[0mv\u001b[0m \u001b[0;32min\u001b[0m \u001b[0mvariables\u001b[0m\u001b[0;34m]\u001b[0m \u001b[0;32mfor\u001b[0m \u001b[0mf\u001b[0m \u001b[0;32min\u001b[0m \u001b[0mfunctions\u001b[0m\u001b[0;34m]\u001b[0m\u001b[0;34m)\u001b[0m\u001b[0;34m\u001b[0m\u001b[0;34m\u001b[0m\u001b[0m\n\u001b[0m",
      "\u001b[0;32m/opt/sagemath-9.1/local/lib/python3.7/site-packages/sage/calculus/functions.py\u001b[0m in \u001b[0;36m<listcomp>\u001b[0;34m(.0)\u001b[0m\n\u001b[1;32m    145\u001b[0m         \u001b[0mvariables\u001b[0m \u001b[0;34m=\u001b[0m \u001b[0;34m[\u001b[0m\u001b[0mvariables\u001b[0m\u001b[0;34m]\u001b[0m\u001b[0;34m\u001b[0m\u001b[0;34m\u001b[0m\u001b[0m\n\u001b[1;32m    146\u001b[0m \u001b[0;34m\u001b[0m\u001b[0m\n\u001b[0;32m--> 147\u001b[0;31m     \u001b[0;32mreturn\u001b[0m \u001b[0mmatrix\u001b[0m\u001b[0;34m(\u001b[0m\u001b[0;34m[\u001b[0m\u001b[0;34m[\u001b[0m\u001b[0mdiff\u001b[0m\u001b[0;34m(\u001b[0m\u001b[0mf\u001b[0m\u001b[0;34m,\u001b[0m \u001b[0mv\u001b[0m\u001b[0;34m)\u001b[0m \u001b[0;32mfor\u001b[0m \u001b[0mv\u001b[0m \u001b[0;32min\u001b[0m \u001b[0mvariables\u001b[0m\u001b[0;34m]\u001b[0m \u001b[0;32mfor\u001b[0m \u001b[0mf\u001b[0m \u001b[0;32min\u001b[0m \u001b[0mfunctions\u001b[0m\u001b[0;34m]\u001b[0m\u001b[0;34m)\u001b[0m\u001b[0;34m\u001b[0m\u001b[0;34m\u001b[0m\u001b[0m\n\u001b[0m",
      "\u001b[0;32m/opt/sagemath-9.1/local/lib/python3.7/site-packages/sage/calculus/functional.py\u001b[0m in \u001b[0;36mderivative\u001b[0;34m(f, *args, **kwds)\u001b[0m\n\u001b[1;32m    133\u001b[0m         \u001b[0;32mpass\u001b[0m\u001b[0;34m\u001b[0m\u001b[0;34m\u001b[0m\u001b[0m\n\u001b[1;32m    134\u001b[0m     \u001b[0;32mif\u001b[0m \u001b[0;32mnot\u001b[0m \u001b[0misinstance\u001b[0m\u001b[0;34m(\u001b[0m\u001b[0mf\u001b[0m\u001b[0;34m,\u001b[0m \u001b[0mExpression\u001b[0m\u001b[0;34m)\u001b[0m\u001b[0;34m:\u001b[0m\u001b[0;34m\u001b[0m\u001b[0;34m\u001b[0m\u001b[0m\n\u001b[0;32m--> 135\u001b[0;31m         \u001b[0mf\u001b[0m \u001b[0;34m=\u001b[0m \u001b[0mSR\u001b[0m\u001b[0;34m(\u001b[0m\u001b[0mf\u001b[0m\u001b[0;34m)\u001b[0m\u001b[0;34m\u001b[0m\u001b[0;34m\u001b[0m\u001b[0m\n\u001b[0m\u001b[1;32m    136\u001b[0m     \u001b[0;32mreturn\u001b[0m \u001b[0mf\u001b[0m\u001b[0;34m.\u001b[0m\u001b[0mderivative\u001b[0m\u001b[0;34m(\u001b[0m\u001b[0;34m*\u001b[0m\u001b[0margs\u001b[0m\u001b[0;34m,\u001b[0m \u001b[0;34m**\u001b[0m\u001b[0mkwds\u001b[0m\u001b[0;34m)\u001b[0m\u001b[0;34m\u001b[0m\u001b[0;34m\u001b[0m\u001b[0m\n\u001b[1;32m    137\u001b[0m \u001b[0;34m\u001b[0m\u001b[0m\n",
      "\u001b[0;32m/opt/sagemath-9.1/local/lib/python3.7/site-packages/sage/structure/parent.pyx\u001b[0m in \u001b[0;36msage.structure.parent.Parent.__call__ (build/cythonized/sage/structure/parent.c:9218)\u001b[0;34m()\u001b[0m\n\u001b[1;32m    898\u001b[0m         \u001b[0;32mif\u001b[0m \u001b[0mmor\u001b[0m \u001b[0;32mis\u001b[0m \u001b[0;32mnot\u001b[0m \u001b[0;32mNone\u001b[0m\u001b[0;34m:\u001b[0m\u001b[0;34m\u001b[0m\u001b[0;34m\u001b[0m\u001b[0m\n\u001b[1;32m    899\u001b[0m             \u001b[0;32mif\u001b[0m \u001b[0mno_extra_args\u001b[0m\u001b[0;34m:\u001b[0m\u001b[0;34m\u001b[0m\u001b[0;34m\u001b[0m\u001b[0m\n\u001b[0;32m--> 900\u001b[0;31m                 \u001b[0;32mreturn\u001b[0m \u001b[0mmor\u001b[0m\u001b[0;34m.\u001b[0m\u001b[0m_call_\u001b[0m\u001b[0;34m(\u001b[0m\u001b[0mx\u001b[0m\u001b[0;34m)\u001b[0m\u001b[0;34m\u001b[0m\u001b[0;34m\u001b[0m\u001b[0m\n\u001b[0m\u001b[1;32m    901\u001b[0m             \u001b[0;32melse\u001b[0m\u001b[0;34m:\u001b[0m\u001b[0;34m\u001b[0m\u001b[0;34m\u001b[0m\u001b[0m\n\u001b[1;32m    902\u001b[0m                 \u001b[0;32mreturn\u001b[0m \u001b[0mmor\u001b[0m\u001b[0;34m.\u001b[0m\u001b[0m_call_with_args\u001b[0m\u001b[0;34m(\u001b[0m\u001b[0mx\u001b[0m\u001b[0;34m,\u001b[0m \u001b[0margs\u001b[0m\u001b[0;34m,\u001b[0m \u001b[0mkwds\u001b[0m\u001b[0;34m)\u001b[0m\u001b[0;34m\u001b[0m\u001b[0;34m\u001b[0m\u001b[0m\n",
      "\u001b[0;32m/opt/sagemath-9.1/local/lib/python3.7/site-packages/sage/structure/coerce_maps.pyx\u001b[0m in \u001b[0;36msage.structure.coerce_maps.DefaultConvertMap_unique._call_ (build/cythonized/sage/structure/coerce_maps.c:4556)\u001b[0;34m()\u001b[0m\n\u001b[1;32m    159\u001b[0m                 \u001b[0mprint\u001b[0m\u001b[0;34m(\u001b[0m\u001b[0mtype\u001b[0m\u001b[0;34m(\u001b[0m\u001b[0mC\u001b[0m\u001b[0;34m)\u001b[0m\u001b[0;34m,\u001b[0m \u001b[0mC\u001b[0m\u001b[0;34m)\u001b[0m\u001b[0;34m\u001b[0m\u001b[0;34m\u001b[0m\u001b[0m\n\u001b[1;32m    160\u001b[0m                 \u001b[0mprint\u001b[0m\u001b[0;34m(\u001b[0m\u001b[0mtype\u001b[0m\u001b[0;34m(\u001b[0m\u001b[0mC\u001b[0m\u001b[0;34m.\u001b[0m\u001b[0m_element_constructor\u001b[0m\u001b[0;34m)\u001b[0m\u001b[0;34m,\u001b[0m \u001b[0mC\u001b[0m\u001b[0;34m.\u001b[0m\u001b[0m_element_constructor\u001b[0m\u001b[0;34m)\u001b[0m\u001b[0;34m\u001b[0m\u001b[0;34m\u001b[0m\u001b[0m\n\u001b[0;32m--> 161\u001b[0;31m             \u001b[0;32mraise\u001b[0m\u001b[0;34m\u001b[0m\u001b[0;34m\u001b[0m\u001b[0m\n\u001b[0m\u001b[1;32m    162\u001b[0m \u001b[0;34m\u001b[0m\u001b[0m\n\u001b[1;32m    163\u001b[0m     \u001b[0mcpdef\u001b[0m \u001b[0mElement\u001b[0m \u001b[0m_call_with_args\u001b[0m\u001b[0;34m(\u001b[0m\u001b[0mself\u001b[0m\u001b[0;34m,\u001b[0m \u001b[0mx\u001b[0m\u001b[0;34m,\u001b[0m \u001b[0margs\u001b[0m\u001b[0;34m=\u001b[0m\u001b[0;34m(\u001b[0m\u001b[0;34m)\u001b[0m\u001b[0;34m,\u001b[0m \u001b[0mkwds\u001b[0m\u001b[0;34m=\u001b[0m\u001b[0;34m{\u001b[0m\u001b[0;34m}\u001b[0m\u001b[0;34m)\u001b[0m\u001b[0;34m:\u001b[0m\u001b[0;34m\u001b[0m\u001b[0;34m\u001b[0m\u001b[0m\n",
      "\u001b[0;32m/opt/sagemath-9.1/local/lib/python3.7/site-packages/sage/structure/coerce_maps.pyx\u001b[0m in \u001b[0;36msage.structure.coerce_maps.DefaultConvertMap_unique._call_ (build/cythonized/sage/structure/coerce_maps.c:4448)\u001b[0;34m()\u001b[0m\n\u001b[1;32m    154\u001b[0m         \u001b[0mcdef\u001b[0m \u001b[0mParent\u001b[0m \u001b[0mC\u001b[0m \u001b[0;34m=\u001b[0m \u001b[0mself\u001b[0m\u001b[0;34m.\u001b[0m\u001b[0m_codomain\u001b[0m\u001b[0;34m\u001b[0m\u001b[0;34m\u001b[0m\u001b[0m\n\u001b[1;32m    155\u001b[0m         \u001b[0;32mtry\u001b[0m\u001b[0;34m:\u001b[0m\u001b[0;34m\u001b[0m\u001b[0;34m\u001b[0m\u001b[0m\n\u001b[0;32m--> 156\u001b[0;31m             \u001b[0;32mreturn\u001b[0m \u001b[0mC\u001b[0m\u001b[0;34m.\u001b[0m\u001b[0m_element_constructor\u001b[0m\u001b[0;34m(\u001b[0m\u001b[0mx\u001b[0m\u001b[0;34m)\u001b[0m\u001b[0;34m\u001b[0m\u001b[0;34m\u001b[0m\u001b[0m\n\u001b[0m\u001b[1;32m    157\u001b[0m         \u001b[0;32mexcept\u001b[0m \u001b[0mException\u001b[0m\u001b[0;34m:\u001b[0m\u001b[0;34m\u001b[0m\u001b[0;34m\u001b[0m\u001b[0m\n\u001b[1;32m    158\u001b[0m             \u001b[0;32mif\u001b[0m \u001b[0mprint_warnings\u001b[0m\u001b[0;34m:\u001b[0m\u001b[0;34m\u001b[0m\u001b[0;34m\u001b[0m\u001b[0m\n",
      "\u001b[0;32m/opt/sagemath-9.1/local/lib/python3.7/site-packages/sage/symbolic/ring.pyx\u001b[0m in \u001b[0;36msage.symbolic.ring.SymbolicRing._element_constructor_ (build/cythonized/sage/symbolic/ring.cpp:6976)\u001b[0;34m()\u001b[0m\n\u001b[1;32m    383\u001b[0m             \u001b[0;32mreturn\u001b[0m \u001b[0mprod\u001b[0m\u001b[0;34m(\u001b[0m\u001b[0;34m[\u001b[0m\u001b[0mSR\u001b[0m\u001b[0;34m(\u001b[0m\u001b[0mp\u001b[0m\u001b[0;34m)\u001b[0m\u001b[0;34m**\u001b[0m\u001b[0me\u001b[0m \u001b[0;32mfor\u001b[0m \u001b[0mp\u001b[0m\u001b[0;34m,\u001b[0m\u001b[0me\u001b[0m \u001b[0;32min\u001b[0m \u001b[0mx\u001b[0m\u001b[0;34m]\u001b[0m\u001b[0;34m,\u001b[0m \u001b[0mSR\u001b[0m\u001b[0;34m(\u001b[0m\u001b[0mx\u001b[0m\u001b[0;34m.\u001b[0m\u001b[0munit\u001b[0m\u001b[0;34m(\u001b[0m\u001b[0;34m)\u001b[0m\u001b[0;34m)\u001b[0m\u001b[0;34m)\u001b[0m\u001b[0;34m\u001b[0m\u001b[0;34m\u001b[0m\u001b[0m\n\u001b[1;32m    384\u001b[0m         \u001b[0;32melse\u001b[0m\u001b[0;34m:\u001b[0m\u001b[0;34m\u001b[0m\u001b[0;34m\u001b[0m\u001b[0m\n\u001b[0;32m--> 385\u001b[0;31m             \u001b[0;32mraise\u001b[0m \u001b[0mTypeError\u001b[0m\u001b[0;34m(\u001b[0m\u001b[0;34mf\"unable to convert {x!r} to a symbolic expression\"\u001b[0m\u001b[0;34m)\u001b[0m\u001b[0;34m\u001b[0m\u001b[0;34m\u001b[0m\u001b[0m\n\u001b[0m\u001b[1;32m    386\u001b[0m \u001b[0;34m\u001b[0m\u001b[0m\n\u001b[1;32m    387\u001b[0m         \u001b[0;32mreturn\u001b[0m \u001b[0mnew_Expression_from_GEx\u001b[0m\u001b[0;34m(\u001b[0m\u001b[0mself\u001b[0m\u001b[0;34m,\u001b[0m \u001b[0mexp\u001b[0m\u001b[0;34m)\u001b[0m\u001b[0;34m\u001b[0m\u001b[0;34m\u001b[0m\u001b[0m\n",
      "\u001b[0;31mTypeError\u001b[0m: unable to convert (-(Ia*ba + Is*bs)*S,) to a symbolic expression"
     ]
    }
   ],
   "source": [
    "jack = jacobian([dsdt, dedt, diadt, disdt, drdt, dddt],[S, E , Ia, Is, R, D])\n",
    "jack"
   ]
  },
  {
   "cell_type": "code",
   "execution_count": 9,
   "metadata": {},
   "outputs": [
    {
     "data": {
      "text/html": [
       "<html><script type=\"math/tex; mode=display\">\\newcommand{\\Bold}[1]{\\mathbf{#1}}x^{6} + \\left(\\mathit{Ia} \\mathit{ba} + \\mathit{Is} \\mathit{bs} + a + \\mathit{ca} + \\mathit{cs}\\right) x^{5} + \\left(-S a \\mathit{ba} p + S a \\mathit{bs} p + \\mathit{Ia} a \\mathit{ba} + \\mathit{Is} a \\mathit{bs} - S a \\mathit{bs} + \\mathit{Ia} \\mathit{ba} \\mathit{ca} + \\mathit{Is} \\mathit{bs} \\mathit{ca} + \\mathit{Ia} \\mathit{ba} \\mathit{cs} + \\mathit{Is} \\mathit{bs} \\mathit{cs} + a \\mathit{ca} + a \\mathit{cs} + \\mathit{ca} \\mathit{cs}\\right) x^{4} + \\left(S a \\mathit{bs} \\mathit{ca} p - S a \\mathit{ba} \\mathit{cs} p + \\mathit{Ia} a \\mathit{ba} \\mathit{ca} + \\mathit{Is} a \\mathit{bs} \\mathit{ca} - S a \\mathit{bs} \\mathit{ca} + \\mathit{Ia} a \\mathit{ba} \\mathit{cs} + \\mathit{Is} a \\mathit{bs} \\mathit{cs} + \\mathit{Ia} \\mathit{ba} \\mathit{ca} \\mathit{cs} + \\mathit{Is} \\mathit{bs} \\mathit{ca} \\mathit{cs} + a \\mathit{ca} \\mathit{cs}\\right) x^{3} + \\left(\\mathit{Ia} a \\mathit{ba} \\mathit{ca} \\mathit{cs} + \\mathit{Is} a \\mathit{bs} \\mathit{ca} \\mathit{cs}\\right) x^{2}</script></html>"
      ],
      "text/plain": [
       "x^6 + (Ia*ba + Is*bs + a + ca + cs)*x^5 + (-S*a*ba*p + S*a*bs*p + Ia*a*ba + Is*a*bs - S*a*bs + Ia*ba*ca + Is*bs*ca + Ia*ba*cs + Is*bs*cs + a*ca + a*cs + ca*cs)*x^4 + (S*a*bs*ca*p - S*a*ba*cs*p + Ia*a*ba*ca + Is*a*bs*ca - S*a*bs*ca + Ia*a*ba*cs + Is*a*bs*cs + Ia*ba*ca*cs + Is*bs*ca*cs + a*ca*cs)*x^3 + (Ia*a*ba*ca*cs + Is*a*bs*ca*cs)*x^2"
      ]
     },
     "execution_count": 9,
     "metadata": {},
     "output_type": "execute_result"
    }
   ],
   "source": [
    "cp = jack.characteristic_polynomial()\n",
    "cp"
   ]
  },
  {
   "cell_type": "code",
   "execution_count": null,
   "metadata": {},
   "outputs": [],
   "source": [
    "desolve_rk4(-x^3,x,ics=[0,.2],ivar='t', end_points=500, output='slope_field')"
   ]
  },
  {
   "cell_type": "markdown",
   "metadata": {},
   "source": [
    "### Cálculo do $R_0$ analítico:"
   ]
  },
  {
   "cell_type": "code",
   "execution_count": 10,
   "metadata": {},
   "outputs": [
    {
     "data": {
      "text/html": [
       "<html><script type=\"math/tex; mode=display\">\\newcommand{\\Bold}[1]{\\mathbf{#1}}\\left(\\begin{array}{r}\n",
       "-{\\left(\\mathit{Ia} \\mathit{ba} + \\mathit{Is} \\mathit{bs}\\right)} S \\\\\n",
       "0 \\\\\n",
       "0\n",
       "\\end{array}\\right)</script></html>"
      ],
      "text/plain": [
       "[-(Ia*ba + Is*bs)*S]\n",
       "[                 0]\n",
       "[                 0]"
      ]
     },
     "execution_count": 10,
     "metadata": {},
     "output_type": "execute_result"
    }
   ],
   "source": [
    "F_cal = matrix([[-(bs * Is + ba * Ia) * S],[0],[0]])\n",
    "F_cal"
   ]
  },
  {
   "cell_type": "code",
   "execution_count": 11,
   "metadata": {},
   "outputs": [
    {
     "data": {
      "text/html": [
       "<html><script type=\"math/tex; mode=display\">\\newcommand{\\Bold}[1]{\\mathbf{#1}}\\left(\\begin{array}{r}\n",
       "E {\\left(\\mathit{ba} + \\mathit{bs}\\right)} \\\\\n",
       "\\mathit{Is} a \\\\\n",
       "\\mathit{Ia} a\n",
       "\\end{array}\\right)</script></html>"
      ],
      "text/plain": [
       "[E*(ba + bs)]\n",
       "[       Is*a]\n",
       "[       Ia*a]"
      ]
     },
     "execution_count": 11,
     "metadata": {},
     "output_type": "execute_result"
    }
   ],
   "source": [
    "V_cal_neg = matrix([[(bs+ba)*E],[a*Is],[a*Ia]])\n",
    "V_cal_neg"
   ]
  },
  {
   "cell_type": "code",
   "execution_count": 12,
   "metadata": {},
   "outputs": [
    {
     "data": {
      "text/html": [
       "<html><script type=\"math/tex; mode=display\">\\newcommand{\\Bold}[1]{\\mathbf{#1}}\\left(\\begin{array}{r}\n",
       "0 \\\\\n",
       "-E {\\left(\\mathit{ba} + \\mathit{bs}\\right)} {\\left(p - 1\\right)} \\\\\n",
       "E {\\left(\\mathit{ba} + \\mathit{bs}\\right)} p\n",
       "\\end{array}\\right)</script></html>"
      ],
      "text/plain": [
       "[                   0]\n",
       "[-E*(ba + bs)*(p - 1)]\n",
       "[       E*(ba + bs)*p]"
      ]
     },
     "execution_count": 12,
     "metadata": {},
     "output_type": "execute_result"
    }
   ],
   "source": [
    "V_cal_pos = matrix([[0],[(1-p)*(bs+ba)*E],[p*(bs+ba)*E]])\n",
    "V_cal_pos"
   ]
  },
  {
   "cell_type": "code",
   "execution_count": 13,
   "metadata": {},
   "outputs": [
    {
     "data": {
      "text/html": [
       "<html><script type=\"math/tex; mode=display\">\\newcommand{\\Bold}[1]{\\mathbf{#1}}\\left(\\begin{array}{r}\n",
       "E {\\left(\\mathit{ba} + \\mathit{bs}\\right)} \\\\\n",
       "E {\\left(\\mathit{ba} + \\mathit{bs}\\right)} {\\left(p - 1\\right)} + \\mathit{Is} a \\\\\n",
       "-E {\\left(\\mathit{ba} + \\mathit{bs}\\right)} p + \\mathit{Ia} a\n",
       "\\end{array}\\right)</script></html>"
      ],
      "text/plain": [
       "[               E*(ba + bs)]\n",
       "[E*(ba + bs)*(p - 1) + Is*a]\n",
       "[     -E*(ba + bs)*p + Ia*a]"
      ]
     },
     "execution_count": 13,
     "metadata": {},
     "output_type": "execute_result"
    }
   ],
   "source": [
    "V_cal = V_cal_neg-V_cal_pos\n",
    "V_cal"
   ]
  },
  {
   "cell_type": "code",
   "execution_count": 14,
   "metadata": {},
   "outputs": [
    {
     "data": {
      "text/html": [
       "<html><script type=\"math/tex; mode=display\">\\newcommand{\\Bold}[1]{\\mathbf{#1}}\\left(\\begin{array}{rrr}\n",
       "0 & -\\mathit{bs} & -\\mathit{ba} \\\\\n",
       "0 & 0 & 0 \\\\\n",
       "0 & 0 & 0\n",
       "\\end{array}\\right)</script></html>"
      ],
      "text/plain": [
       "[  0 -bs -ba]\n",
       "[  0   0   0]\n",
       "[  0   0   0]"
      ]
     },
     "execution_count": 14,
     "metadata": {},
     "output_type": "execute_result"
    }
   ],
   "source": [
    "F = jacobian(F_cal(S=1),[E,Is,Ia])\n",
    "F"
   ]
  },
  {
   "cell_type": "code",
   "execution_count": 15,
   "metadata": {},
   "outputs": [
    {
     "data": {
      "text/html": [
       "<html><script type=\"math/tex; mode=display\">\\newcommand{\\Bold}[1]{\\mathbf{#1}}\\left(\\begin{array}{rrr}\n",
       "\\mathit{ba} + \\mathit{bs} & 0 & 0 \\\\\n",
       "{\\left(\\mathit{ba} + \\mathit{bs}\\right)} {\\left(p - 1\\right)} & a & 0 \\\\\n",
       "-{\\left(\\mathit{ba} + \\mathit{bs}\\right)} p & 0 & a\n",
       "\\end{array}\\right)</script></html>"
      ],
      "text/plain": [
       "[          ba + bs                 0                 0]\n",
       "[(ba + bs)*(p - 1)                 a                 0]\n",
       "[     -(ba + bs)*p                 0                 a]"
      ]
     },
     "execution_count": 15,
     "metadata": {},
     "output_type": "execute_result"
    }
   ],
   "source": [
    "V = jacobian(V_cal(S=1),[E,Is,Ia])\n",
    "V"
   ]
  },
  {
   "cell_type": "markdown",
   "metadata": {},
   "source": [
    "$R_0 = p(FV^{-1})$"
   ]
  },
  {
   "cell_type": "code",
   "execution_count": 16,
   "metadata": {},
   "outputs": [],
   "source": [
    "M = F*V.inverse()"
   ]
  },
  {
   "cell_type": "code",
   "execution_count": 17,
   "metadata": {},
   "outputs": [
    {
     "data": {
      "text/html": [
       "<html><script type=\"math/tex; mode=display\">\\newcommand{\\Bold}[1]{\\mathbf{#1}}\\left(\\begin{array}{rrr}\n",
       "-\\frac{{\\left(\\mathit{ba} - \\mathit{bs}\\right)} p + \\mathit{bs}}{a} & -\\frac{\\mathit{bs}}{a} & -\\frac{\\mathit{ba}}{a} \\\\\n",
       "0 & 0 & 0 \\\\\n",
       "0 & 0 & 0\n",
       "\\end{array}\\right)</script></html>"
      ],
      "text/plain": [
       "[-((ba - bs)*p + bs)/a                 -bs/a                 -ba/a]\n",
       "[                    0                     0                     0]\n",
       "[                    0                     0                     0]"
      ]
     },
     "execution_count": 17,
     "metadata": {},
     "output_type": "execute_result"
    }
   ],
   "source": [
    "M=M.simplify_full()\n",
    "M"
   ]
  },
  {
   "cell_type": "code",
   "execution_count": 18,
   "metadata": {},
   "outputs": [
    {
     "data": {
      "text/html": [
       "<html><script type=\"math/tex; mode=display\">\\newcommand{\\Bold}[1]{\\mathbf{#1}}\\left[-\\frac{{\\left(\\mathit{ba} - \\mathit{bs}\\right)} p + \\mathit{bs}}{a}, 0, 0\\right]</script></html>"
      ],
      "text/plain": [
       "[-((ba - bs)*p + bs)/a, 0, 0]"
      ]
     },
     "execution_count": 18,
     "metadata": {},
     "output_type": "execute_result"
    }
   ],
   "source": [
    "M.eigenvalues()"
   ]
  },
  {
   "cell_type": "code",
   "execution_count": 19,
   "metadata": {},
   "outputs": [
    {
     "data": {
      "text/html": [
       "<html><script type=\"math/tex; mode=display\">\\newcommand{\\Bold}[1]{\\mathbf{#1}}-\\frac{{\\left(\\mathit{ba} - \\mathit{bs}\\right)} p + \\mathit{bs}}{a}</script></html>"
      ],
      "text/plain": [
       "-((ba - bs)*p + bs)/a"
      ]
     },
     "execution_count": 19,
     "metadata": {},
     "output_type": "execute_result"
    }
   ],
   "source": [
    "R0=M[0,0].simplify_full()\n",
    "R0"
   ]
  },
  {
   "cell_type": "markdown",
   "metadata": {},
   "source": [
    "# Simulação:"
   ]
  },
  {
   "cell_type": "code",
   "execution_count": 22,
   "metadata": {},
   "outputs": [],
   "source": [
    "import numpy as np\n",
    "import pandas as pd\n",
    "%display typeset"
   ]
  },
  {
   "cell_type": "code",
   "execution_count": 23,
   "metadata": {},
   "outputs": [],
   "source": [
    "def model(t, y, params):\n",
    "    S, E, Is, Ia, R, D = y\n",
    "    a, ba, bs, ca, cs, p, q = params\n",
    "    return [\n",
    "        -(bs * Is + ba * Ia) * S,  # dS/dt\n",
    "        (bs * Is + ba * Ia) * S - a * E,  # dE/dt\n",
    "        (1 - p) * a * E - cs * Is, # dIs/dt\n",
    "        p * a * E - ca * Ia,  # dIa/dt\n",
    "        ca * Ia + cs * q * Is,  # dR/dt\n",
    "        cs * (1 - q) * Is,  # dD/dt\n",
    "    ]"
   ]
  },
  {
   "cell_type": "code",
   "execution_count": 24,
   "metadata": {},
   "outputs": [],
   "source": [
    "a = 0.42\n",
    "ba = 0.74\n",
    "bs = 0.63\n",
    "ca = 0.43\n",
    "cs = 0.35\n",
    "p = 0.64\n",
    "q = 0.53"
   ]
  },
  {
   "cell_type": "code",
   "execution_count": 25,
   "metadata": {},
   "outputs": [],
   "source": [
    "T = ode_solver()\n",
    "T.function = model\n",
    "T.algorithm='rk8pd'\n",
    "inits = [.99, 0, 1e-4, 0, 0, 0]\n",
    "tspan = [0,100]\n",
    "T.ode_solve(tspan, inits, num_points=200, params=[a, ba, bs, ca, cs, p, q])"
   ]
  },
  {
   "cell_type": "code",
   "execution_count": 26,
   "metadata": {},
   "outputs": [
    {
     "data": {
      "text/html": [
       "<html><script type=\"math/tex; mode=display\">\\newcommand{\\Bold}[1]{\\mathbf{#1}}\\begin{array}{l}\n",
       "\\verb|[[9.90000000e-01|\\phantom{\\verb!x!}\\verb|0.00000000e+00|\\phantom{\\verb!x!}\\verb|1.00000000e-04|\\phantom{\\verb!x!}\\verb|0.00000000e+00|\\\\\n",
       "\\phantom{\\verb!xx!}\\verb|0.00000000e+00|\\phantom{\\verb!x!}\\verb|0.00000000e+00]|\\\\\n",
       "\\phantom{\\verb!x!}\\verb|[9.89971063e-01|\\phantom{\\verb!x!}\\verb|2.60364326e-05|\\phantom{\\verb!x!}\\verb|8.49296965e-05|\\phantom{\\verb!x!}\\verb|1.72621905e-06|\\\\\n",
       "\\phantom{\\verb!xx!}\\verb|8.67042555e-06|\\phantom{\\verb!x!}\\verb|7.57373561e-06]|\\\\\n",
       "\\phantom{\\verb!x!}\\verb|[9.89945081e-01|\\phantom{\\verb!x!}\\verb|4.45092535e-05|\\phantom{\\verb!x!}\\verb|7.37936056e-05|\\phantom{\\verb!x!}\\verb|5.75679948e-06|\\\\\n",
       "\\phantom{\\verb!xx!}\\verb|1.67810679e-05|\\phantom{\\verb!x!}\\verb|1.40783469e-05]|\\\\\n",
       "\\phantom{\\verb!x!}\\verb|...|\\\\\n",
       "\\phantom{\\verb!x!}\\verb|[2.98909322e-01|\\phantom{\\verb!x!}\\verb|2.67096345e-03|\\phantom{\\verb!x!}\\verb|1.69229935e-03|\\phantom{\\verb!x!}\\verb|2.25890727e-03|\\\\\n",
       "\\phantom{\\verb!xx!}\\verb|5.68836273e-01|\\phantom{\\verb!x!}\\verb|1.15732235e-01]|\\\\\n",
       "\\phantom{\\verb!x!}\\verb|[2.98511658e-01|\\phantom{\\verb!x!}\\verb|2.52336636e-03|\\phantom{\\verb!x!}\\verb|1.60054124e-03|\\phantom{\\verb!x!}\\verb|2.13558597e-03|\\\\\n",
       "\\phantom{\\verb!xx!}\\verb|5.69461229e-01|\\phantom{\\verb!x!}\\verb|1.15867619e-01]|\\\\\n",
       "\\phantom{\\verb!x!}\\verb|[2.98136155e-01|\\phantom{\\verb!x!}\\verb|2.38375787e-03|\\phantom{\\verb!x!}\\verb|1.51356526e-03|\\phantom{\\verb!x!}\\verb|2.01877733e-03|\\\\\n",
       "\\phantom{\\verb!xx!}\\verb|5.70052090e-01|\\phantom{\\verb!x!}\\verb|1.15995655e-01]]|\n",
       "\\end{array}</script></html>"
      ],
      "text/plain": [
       "array([[9.90000000e-01, 0.00000000e+00, 1.00000000e-04, 0.00000000e+00,\n",
       "        0.00000000e+00, 0.00000000e+00],\n",
       "       [9.89971063e-01, 2.60364326e-05, 8.49296965e-05, 1.72621905e-06,\n",
       "        8.67042555e-06, 7.57373561e-06],\n",
       "       [9.89945081e-01, 4.45092535e-05, 7.37936056e-05, 5.75679948e-06,\n",
       "        1.67810679e-05, 1.40783469e-05],\n",
       "       ...,\n",
       "       [2.98909322e-01, 2.67096345e-03, 1.69229935e-03, 2.25890727e-03,\n",
       "        5.68836273e-01, 1.15732235e-01],\n",
       "       [2.98511658e-01, 2.52336636e-03, 1.60054124e-03, 2.13558597e-03,\n",
       "        5.69461229e-01, 1.15867619e-01],\n",
       "       [2.98136155e-01, 2.38375787e-03, 1.51356526e-03, 2.01877733e-03,\n",
       "        5.70052090e-01, 1.15995655e-01]])"
      ]
     },
     "execution_count": 26,
     "metadata": {},
     "output_type": "execute_result"
    }
   ],
   "source": [
    "def get_sim_array(sol):\n",
    "    sim = np.array([y for t,y in sol])\n",
    "    return sim\n",
    "get_sim_array(T.solution)"
   ]
  },
  {
   "cell_type": "code",
   "execution_count": 27,
   "metadata": {},
   "outputs": [
    {
     "data": {
      "image/png": "[encoded data removed]",
      "text/plain": [
       "Graphics object consisting of 6 graphics primitives"
      ]
     },
     "metadata": {},
     "output_type": "display_data"
    }
   ],
   "source": [
    "popMEXICO = 126.2e6\n",
    "def plot_sol(sol):\n",
    "    sim = get_sim_array(sol)*popMEXICO\n",
    "    P = list_plot(sim[:,0],legend_label='S')\n",
    "    colors = ['blue','red','pink','green','yellow','orange','black','purple']\n",
    "    for i,var in enumerate(['E','Is','Ia','R','D']):\n",
    "        P += list_plot(sim[:,i+1],color=colors[i+1],legend_label=var)\n",
    "   \n",
    "    show(P)\n",
    "plot_sol(T.solution)"
   ]
  },
  {
   "cell_type": "markdown",
   "metadata": {},
   "source": [
    "# Análise de sensibilidade"
   ]
  },
  {
   "cell_type": "code",
   "execution_count": 11,
   "metadata": {},
   "outputs": [],
   "source": [
    "from SALib.sample import saltelli\n",
    "from SALib.analyze import sobol\n",
    "from epimodels.continuous import models as cm\n",
    "import seaborn as sns\n",
    "import numpy as np\n",
    "import pandas as pd\n",
    "import pylab as plt\n",
    "from tqdm import tqdm\n",
    "from multiprocessing import Pool"
   ]
  },
  {
   "cell_type": "code",
   "execution_count": 12,
   "metadata": {},
   "outputs": [],
   "source": [
    "#!pip install SALib\n",
    "#!pip install epimodels\n",
    "#!pip install seaborn\n",
    "#!pip install pylab\n",
    "#!pip install tqdm\n",
    "#!pip install multiprocessing"
   ]
  },
  {
   "cell_type": "markdown",
   "metadata": {},
   "source": [
    "Definindo a análise"
   ]
  },
  {
   "cell_type": "code",
   "execution_count": 13,
   "metadata": {},
   "outputs": [],
   "source": [
    "problem = {\n",
    "    'num_vars': 7,\n",
    "    'names': [\"a\", \"ba\", \"bs\", \"ca\", \"cs\", \"p\", \"q\"],\n",
    "    'bounds': [[0,2],[0,2],[0,1],[0,1],[0,1],[0,3],[0,1]]\n",
    "}"
   ]
  },
  {
   "cell_type": "markdown",
   "metadata": {},
   "source": [
    "Gerando as amostras"
   ]
  },
  {
   "cell_type": "code",
   "execution_count": 14,
   "metadata": {},
   "outputs": [],
   "source": [
    "param_values = saltelli.sample(problem, 1000)"
   ]
  },
  {
   "cell_type": "code",
   "execution_count": 15,
   "metadata": {},
   "outputs": [
    {
     "data": {
      "text/plain": [
       "(16000, 7)"
      ]
     },
     "execution_count": 15,
     "metadata": {},
     "output_type": "execute_result"
    }
   ],
   "source": [
    "param_values.shape"
   ]
  },
  {
   "cell_type": "code",
   "execution_count": 16,
   "metadata": {},
   "outputs": [
    {
     "data": {
      "text/plain": [
       "array([0.43945312, 0.19335938, 0.51855469, 0.67675781, 0.28027344,\n",
       "       2.72167969, 0.04589844])"
      ]
     },
     "execution_count": 16,
     "metadata": {},
     "output_type": "execute_result"
    }
   ],
   "source": [
    "param_values[0]"
   ]
  },
  {
   "cell_type": "code",
   "execution_count": 17,
   "metadata": {},
   "outputs": [],
   "source": [
    "params = {\"a\": 0.42, \"ba\": 0.74, \"bs\": 0.63,\"ca\": 0.43, \"cs\": 0.35, \"p\": 0.64, \"q\": 0.53}\n",
    "inits = [.99, 0, 1e-4, 0, 0, 0]"
   ]
  },
  {
   "cell_type": "markdown",
   "metadata": {},
   "source": [
    "Rodando o modelo "
   ]
  },
  {
   "cell_type": "code",
   "execution_count": 18,
   "metadata": {},
   "outputs": [],
   "source": [
    "def traces(parametros):\n",
    "    method: str = 'RK45'\n",
    "        \n",
    "    kwargs = parametros\n",
    "    trange = [0,200] \n",
    "    totpop=1\n",
    "    sol = self.run(inits, trange, totpop, params, **kwargs)\n",
    "    res = {v: sol.y[s, :] for v, s in zip(self.state_variables.keys(), range(sol.y.shape[0]))}\n",
    "    res['time'] = sol.t\n",
    "    self.traces.update(res)"
   ]
  },
  {
   "cell_type": "code",
   "execution_count": 19,
   "metadata": {},
   "outputs": [
    {
     "ename": "SyntaxError",
     "evalue": "invalid syntax (<ipython-input-19-db13e5d21f16>, line 6)",
     "output_type": "error",
     "traceback": [
      "\u001b[0;36m  File \u001b[0;32m\"<ipython-input-19-db13e5d21f16>\"\u001b[0;36m, line \u001b[0;32m6\u001b[0m\n\u001b[0;31m    return Y\u001b[0m\n\u001b[0m         ^\u001b[0m\n\u001b[0;31mSyntaxError\u001b[0m\u001b[0;31m:\u001b[0m invalid syntax\n"
     ]
    }
   ],
   "source": [
    "def eval_model(parametros):\n",
    "    #parms = dict(zip(params.keys(),parametros))\n",
    "    \n",
    "    tra = model(tspan, inits, parametros)\n",
    "    Y = max(traces([tra])\n",
    "    return Y\n"
   ]
  },
  {
   "cell_type": "code",
   "execution_count": 20,
   "metadata": {},
   "outputs": [],
   "source": [
    "from multiprocessing import Pool"
   ]
  },
  {
   "cell_type": "code",
   "execution_count": 28,
   "metadata": {},
   "outputs": [
    {
     "ename": "TypeError",
     "evalue": "'numpy.float64' object is not iterable",
     "output_type": "error",
     "traceback": [
      "\u001b[0;31m---------------------------------------------------------------------------\u001b[0m",
      "\u001b[0;31mRemoteTraceback\u001b[0m                           Traceback (most recent call last)",
      "\u001b[0;31mRemoteTraceback\u001b[0m: \n\"\"\"\nTraceback (most recent call last):\n  File \"/opt/sagemath-9.1/local/lib/python3.7/multiprocessing/pool.py\", line 121, in worker\n    result = (True, func(*args, **kwds))\n  File \"/opt/sagemath-9.1/local/lib/python3.7/multiprocessing/pool.py\", line 44, in mapstar\n    return list(map(*args))\n  File \"<ipython-input-6-89462cb13b37>\", line 5, in eval_model\n    Y = max(traces[Integer(2)])\nTypeError: 'numpy.float64' object is not iterable\n\"\"\"",
      "\nThe above exception was the direct cause of the following exception:\n",
      "\u001b[0;31mTypeError\u001b[0m                                 Traceback (most recent call last)",
      "\u001b[0;32m<ipython-input-28-65b1540f7a71>\u001b[0m in \u001b[0;36m<module>\u001b[0;34m()\u001b[0m\n\u001b[1;32m      1\u001b[0m \u001b[0mPo\u001b[0m \u001b[0;34m=\u001b[0m \u001b[0mPool\u001b[0m\u001b[0;34m(\u001b[0m\u001b[0;34m)\u001b[0m\u001b[0;34m\u001b[0m\u001b[0;34m\u001b[0m\u001b[0m\n\u001b[0;32m----> 2\u001b[0;31m \u001b[0mY\u001b[0m \u001b[0;34m=\u001b[0m \u001b[0mPo\u001b[0m\u001b[0;34m.\u001b[0m\u001b[0mmap\u001b[0m\u001b[0;34m(\u001b[0m\u001b[0meval_model\u001b[0m\u001b[0;34m,\u001b[0m \u001b[0mparam_values\u001b[0m\u001b[0;34m)\u001b[0m\u001b[0;34m\u001b[0m\u001b[0;34m\u001b[0m\u001b[0m\n\u001b[0m",
      "\u001b[0;32m/opt/sagemath-9.1/local/lib/python3.7/multiprocessing/pool.py\u001b[0m in \u001b[0;36mmap\u001b[0;34m(self, func, iterable, chunksize)\u001b[0m\n\u001b[1;32m    266\u001b[0m         \u001b[0;32min\u001b[0m \u001b[0ma\u001b[0m \u001b[0mlist\u001b[0m \u001b[0mthat\u001b[0m \u001b[0;32mis\u001b[0m \u001b[0mreturned\u001b[0m\u001b[0;34m.\u001b[0m\u001b[0;34m\u001b[0m\u001b[0;34m\u001b[0m\u001b[0m\n\u001b[1;32m    267\u001b[0m         '''\n\u001b[0;32m--> 268\u001b[0;31m         \u001b[0;32mreturn\u001b[0m \u001b[0mself\u001b[0m\u001b[0;34m.\u001b[0m\u001b[0m_map_async\u001b[0m\u001b[0;34m(\u001b[0m\u001b[0mfunc\u001b[0m\u001b[0;34m,\u001b[0m \u001b[0miterable\u001b[0m\u001b[0;34m,\u001b[0m \u001b[0mmapstar\u001b[0m\u001b[0;34m,\u001b[0m \u001b[0mchunksize\u001b[0m\u001b[0;34m)\u001b[0m\u001b[0;34m.\u001b[0m\u001b[0mget\u001b[0m\u001b[0;34m(\u001b[0m\u001b[0;34m)\u001b[0m\u001b[0;34m\u001b[0m\u001b[0;34m\u001b[0m\u001b[0m\n\u001b[0m\u001b[1;32m    269\u001b[0m \u001b[0;34m\u001b[0m\u001b[0m\n\u001b[1;32m    270\u001b[0m     \u001b[0;32mdef\u001b[0m \u001b[0mstarmap\u001b[0m\u001b[0;34m(\u001b[0m\u001b[0mself\u001b[0m\u001b[0;34m,\u001b[0m \u001b[0mfunc\u001b[0m\u001b[0;34m,\u001b[0m \u001b[0miterable\u001b[0m\u001b[0;34m,\u001b[0m \u001b[0mchunksize\u001b[0m\u001b[0;34m=\u001b[0m\u001b[0;32mNone\u001b[0m\u001b[0;34m)\u001b[0m\u001b[0;34m:\u001b[0m\u001b[0;34m\u001b[0m\u001b[0;34m\u001b[0m\u001b[0m\n",
      "\u001b[0;32m/opt/sagemath-9.1/local/lib/python3.7/multiprocessing/pool.py\u001b[0m in \u001b[0;36mget\u001b[0;34m(self, timeout)\u001b[0m\n\u001b[1;32m    655\u001b[0m             \u001b[0;32mreturn\u001b[0m \u001b[0mself\u001b[0m\u001b[0;34m.\u001b[0m\u001b[0m_value\u001b[0m\u001b[0;34m\u001b[0m\u001b[0;34m\u001b[0m\u001b[0m\n\u001b[1;32m    656\u001b[0m         \u001b[0;32melse\u001b[0m\u001b[0;34m:\u001b[0m\u001b[0;34m\u001b[0m\u001b[0;34m\u001b[0m\u001b[0m\n\u001b[0;32m--> 657\u001b[0;31m             \u001b[0;32mraise\u001b[0m \u001b[0mself\u001b[0m\u001b[0;34m.\u001b[0m\u001b[0m_value\u001b[0m\u001b[0;34m\u001b[0m\u001b[0;34m\u001b[0m\u001b[0m\n\u001b[0m\u001b[1;32m    658\u001b[0m \u001b[0;34m\u001b[0m\u001b[0m\n\u001b[1;32m    659\u001b[0m     \u001b[0;32mdef\u001b[0m \u001b[0m_set\u001b[0m\u001b[0;34m(\u001b[0m\u001b[0mself\u001b[0m\u001b[0;34m,\u001b[0m \u001b[0mi\u001b[0m\u001b[0;34m,\u001b[0m \u001b[0mobj\u001b[0m\u001b[0;34m)\u001b[0m\u001b[0;34m:\u001b[0m\u001b[0;34m\u001b[0m\u001b[0;34m\u001b[0m\u001b[0m\n",
      "\u001b[0;31mTypeError\u001b[0m: 'numpy.float64' object is not iterable"
     ]
    }
   ],
   "source": [
    "Po = Pool()\n",
    "Y = Po.map(eval_model, param_values)"
   ]
  },
  {
   "cell_type": "code",
   "execution_count": 29,
   "metadata": {},
   "outputs": [],
   "source": [
    "Po.close()"
   ]
  },
  {
   "cell_type": "code",
   "execution_count": 30,
   "metadata": {},
   "outputs": [
    {
     "ename": "NameError",
     "evalue": "name 'Y' is not defined",
     "output_type": "error",
     "traceback": [
      "\u001b[0;31m---------------------------------------------------------------------------\u001b[0m",
      "\u001b[0;31mNameError\u001b[0m                                 Traceback (most recent call last)",
      "\u001b[0;32m<ipython-input-30-1094cb615bfb>\u001b[0m in \u001b[0;36m<module>\u001b[0;34m()\u001b[0m\n\u001b[0;32m----> 1\u001b[0;31m \u001b[0mSi\u001b[0m \u001b[0;34m=\u001b[0m \u001b[0msobol\u001b[0m\u001b[0;34m.\u001b[0m\u001b[0manalyze\u001b[0m\u001b[0;34m(\u001b[0m\u001b[0mproblem\u001b[0m\u001b[0;34m,\u001b[0m \u001b[0mnp\u001b[0m\u001b[0;34m.\u001b[0m\u001b[0marray\u001b[0m\u001b[0;34m(\u001b[0m\u001b[0mY\u001b[0m\u001b[0;34m)\u001b[0m\u001b[0;34m,\u001b[0m \u001b[0mprint_to_console\u001b[0m\u001b[0;34m=\u001b[0m\u001b[0;32mFalse\u001b[0m\u001b[0;34m)\u001b[0m\u001b[0;34m\u001b[0m\u001b[0;34m\u001b[0m\u001b[0m\n\u001b[0m",
      "\u001b[0;31mNameError\u001b[0m: name 'Y' is not defined"
     ]
    }
   ],
   "source": [
    "Si = sobol.analyze(problem, np.array(Y), print_to_console=False)"
   ]
  },
  {
   "cell_type": "code",
   "execution_count": 31,
   "metadata": {},
   "outputs": [
    {
     "ename": "TypeError",
     "evalue": "'Function_sin_integral' object is not subscriptable",
     "output_type": "error",
     "traceback": [
      "\u001b[0;31m---------------------------------------------------------------------------\u001b[0m",
      "\u001b[0;31mTypeError\u001b[0m                                 Traceback (most recent call last)",
      "\u001b[0;32m<ipython-input-31-46c7e822dabc>\u001b[0m in \u001b[0;36m<module>\u001b[0;34m()\u001b[0m\n\u001b[1;32m      8\u001b[0m \u001b[0;34m\u001b[0m\u001b[0m\n\u001b[1;32m      9\u001b[0m     \u001b[0mindices\u001b[0m\u001b[0;34m.\u001b[0m\u001b[0mplot\u001b[0m\u001b[0;34m.\u001b[0m\u001b[0mbar\u001b[0m\u001b[0;34m(\u001b[0m\u001b[0myerr\u001b[0m\u001b[0;34m=\u001b[0m\u001b[0merr\u001b[0m\u001b[0;34m.\u001b[0m\u001b[0mvalues\u001b[0m\u001b[0;34m.\u001b[0m\u001b[0mT\u001b[0m\u001b[0;34m,\u001b[0m\u001b[0max\u001b[0m\u001b[0;34m=\u001b[0m\u001b[0max\u001b[0m\u001b[0;34m)\u001b[0m\u001b[0;34m\u001b[0m\u001b[0;34m\u001b[0m\u001b[0m\n\u001b[0;32m---> 10\u001b[0;31m \u001b[0mplot_sobol\u001b[0m\u001b[0;34m(\u001b[0m\u001b[0mSi\u001b[0m\u001b[0;34m,\u001b[0m\u001b[0mproblem\u001b[0m\u001b[0;34m)\u001b[0m\u001b[0;34m\u001b[0m\u001b[0;34m\u001b[0m\u001b[0m\n\u001b[0m",
      "\u001b[0;32m<ipython-input-31-46c7e822dabc>\u001b[0m in \u001b[0;36mplot_sobol\u001b[0;34m(si, prob, order)\u001b[0m\n\u001b[1;32m      1\u001b[0m \u001b[0;32mdef\u001b[0m \u001b[0mplot_sobol\u001b[0m\u001b[0;34m(\u001b[0m\u001b[0msi\u001b[0m\u001b[0;34m,\u001b[0m\u001b[0mprob\u001b[0m\u001b[0;34m,\u001b[0m \u001b[0morder\u001b[0m\u001b[0;34m=\u001b[0m\u001b[0mInteger\u001b[0m\u001b[0;34m(\u001b[0m\u001b[0;36m1\u001b[0m\u001b[0;34m)\u001b[0m\u001b[0;34m)\u001b[0m\u001b[0;34m:\u001b[0m\u001b[0;34m\u001b[0m\u001b[0;34m\u001b[0m\u001b[0m\n\u001b[0;32m----> 2\u001b[0;31m     \u001b[0mSi_filter\u001b[0m \u001b[0;34m=\u001b[0m \u001b[0;34m{\u001b[0m\u001b[0mk\u001b[0m\u001b[0;34m:\u001b[0m\u001b[0msi\u001b[0m\u001b[0;34m[\u001b[0m\u001b[0mk\u001b[0m\u001b[0;34m]\u001b[0m \u001b[0;32mfor\u001b[0m \u001b[0mk\u001b[0m \u001b[0;32min\u001b[0m \u001b[0;34m[\u001b[0m\u001b[0;34m'ST'\u001b[0m\u001b[0;34m,\u001b[0m\u001b[0;34m'ST_conf'\u001b[0m\u001b[0;34m,\u001b[0m\u001b[0;34m'S1'\u001b[0m\u001b[0;34m,\u001b[0m\u001b[0;34m'S1_conf'\u001b[0m\u001b[0;34m]\u001b[0m\u001b[0;34m}\u001b[0m\u001b[0;34m\u001b[0m\u001b[0;34m\u001b[0m\u001b[0m\n\u001b[0m\u001b[1;32m      3\u001b[0m     \u001b[0mSi_df\u001b[0m \u001b[0;34m=\u001b[0m \u001b[0mpd\u001b[0m\u001b[0;34m.\u001b[0m\u001b[0mDataFrame\u001b[0m\u001b[0;34m(\u001b[0m\u001b[0mSi_filter\u001b[0m\u001b[0;34m,\u001b[0m \u001b[0mindex\u001b[0m\u001b[0;34m=\u001b[0m\u001b[0mproblem\u001b[0m\u001b[0;34m[\u001b[0m\u001b[0;34m'names'\u001b[0m\u001b[0;34m]\u001b[0m\u001b[0;34m[\u001b[0m\u001b[0;34m:\u001b[0m\u001b[0;34m-\u001b[0m\u001b[0mInteger\u001b[0m\u001b[0;34m(\u001b[0m\u001b[0;36m1\u001b[0m\u001b[0;34m)\u001b[0m\u001b[0;34m]\u001b[0m\u001b[0;34m)\u001b[0m\u001b[0;34m\u001b[0m\u001b[0;34m\u001b[0m\u001b[0m\n\u001b[1;32m      4\u001b[0m     \u001b[0mfig\u001b[0m\u001b[0;34m,\u001b[0m \u001b[0max\u001b[0m \u001b[0;34m=\u001b[0m \u001b[0mplt\u001b[0m\u001b[0;34m.\u001b[0m\u001b[0msubplots\u001b[0m\u001b[0;34m(\u001b[0m\u001b[0mInteger\u001b[0m\u001b[0;34m(\u001b[0m\u001b[0;36m1\u001b[0m\u001b[0;34m)\u001b[0m\u001b[0;34m,\u001b[0m \u001b[0mfigsize\u001b[0m\u001b[0;34m=\u001b[0m\u001b[0;34m(\u001b[0m\u001b[0mInteger\u001b[0m\u001b[0;34m(\u001b[0m\u001b[0;36m10\u001b[0m\u001b[0;34m)\u001b[0m\u001b[0;34m,\u001b[0m\u001b[0mInteger\u001b[0m\u001b[0;34m(\u001b[0m\u001b[0;36m8\u001b[0m\u001b[0;34m)\u001b[0m\u001b[0;34m)\u001b[0m\u001b[0;34m)\u001b[0m\u001b[0;34m\u001b[0m\u001b[0;34m\u001b[0m\u001b[0m\n\u001b[1;32m      5\u001b[0m \u001b[0;34m\u001b[0m\u001b[0m\n",
      "\u001b[0;32m<ipython-input-31-46c7e822dabc>\u001b[0m in \u001b[0;36m<dictcomp>\u001b[0;34m(.0)\u001b[0m\n\u001b[1;32m      1\u001b[0m \u001b[0;32mdef\u001b[0m \u001b[0mplot_sobol\u001b[0m\u001b[0;34m(\u001b[0m\u001b[0msi\u001b[0m\u001b[0;34m,\u001b[0m\u001b[0mprob\u001b[0m\u001b[0;34m,\u001b[0m \u001b[0morder\u001b[0m\u001b[0;34m=\u001b[0m\u001b[0mInteger\u001b[0m\u001b[0;34m(\u001b[0m\u001b[0;36m1\u001b[0m\u001b[0;34m)\u001b[0m\u001b[0;34m)\u001b[0m\u001b[0;34m:\u001b[0m\u001b[0;34m\u001b[0m\u001b[0;34m\u001b[0m\u001b[0m\n\u001b[0;32m----> 2\u001b[0;31m     \u001b[0mSi_filter\u001b[0m \u001b[0;34m=\u001b[0m \u001b[0;34m{\u001b[0m\u001b[0mk\u001b[0m\u001b[0;34m:\u001b[0m\u001b[0msi\u001b[0m\u001b[0;34m[\u001b[0m\u001b[0mk\u001b[0m\u001b[0;34m]\u001b[0m \u001b[0;32mfor\u001b[0m \u001b[0mk\u001b[0m \u001b[0;32min\u001b[0m \u001b[0;34m[\u001b[0m\u001b[0;34m'ST'\u001b[0m\u001b[0;34m,\u001b[0m\u001b[0;34m'ST_conf'\u001b[0m\u001b[0;34m,\u001b[0m\u001b[0;34m'S1'\u001b[0m\u001b[0;34m,\u001b[0m\u001b[0;34m'S1_conf'\u001b[0m\u001b[0;34m]\u001b[0m\u001b[0;34m}\u001b[0m\u001b[0;34m\u001b[0m\u001b[0;34m\u001b[0m\u001b[0m\n\u001b[0m\u001b[1;32m      3\u001b[0m     \u001b[0mSi_df\u001b[0m \u001b[0;34m=\u001b[0m \u001b[0mpd\u001b[0m\u001b[0;34m.\u001b[0m\u001b[0mDataFrame\u001b[0m\u001b[0;34m(\u001b[0m\u001b[0mSi_filter\u001b[0m\u001b[0;34m,\u001b[0m \u001b[0mindex\u001b[0m\u001b[0;34m=\u001b[0m\u001b[0mproblem\u001b[0m\u001b[0;34m[\u001b[0m\u001b[0;34m'names'\u001b[0m\u001b[0;34m]\u001b[0m\u001b[0;34m[\u001b[0m\u001b[0;34m:\u001b[0m\u001b[0;34m-\u001b[0m\u001b[0mInteger\u001b[0m\u001b[0;34m(\u001b[0m\u001b[0;36m1\u001b[0m\u001b[0;34m)\u001b[0m\u001b[0;34m]\u001b[0m\u001b[0;34m)\u001b[0m\u001b[0;34m\u001b[0m\u001b[0;34m\u001b[0m\u001b[0m\n\u001b[1;32m      4\u001b[0m     \u001b[0mfig\u001b[0m\u001b[0;34m,\u001b[0m \u001b[0max\u001b[0m \u001b[0;34m=\u001b[0m \u001b[0mplt\u001b[0m\u001b[0;34m.\u001b[0m\u001b[0msubplots\u001b[0m\u001b[0;34m(\u001b[0m\u001b[0mInteger\u001b[0m\u001b[0;34m(\u001b[0m\u001b[0;36m1\u001b[0m\u001b[0;34m)\u001b[0m\u001b[0;34m,\u001b[0m \u001b[0mfigsize\u001b[0m\u001b[0;34m=\u001b[0m\u001b[0;34m(\u001b[0m\u001b[0mInteger\u001b[0m\u001b[0;34m(\u001b[0m\u001b[0;36m10\u001b[0m\u001b[0;34m)\u001b[0m\u001b[0;34m,\u001b[0m\u001b[0mInteger\u001b[0m\u001b[0;34m(\u001b[0m\u001b[0;36m8\u001b[0m\u001b[0;34m)\u001b[0m\u001b[0;34m)\u001b[0m\u001b[0;34m)\u001b[0m\u001b[0;34m\u001b[0m\u001b[0;34m\u001b[0m\u001b[0m\n\u001b[1;32m      5\u001b[0m \u001b[0;34m\u001b[0m\u001b[0m\n",
      "\u001b[0;31mTypeError\u001b[0m: 'Function_sin_integral' object is not subscriptable"
     ]
    }
   ],
   "source": [
    "def plot_sobol(si,prob, order=1):\n",
    "    Si_filter = {k:si[k] for k in ['ST','ST_conf','S1','S1_conf']}\n",
    "    Si_df = pd.DataFrame(Si_filter, index=problem['names'][:-1])\n",
    "    fig, ax = plt.subplots(1, figsize=(10,8))\n",
    "\n",
    "    indices = Si_df[['S1','ST']]\n",
    "    err = Si_df[['S1_conf','ST_conf']]\n",
    "\n",
    "    indices.plot.bar(yerr=err.values.T,ax=ax)\n",
    "plot_sobol(Si,problem)"
   ]
  },
  {
   "cell_type": "code",
   "execution_count": 32,
   "metadata": {},
   "outputs": [
    {
     "ename": "TypeError",
     "evalue": "'Function_sin_integral' object is not subscriptable",
     "output_type": "error",
     "traceback": [
      "\u001b[0;31m---------------------------------------------------------------------------\u001b[0m",
      "\u001b[0;31mTypeError\u001b[0m                                 Traceback (most recent call last)",
      "\u001b[0;32m<ipython-input-32-32fa275bf7a8>\u001b[0m in \u001b[0;36m<module>\u001b[0;34m()\u001b[0m\n\u001b[1;32m    139\u001b[0m \u001b[0;34m\u001b[0m\u001b[0m\n\u001b[1;32m    140\u001b[0m \u001b[0msns\u001b[0m\u001b[0;34m.\u001b[0m\u001b[0mset_style\u001b[0m\u001b[0;34m(\u001b[0m\u001b[0;34m'whitegrid'\u001b[0m\u001b[0;34m)\u001b[0m\u001b[0;34m\u001b[0m\u001b[0;34m\u001b[0m\u001b[0m\n\u001b[0;32m--> 141\u001b[0;31m \u001b[0mfig\u001b[0m \u001b[0;34m=\u001b[0m \u001b[0mplot_sobol_indices\u001b[0m\u001b[0;34m(\u001b[0m\u001b[0mSi\u001b[0m\u001b[0;34m,\u001b[0m \u001b[0mcriterion\u001b[0m\u001b[0;34m=\u001b[0m\u001b[0;34m'ST'\u001b[0m\u001b[0;34m,\u001b[0m \u001b[0mthreshold\u001b[0m\u001b[0;34m=\u001b[0m\u001b[0mRealNumber\u001b[0m\u001b[0;34m(\u001b[0m\u001b[0;34m'0.005'\u001b[0m\u001b[0;34m)\u001b[0m\u001b[0;34m)\u001b[0m\u001b[0;34m\u001b[0m\u001b[0;34m\u001b[0m\u001b[0m\n\u001b[0m",
      "\u001b[0;32m<ipython-input-32-32fa275bf7a8>\u001b[0m in \u001b[0;36mplot_sobol_indices\u001b[0;34m(sobol_indices, criterion, threshold)\u001b[0m\n\u001b[1;32m     66\u001b[0m \u001b[0;34m\u001b[0m\u001b[0m\n\u001b[1;32m     67\u001b[0m     \u001b[0;31m# dataframe with ST and S1\u001b[0m\u001b[0;34m\u001b[0m\u001b[0;34m\u001b[0m\u001b[0;34m\u001b[0m\u001b[0m\n\u001b[0;32m---> 68\u001b[0;31m     \u001b[0msobol_stats\u001b[0m \u001b[0;34m=\u001b[0m \u001b[0;34m{\u001b[0m\u001b[0mkey\u001b[0m\u001b[0;34m:\u001b[0m\u001b[0msobol_indices\u001b[0m\u001b[0;34m[\u001b[0m\u001b[0mkey\u001b[0m\u001b[0;34m]\u001b[0m \u001b[0;32mfor\u001b[0m \u001b[0mkey\u001b[0m \u001b[0;32min\u001b[0m \u001b[0;34m[\u001b[0m\u001b[0;34m'ST'\u001b[0m\u001b[0;34m,\u001b[0m \u001b[0;34m'S1'\u001b[0m\u001b[0;34m]\u001b[0m\u001b[0;34m}\u001b[0m\u001b[0;34m\u001b[0m\u001b[0;34m\u001b[0m\u001b[0m\n\u001b[0m\u001b[1;32m     69\u001b[0m     \u001b[0msobol_stats\u001b[0m \u001b[0;34m=\u001b[0m \u001b[0mpd\u001b[0m\u001b[0;34m.\u001b[0m\u001b[0mDataFrame\u001b[0m\u001b[0;34m(\u001b[0m\u001b[0msobol_stats\u001b[0m\u001b[0;34m,\u001b[0m \u001b[0mindex\u001b[0m\u001b[0;34m=\u001b[0m\u001b[0mproblem\u001b[0m\u001b[0;34m[\u001b[0m\u001b[0;34m'names'\u001b[0m\u001b[0;34m]\u001b[0m\u001b[0;34m[\u001b[0m\u001b[0;34m:\u001b[0m\u001b[0;34m-\u001b[0m\u001b[0mInteger\u001b[0m\u001b[0;34m(\u001b[0m\u001b[0;36m1\u001b[0m\u001b[0;34m)\u001b[0m\u001b[0;34m]\u001b[0m\u001b[0;34m)\u001b[0m\u001b[0;34m\u001b[0m\u001b[0;34m\u001b[0m\u001b[0m\n\u001b[1;32m     70\u001b[0m \u001b[0;34m\u001b[0m\u001b[0m\n",
      "\u001b[0;32m<ipython-input-32-32fa275bf7a8>\u001b[0m in \u001b[0;36m<dictcomp>\u001b[0;34m(.0)\u001b[0m\n\u001b[1;32m     66\u001b[0m \u001b[0;34m\u001b[0m\u001b[0m\n\u001b[1;32m     67\u001b[0m     \u001b[0;31m# dataframe with ST and S1\u001b[0m\u001b[0;34m\u001b[0m\u001b[0;34m\u001b[0m\u001b[0;34m\u001b[0m\u001b[0m\n\u001b[0;32m---> 68\u001b[0;31m     \u001b[0msobol_stats\u001b[0m \u001b[0;34m=\u001b[0m \u001b[0;34m{\u001b[0m\u001b[0mkey\u001b[0m\u001b[0;34m:\u001b[0m\u001b[0msobol_indices\u001b[0m\u001b[0;34m[\u001b[0m\u001b[0mkey\u001b[0m\u001b[0;34m]\u001b[0m \u001b[0;32mfor\u001b[0m \u001b[0mkey\u001b[0m \u001b[0;32min\u001b[0m \u001b[0;34m[\u001b[0m\u001b[0;34m'ST'\u001b[0m\u001b[0;34m,\u001b[0m \u001b[0;34m'S1'\u001b[0m\u001b[0;34m]\u001b[0m\u001b[0;34m}\u001b[0m\u001b[0;34m\u001b[0m\u001b[0;34m\u001b[0m\u001b[0m\n\u001b[0m\u001b[1;32m     69\u001b[0m     \u001b[0msobol_stats\u001b[0m \u001b[0;34m=\u001b[0m \u001b[0mpd\u001b[0m\u001b[0;34m.\u001b[0m\u001b[0mDataFrame\u001b[0m\u001b[0;34m(\u001b[0m\u001b[0msobol_stats\u001b[0m\u001b[0;34m,\u001b[0m \u001b[0mindex\u001b[0m\u001b[0;34m=\u001b[0m\u001b[0mproblem\u001b[0m\u001b[0;34m[\u001b[0m\u001b[0;34m'names'\u001b[0m\u001b[0;34m]\u001b[0m\u001b[0;34m[\u001b[0m\u001b[0;34m:\u001b[0m\u001b[0;34m-\u001b[0m\u001b[0mInteger\u001b[0m\u001b[0;34m(\u001b[0m\u001b[0;36m1\u001b[0m\u001b[0;34m)\u001b[0m\u001b[0;34m]\u001b[0m\u001b[0;34m)\u001b[0m\u001b[0;34m\u001b[0m\u001b[0;34m\u001b[0m\u001b[0m\n\u001b[1;32m     70\u001b[0m \u001b[0;34m\u001b[0m\u001b[0m\n",
      "\u001b[0;31mTypeError\u001b[0m: 'Function_sin_integral' object is not subscriptable"
     ]
    }
   ],
   "source": [
    "import itertools\n",
    "from math import pi\n",
    "from matplotlib.legend_handler import HandlerPatch\n",
    "\n",
    "\n",
    "def normalize(x, xmin, xmax):\n",
    "    return (x-xmin)/(xmax-xmin)\n",
    "\n",
    "\n",
    "def plot_circles(ax, locs, names, max_s, stats, smax, smin, fc, ec, lw,\n",
    "                 zorder):\n",
    "    s = np.asarray([stats[name] for name in names])\n",
    "    s = 0.01 + max_s * np.sqrt(normalize(s, smin, smax))\n",
    "\n",
    "    fill = True\n",
    "    for loc, name, si in zip(locs, names, s):\n",
    "        if fc=='w':\n",
    "            fill=False\n",
    "        else:\n",
    "            ec='none'\n",
    "\n",
    "        x = np.cos(loc)\n",
    "        y = np.sin(loc)\n",
    "\n",
    "        circle = plt.Circle((x,y), radius=si, ec=ec, fc=fc, transform=ax.transData._b,\n",
    "                            zorder=zorder, lw=lw, fill=True)\n",
    "        ax.add_artist(circle)\n",
    "\n",
    "\n",
    "def filter(sobol_indices, names, locs, criterion, threshold):\n",
    "    if criterion in ['ST', 'S1', 'S2']:\n",
    "        data = sobol_indices[criterion]\n",
    "        data = np.abs(data)\n",
    "        data = data.flatten() # flatten in case of S2\n",
    "        # TODO:: remove nans\n",
    "\n",
    "        filtered = ([(name, locs[i]) for i, name in enumerate(names) if\n",
    "                     data[i]>threshold])\n",
    "        filtered_names, filtered_locs = zip(*filtered)\n",
    "    elif criterion in ['ST_conf', 'S1_conf', 'S2_conf']:\n",
    "        raise NotImplementedError\n",
    "    else:\n",
    "        raise ValueError('unknown value for criterion')\n",
    "\n",
    "    return filtered_names, filtered_locs\n",
    "\n",
    "\n",
    "def plot_sobol_indices(sobol_indices, criterion='ST', threshold=0.01):\n",
    "    '''plot sobol indices on a radial plot\n",
    "\n",
    "    Parameters\n",
    "    ----------\n",
    "    sobol_indices : dict\n",
    "                    the return from SAlib\n",
    "    criterion : {'ST', 'S1', 'S2', 'ST_conf', 'S1_conf', 'S2_conf'}, optional\n",
    "    threshold : float\n",
    "                only visualize variables with criterion larger than cutoff\n",
    "\n",
    "    '''\n",
    "    max_linewidth_s2 = 15#25*1.8\n",
    "    max_s_radius = 0.3\n",
    "\n",
    "    # prepare data\n",
    "    # use the absolute values of all the indices\n",
    "    #sobol_indices = {key:np.abs(stats) for key, stats in sobol_indices.items()}\n",
    "\n",
    "    # dataframe with ST and S1\n",
    "    sobol_stats = {key:sobol_indices[key] for key in ['ST', 'S1']}\n",
    "    sobol_stats = pd.DataFrame(sobol_stats, index=problem['names'][:-1])\n",
    "\n",
    "    smax = sobol_stats.max().max()\n",
    "    smin = sobol_stats.min().min()\n",
    "\n",
    "    # dataframe with s2\n",
    "    s2 = pd.DataFrame(sobol_indices['S2'], index=problem['names'][:-1],\n",
    "                      columns=problem['names'][:-1])\n",
    "    s2[s2<0.0]=0. #Set negative values to 0 (artifact from small sample sizes)\n",
    "    s2max = s2.max().max()\n",
    "    s2min = s2.min().min()\n",
    "\n",
    "    names = problem['names'][:-1]\n",
    "    n = len(names)\n",
    "    ticklocs = np.linspace(0, 2*pi, n+1)\n",
    "    locs = ticklocs[0:-1]\n",
    "\n",
    "    filtered_names, filtered_locs = filter(sobol_indices, names, locs,\n",
    "                                           criterion, threshold)\n",
    "\n",
    "    # setup figure\n",
    "    fig = plt.figure(figsize=(15,15))\n",
    "    ax = fig.add_subplot(111, polar=True)\n",
    "    ax.grid(False)\n",
    "    ax.spines['polar'].set_visible(False)\n",
    "    ax.set_xticks(ticklocs)\n",
    "\n",
    "    ax.set_xticklabels(names, fontsize=24)\n",
    "    ax.set_yticklabels([])\n",
    "    ax.set_ylim(top=1.4)\n",
    "    legend(ax)\n",
    "\n",
    "    # plot ST\n",
    "    plot_circles(ax, filtered_locs, filtered_names, max_s_radius,\n",
    "                 sobol_stats['ST'], smax, smin, 'w', 'k', 1, 9)\n",
    "\n",
    "    # plot S1\n",
    "    plot_circles(ax, filtered_locs, filtered_names, max_s_radius,\n",
    "                 sobol_stats['S1'], smax, smin, 'k', 'k', 1, 10)\n",
    "\n",
    "    # plot S2\n",
    "    for name1, name2 in itertools.combinations(zip(filtered_names, filtered_locs), 2):\n",
    "        name1, loc1 = name1\n",
    "        name2, loc2 = name2\n",
    "\n",
    "        weight = s2.loc[name1, name2]\n",
    "        lw = 0.5+max_linewidth_s2*normalize(weight, s2min, s2max)\n",
    "        ax.plot([loc1, loc2], [1,1], c='darkgray', lw=lw, zorder=1)\n",
    "\n",
    "    return fig\n",
    "\n",
    "\n",
    "\n",
    "class HandlerCircle(HandlerPatch):\n",
    "    def create_artists(self, legend, orig_handle,\n",
    "                       xdescent, ydescent, width, height, fontsize, trans):\n",
    "        center = 0.5 * width - 0.5 * xdescent, 0.5 * height - 0.5 * ydescent\n",
    "        p = plt.Circle(xy=center, radius=orig_handle.radius)\n",
    "        self.update_prop(p, orig_handle, legend)\n",
    "        p.set_transform(trans)\n",
    "        return [p]\n",
    "\n",
    "def legend(ax):\n",
    "    some_identifiers = [plt.Circle((0,0), radius=5, color='k', fill=False, lw=1),\n",
    "                        plt.Circle((0,0), radius=5, color='k', fill=True),\n",
    "                        plt.Line2D([0,0.5], [0,0.5], lw=8, color='darkgray')]\n",
    "    ax.legend(some_identifiers, ['ST', 'S1', 'S2'],\n",
    "              loc=(1,0.75), borderaxespad=0.1, mode='expand', fontsize=16,\n",
    "              handler_map={plt.Circle: HandlerCircle()})\n",
    "\n",
    "\n",
    "sns.set_style('whitegrid')\n",
    "fig = plot_sobol_indices(Si, criterion='ST', threshold=0.005)"
   ]
  },
  {
   "cell_type": "code",
   "execution_count": null,
   "metadata": {},
   "outputs": [],
   "source": []
  },
  {
   "cell_type": "code",
   "execution_count": null,
   "metadata": {},
   "outputs": [],
   "source": []
  },
  {
   "cell_type": "code",
   "execution_count": null,
   "metadata": {},
   "outputs": [],
   "source": []
  },
  {
   "cell_type": "code",
   "execution_count": null,
   "metadata": {},
   "outputs": [],
   "source": []
  },
  {
   "cell_type": "code",
   "execution_count": null,
   "metadata": {},
   "outputs": [],
   "source": []
  },
  {
   "cell_type": "markdown",
   "metadata": {},
   "source": [
    "# Estimando Parâmetros"
   ]
  },
  {
   "cell_type": "code",
   "execution_count": 1,
   "metadata": {},
   "outputs": [
    {
     "ename": "ModuleNotFoundError",
     "evalue": "No module named 'pymc3'",
     "output_type": "error",
     "traceback": [
      "\u001b[0;31m---------------------------------------------------------------------------\u001b[0m",
      "\u001b[0;31mModuleNotFoundError\u001b[0m                       Traceback (most recent call last)",
      "\u001b[0;32m<ipython-input-1-9ee809b82e3b>\u001b[0m in \u001b[0;36m<module>\u001b[0;34m()\u001b[0m\n\u001b[1;32m      1\u001b[0m \u001b[0;34m\u001b[0m\u001b[0m\n\u001b[1;32m      2\u001b[0m \u001b[0mget_ipython\u001b[0m\u001b[0;34m(\u001b[0m\u001b[0;34m)\u001b[0m\u001b[0;34m.\u001b[0m\u001b[0mmagic\u001b[0m\u001b[0;34m(\u001b[0m\u001b[0;34m'matplotlib inline'\u001b[0m\u001b[0;34m)\u001b[0m\u001b[0;34m\u001b[0m\u001b[0;34m\u001b[0m\u001b[0m\n\u001b[0;32m----> 3\u001b[0;31m \u001b[0;32mimport\u001b[0m \u001b[0mpymc3\u001b[0m \u001b[0;32mas\u001b[0m \u001b[0mpm\u001b[0m\u001b[0;34m\u001b[0m\u001b[0;34m\u001b[0m\u001b[0m\n\u001b[0m\u001b[1;32m      4\u001b[0m \u001b[0;32mfrom\u001b[0m \u001b[0mpymc3\u001b[0m\u001b[0;34m.\u001b[0m\u001b[0mode\u001b[0m \u001b[0;32mimport\u001b[0m \u001b[0mDifferentialEquation\u001b[0m\u001b[0;34m\u001b[0m\u001b[0;34m\u001b[0m\u001b[0m\n\u001b[1;32m      5\u001b[0m \u001b[0;32mimport\u001b[0m \u001b[0mnumpy\u001b[0m \u001b[0;32mas\u001b[0m \u001b[0mnp\u001b[0m\u001b[0;34m\u001b[0m\u001b[0;34m\u001b[0m\u001b[0m\n",
      "\u001b[0;31mModuleNotFoundError\u001b[0m: No module named 'pymc3'"
     ]
    }
   ],
   "source": [
    "\n",
    "%matplotlib inline\n",
    "import pymc3 as pm\n",
    "from pymc3.ode import DifferentialEquation\n",
    "import numpy as np\n",
    "import matplotlib.pyplot as plt\n",
    "from scipy.integrate import odeint\n",
    "import arviz as az\n",
    "import theano\n",
    "\n",
    "plt.style.use('seaborn-darkgrid')"
   ]
  },
  {
   "cell_type": "code",
   "execution_count": null,
   "metadata": {},
   "outputs": [],
   "source": [
    "times = np.arange(0, 5, 0.25)\n",
    "\n",
    "beta,gamma = 4,1.0\n",
    "# Gerando curvas simuladas\n",
    "y = odeint(model, t=times, y0=[0.99, 0.01], args=((beta, gamma),), rtol=1e-8)\n",
    "# Simulando dados  Assumindo uma distribuição log-normal com média igual às séries simuladas\n",
    "yobs = np.random.lognormal(mean=np.log(y[1::]), sigma=[0.2, 0.3])\n",
    "\n",
    "plt.plot(times[1::], yobs, marker='o', linestyle='none')\n",
    "plt.plot(times, y[:, 0], color='C0', alpha=0.5, label=f'$S(t)$')\n",
    "plt.plot(times, y[:, 1], color='C1', alpha=0.5, label=f'$I(t)$');\n",
    "plt.legend();"
   ]
  },
  {
   "cell_type": "code",
   "execution_count": 2,
   "metadata": {},
   "outputs": [
    {
     "name": "stdout",
     "output_type": "stream",
     "text": [
      "Collecting pymc3\n",
      "  Using cached https://files.pythonhosted.org/packages/11/10/36a32ccc91094d134aed49b560d254c0c362a01d2e827d57932e78c53280/pymc3-3.9.3-py3-none-any.whl\n",
      "Collecting typing-extensions>=3.7.4 (from pymc3)\n",
      "  Using cached https://files.pythonhosted.org/packages/60/7a/e881b5abb54db0e6e671ab088d079c57ce54e8a01a3ca443f561ccadb37e/typing_extensions-3.7.4.3-py3-none-any.whl\n",
      "Requirement already satisfied: numpy>=1.13.0 in /opt/sagemath-9.1/local/lib/python3.7/site-packages (from pymc3) (1.16.6)\n",
      "Collecting patsy>=0.5.1 (from pymc3)\n",
      "  Using cached https://files.pythonhosted.org/packages/ea/0c/5f61f1a3d4385d6bf83b83ea495068857ff8dfb89e74824c6e9eb63286d8/patsy-0.5.1-py2.py3-none-any.whl\n",
      "Requirement already satisfied: scipy>=0.18.1 in /opt/sagemath-9.1/local/lib/python3.7/site-packages (from pymc3) (1.2.3)\n",
      "Collecting theano>=1.0.5 (from pymc3)\n",
      "  Using cached https://files.pythonhosted.org/packages/6b/97/bcd5654ba60f35f180931afabbd3b4c46c0379852f961c7a2819ff897f5d/Theano-1.0.5.tar.gz\n",
      "Collecting arviz>=0.9.0 (from pymc3)\n",
      "  Using cached https://files.pythonhosted.org/packages/a9/05/54183e9e57b0793eceb67361dbf4a7c4ed797ae36a04a3287791a564568c/arviz-0.10.0-py3-none-any.whl\n",
      "Collecting fastprogress>=0.2.0 (from pymc3)\n",
      "  Using cached https://files.pythonhosted.org/packages/eb/1f/c61b92d806fbd06ad75d08440efe7f2bd1006ba0b15d086debed49d93cdc/fastprogress-1.0.0-py3-none-any.whl\n",
      "Requirement already satisfied: pandas>=0.18.0 in /opt/sagemath-9.1/local/lib/python3.7/site-packages (from pymc3) (1.1.3)\n",
      "Collecting h5py>=2.7.0 (from pymc3)\n",
      "  Using cached https://files.pythonhosted.org/packages/a7/81/20d5d994c91ed8347efda90d32c396ea28254fd8eb9e071e28ee5700ffd5/h5py-3.1.0.tar.gz\n",
      "  Installing build dependencies ... \u001b[?25ldone\n",
      "\u001b[?25hRequirement already satisfied: six in /opt/sagemath-9.1/local/lib/python3.7/site-packages (from patsy>=0.5.1->pymc3) (1.12.0)\n",
      "Collecting matplotlib>=3.0 (from arviz>=0.9.0->pymc3)\n",
      "  Using cached https://files.pythonhosted.org/packages/7b/b3/7c48f648bf83f39d4385e0169d1b68218b838e185047f7f613b1cfc57947/matplotlib-3.3.3.tar.gz\n",
      "Collecting xarray>=0.16.1 (from arviz>=0.9.0->pymc3)\n",
      "  Using cached https://files.pythonhosted.org/packages/10/6f/9aa15b1f9001593d51a0e417a8ad2127ef384d08129a0720b3599133c1ed/xarray-0.16.2-py3-none-any.whl\n",
      "Requirement already satisfied: setuptools>=38.4 in /opt/sagemath-9.1/local/lib/python3.7/site-packages (from arviz>=0.9.0->pymc3) (40.6.3)\n",
      "Requirement already satisfied: packaging in /opt/sagemath-9.1/local/lib/python3.7/site-packages (from arviz>=0.9.0->pymc3) (18.0)\n",
      "Collecting netcdf4 (from arviz>=0.9.0->pymc3)\n",
      "  Using cached https://files.pythonhosted.org/packages/c5/41/8520eb2755c2f310e2f21760079539a9aa881188005fca35c79006afd843/netCDF4-1.5.4.tar.gz\n",
      "    Complete output from command python setup.py egg_info:\n",
      "    Package hdf5 was not found in the pkg-config search path.\n",
      "    Perhaps you should add the directory containing `hdf5.pc'\n",
      "    to the PKG_CONFIG_PATH environment variable\n",
      "    Package 'hdf5', required by 'virtual:world', not found\n",
      "    reading from setup.cfg...\n",
      "    \n",
      "        HDF5_DIR environment variable not set, checking some standard locations ..\n",
      "    checking /home/sage ...\n",
      "    checking /usr/local ...\n",
      "    checking /sw ...\n",
      "    checking /opt ...\n",
      "    checking /opt/local ...\n",
      "    checking /usr ...\n",
      "    Traceback (most recent call last):\n",
      "      File \"<string>\", line 1, in <module>\n",
      "      File \"/tmp/pip-install-x7cs5uk7/netcdf4/setup.py\", line 397, in <module>\n",
      "        _populate_hdf5_info(dirstosearch, inc_dirs, libs, lib_dirs)\n",
      "      File \"/tmp/pip-install-x7cs5uk7/netcdf4/setup.py\", line 345, in _populate_hdf5_info\n",
      "        raise ValueError('did not find HDF5 headers')\n",
      "    ValueError: did not find HDF5 headers\n",
      "    \n",
      "    ----------------------------------------\n",
      "\u001b[31mCommand \"python setup.py egg_info\" failed with error code 1 in /tmp/pip-install-x7cs5uk7/netcdf4/\u001b[0m\n"
     ]
    }
   ],
   "source": [
    "!pip install pymc3"
   ]
  },
  {
   "cell_type": "code",
   "execution_count": null,
   "metadata": {},
   "outputs": [],
   "source": [
    " "
   ]
  }
 ],
 "metadata": {
  "kernelspec": {
   "display_name": "SageMath 9.1",
   "language": "sage",
   "name": "sagemath"
  },
  "language_info": {
   "codemirror_mode": {
    "name": "ipython",
    "version": 3
   },
   "file_extension": ".py",
   "mimetype": "text/x-python",
   "name": "python",
   "nbconvert_exporter": "python",
   "pygments_lexer": "ipython3",
   "version": "3.7.3"
  }
 },
 "nbformat": 4,
 "nbformat_minor": 2
}
