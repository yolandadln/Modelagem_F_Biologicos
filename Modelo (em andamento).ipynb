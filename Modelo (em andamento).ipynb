{
 "cells": [
  {
   "cell_type": "code",
   "execution_count": 3,
   "metadata": {},
   "outputs": [],
   "source": [
    "import numpy as np\n",
    "import pandas as pd\n",
    "# import sympy\n",
    "%display typeset"
   ]
  },
  {
   "cell_type": "code",
   "execution_count": 4,
   "metadata": {},
   "outputs": [],
   "source": [
    "def load_data(state):\n",
    "    df = pd.read_csv(f'dados_{state}.csv')\n",
    "    df['date'] = pd.to_datetime(df.date)\n",
    "#    df.set_index('data', inplace=True)\n",
    "    return df"
   ]
  },
  {
   "cell_type": "code",
   "execution_count": 5,
   "metadata": {
    "scrolled": true
   },
   "outputs": [
    {
     "data": {
      "text/html": [
       "<table border=\"1\" class=\"dataframe\">\n",
       "  <thead>\n",
       "    <tr style=\"text-align: right;\">\n",
       "      <th></th>\n",
       "      <th>iso_code</th>\n",
       "      <th>continent</th>\n",
       "      <th>location</th>\n",
       "      <th>date</th>\n",
       "      <th>total_cases</th>\n",
       "      <th>new_cases</th>\n",
       "      <th>new_cases_smoothed</th>\n",
       "      <th>total_deaths</th>\n",
       "      <th>new_deaths</th>\n",
       "      <th>new_deaths_smoothed</th>\n",
       "      <th>total_cases_per_million</th>\n",
       "      <th>new_cases_per_million</th>\n",
       "      <th>new_cases_smoothed_per_million</th>\n",
       "      <th>total_deaths_per_million</th>\n",
       "      <th>new_deaths_per_million</th>\n",
       "      <th>new_deaths_smoothed_per_million</th>\n",
       "      <th>reproduction_rate</th>\n",
       "      <th>icu_patients</th>\n",
       "      <th>icu_patients_per_million</th>\n",
       "      <th>hosp_patients</th>\n",
       "      <th>hosp_patients_per_million</th>\n",
       "      <th>weekly_icu_admissions</th>\n",
       "      <th>weekly_icu_admissions_per_million</th>\n",
       "      <th>weekly_hosp_admissions</th>\n",
       "      <th>weekly_hosp_admissions_per_million</th>\n",
       "      <th>total_tests</th>\n",
       "      <th>new_tests</th>\n",
       "      <th>total_tests_per_thousand</th>\n",
       "      <th>new_tests_per_thousand</th>\n",
       "      <th>new_tests_smoothed</th>\n",
       "      <th>new_tests_smoothed_per_thousand</th>\n",
       "      <th>tests_per_case</th>\n",
       "      <th>positive_rate</th>\n",
       "      <th>tests_units</th>\n",
       "      <th>stringency_index</th>\n",
       "      <th>population</th>\n",
       "      <th>population_density</th>\n",
       "      <th>median_age</th>\n",
       "      <th>aged_65_older</th>\n",
       "      <th>aged_70_older</th>\n",
       "      <th>gdp_per_capita</th>\n",
       "      <th>extreme_poverty</th>\n",
       "      <th>cardiovasc_death_rate</th>\n",
       "      <th>diabetes_prevalence</th>\n",
       "      <th>female_smokers</th>\n",
       "      <th>male_smokers</th>\n",
       "      <th>handwashing_facilities</th>\n",
       "      <th>hospital_beds_per_thousand</th>\n",
       "      <th>life_expectancy</th>\n",
       "      <th>human_development_index</th>\n",
       "    </tr>\n",
       "  </thead>\n",
       "  <tbody>\n",
       "    <tr>\n",
       "      <th>34283</th>\n",
       "      <td>MEX</td>\n",
       "      <td>North America</td>\n",
       "      <td>Mexico</td>\n",
       "      <td>2020-11-12</td>\n",
       "      <td>986177.0</td>\n",
       "      <td>7646.0</td>\n",
       "      <td>6078.143</td>\n",
       "      <td>96430.0</td>\n",
       "      <td>588.0</td>\n",
       "      <td>457.429</td>\n",
       "      <td>7648.770</td>\n",
       "      <td>59.302</td>\n",
       "      <td>47.142</td>\n",
       "      <td>747.909</td>\n",
       "      <td>4.561</td>\n",
       "      <td>3.548</td>\n",
       "      <td>NaN</td>\n",
       "      <td>NaN</td>\n",
       "      <td>NaN</td>\n",
       "      <td>NaN</td>\n",
       "      <td>NaN</td>\n",
       "      <td>NaN</td>\n",
       "      <td>NaN</td>\n",
       "      <td>NaN</td>\n",
       "      <td>NaN</td>\n",
       "      <td>NaN</td>\n",
       "      <td>NaN</td>\n",
       "      <td>NaN</td>\n",
       "      <td>NaN</td>\n",
       "      <td>NaN</td>\n",
       "      <td>NaN</td>\n",
       "      <td>NaN</td>\n",
       "      <td>NaN</td>\n",
       "      <td>NaN</td>\n",
       "      <td>74.54</td>\n",
       "      <td>128932753.0</td>\n",
       "      <td>66.444</td>\n",
       "      <td>29.3</td>\n",
       "      <td>6.857</td>\n",
       "      <td>4.321</td>\n",
       "      <td>17336.469</td>\n",
       "      <td>2.5</td>\n",
       "      <td>152.783</td>\n",
       "      <td>13.06</td>\n",
       "      <td>6.9</td>\n",
       "      <td>21.4</td>\n",
       "      <td>87.847</td>\n",
       "      <td>1.38</td>\n",
       "      <td>75.05</td>\n",
       "      <td>0.774</td>\n",
       "    </tr>\n",
       "    <tr>\n",
       "      <th>34284</th>\n",
       "      <td>MEX</td>\n",
       "      <td>North America</td>\n",
       "      <td>Mexico</td>\n",
       "      <td>2020-11-13</td>\n",
       "      <td>991835.0</td>\n",
       "      <td>5658.0</td>\n",
       "      <td>6091.143</td>\n",
       "      <td>97056.0</td>\n",
       "      <td>626.0</td>\n",
       "      <td>469.143</td>\n",
       "      <td>7692.654</td>\n",
       "      <td>43.883</td>\n",
       "      <td>47.243</td>\n",
       "      <td>752.765</td>\n",
       "      <td>4.855</td>\n",
       "      <td>3.639</td>\n",
       "      <td>NaN</td>\n",
       "      <td>NaN</td>\n",
       "      <td>NaN</td>\n",
       "      <td>NaN</td>\n",
       "      <td>NaN</td>\n",
       "      <td>NaN</td>\n",
       "      <td>NaN</td>\n",
       "      <td>NaN</td>\n",
       "      <td>NaN</td>\n",
       "      <td>NaN</td>\n",
       "      <td>NaN</td>\n",
       "      <td>NaN</td>\n",
       "      <td>NaN</td>\n",
       "      <td>NaN</td>\n",
       "      <td>NaN</td>\n",
       "      <td>NaN</td>\n",
       "      <td>NaN</td>\n",
       "      <td>NaN</td>\n",
       "      <td>74.54</td>\n",
       "      <td>128932753.0</td>\n",
       "      <td>66.444</td>\n",
       "      <td>29.3</td>\n",
       "      <td>6.857</td>\n",
       "      <td>4.321</td>\n",
       "      <td>17336.469</td>\n",
       "      <td>2.5</td>\n",
       "      <td>152.783</td>\n",
       "      <td>13.06</td>\n",
       "      <td>6.9</td>\n",
       "      <td>21.4</td>\n",
       "      <td>87.847</td>\n",
       "      <td>1.38</td>\n",
       "      <td>75.05</td>\n",
       "      <td>0.774</td>\n",
       "    </tr>\n",
       "    <tr>\n",
       "      <th>34285</th>\n",
       "      <td>MEX</td>\n",
       "      <td>North America</td>\n",
       "      <td>Mexico</td>\n",
       "      <td>2020-11-14</td>\n",
       "      <td>997393.0</td>\n",
       "      <td>5558.0</td>\n",
       "      <td>6037.857</td>\n",
       "      <td>97624.0</td>\n",
       "      <td>568.0</td>\n",
       "      <td>471.571</td>\n",
       "      <td>7735.761</td>\n",
       "      <td>43.108</td>\n",
       "      <td>46.830</td>\n",
       "      <td>757.170</td>\n",
       "      <td>4.405</td>\n",
       "      <td>3.657</td>\n",
       "      <td>NaN</td>\n",
       "      <td>NaN</td>\n",
       "      <td>NaN</td>\n",
       "      <td>NaN</td>\n",
       "      <td>NaN</td>\n",
       "      <td>NaN</td>\n",
       "      <td>NaN</td>\n",
       "      <td>NaN</td>\n",
       "      <td>NaN</td>\n",
       "      <td>NaN</td>\n",
       "      <td>NaN</td>\n",
       "      <td>NaN</td>\n",
       "      <td>NaN</td>\n",
       "      <td>NaN</td>\n",
       "      <td>NaN</td>\n",
       "      <td>NaN</td>\n",
       "      <td>NaN</td>\n",
       "      <td>NaN</td>\n",
       "      <td>74.54</td>\n",
       "      <td>128932753.0</td>\n",
       "      <td>66.444</td>\n",
       "      <td>29.3</td>\n",
       "      <td>6.857</td>\n",
       "      <td>4.321</td>\n",
       "      <td>17336.469</td>\n",
       "      <td>2.5</td>\n",
       "      <td>152.783</td>\n",
       "      <td>13.06</td>\n",
       "      <td>6.9</td>\n",
       "      <td>21.4</td>\n",
       "      <td>87.847</td>\n",
       "      <td>1.38</td>\n",
       "      <td>75.05</td>\n",
       "      <td>0.774</td>\n",
       "    </tr>\n",
       "    <tr>\n",
       "      <th>34286</th>\n",
       "      <td>MEX</td>\n",
       "      <td>North America</td>\n",
       "      <td>Mexico</td>\n",
       "      <td>2020-11-15</td>\n",
       "      <td>1003253.0</td>\n",
       "      <td>5860.0</td>\n",
       "      <td>5902.143</td>\n",
       "      <td>98259.0</td>\n",
       "      <td>635.0</td>\n",
       "      <td>493.000</td>\n",
       "      <td>7781.211</td>\n",
       "      <td>45.450</td>\n",
       "      <td>45.777</td>\n",
       "      <td>762.095</td>\n",
       "      <td>4.925</td>\n",
       "      <td>3.824</td>\n",
       "      <td>NaN</td>\n",
       "      <td>NaN</td>\n",
       "      <td>NaN</td>\n",
       "      <td>NaN</td>\n",
       "      <td>NaN</td>\n",
       "      <td>NaN</td>\n",
       "      <td>NaN</td>\n",
       "      <td>NaN</td>\n",
       "      <td>NaN</td>\n",
       "      <td>NaN</td>\n",
       "      <td>NaN</td>\n",
       "      <td>NaN</td>\n",
       "      <td>NaN</td>\n",
       "      <td>NaN</td>\n",
       "      <td>NaN</td>\n",
       "      <td>NaN</td>\n",
       "      <td>NaN</td>\n",
       "      <td>NaN</td>\n",
       "      <td>74.54</td>\n",
       "      <td>128932753.0</td>\n",
       "      <td>66.444</td>\n",
       "      <td>29.3</td>\n",
       "      <td>6.857</td>\n",
       "      <td>4.321</td>\n",
       "      <td>17336.469</td>\n",
       "      <td>2.5</td>\n",
       "      <td>152.783</td>\n",
       "      <td>13.06</td>\n",
       "      <td>6.9</td>\n",
       "      <td>21.4</td>\n",
       "      <td>87.847</td>\n",
       "      <td>1.38</td>\n",
       "      <td>75.05</td>\n",
       "      <td>0.774</td>\n",
       "    </tr>\n",
       "    <tr>\n",
       "      <th>34287</th>\n",
       "      <td>MEX</td>\n",
       "      <td>North America</td>\n",
       "      <td>Mexico</td>\n",
       "      <td>2020-11-16</td>\n",
       "      <td>1006522.0</td>\n",
       "      <td>3269.0</td>\n",
       "      <td>5528.143</td>\n",
       "      <td>98542.0</td>\n",
       "      <td>283.0</td>\n",
       "      <td>502.143</td>\n",
       "      <td>7806.566</td>\n",
       "      <td>25.354</td>\n",
       "      <td>42.876</td>\n",
       "      <td>764.290</td>\n",
       "      <td>2.195</td>\n",
       "      <td>3.895</td>\n",
       "      <td>NaN</td>\n",
       "      <td>NaN</td>\n",
       "      <td>NaN</td>\n",
       "      <td>NaN</td>\n",
       "      <td>NaN</td>\n",
       "      <td>NaN</td>\n",
       "      <td>NaN</td>\n",
       "      <td>NaN</td>\n",
       "      <td>NaN</td>\n",
       "      <td>NaN</td>\n",
       "      <td>NaN</td>\n",
       "      <td>NaN</td>\n",
       "      <td>NaN</td>\n",
       "      <td>NaN</td>\n",
       "      <td>NaN</td>\n",
       "      <td>NaN</td>\n",
       "      <td>NaN</td>\n",
       "      <td>NaN</td>\n",
       "      <td>74.54</td>\n",
       "      <td>128932753.0</td>\n",
       "      <td>66.444</td>\n",
       "      <td>29.3</td>\n",
       "      <td>6.857</td>\n",
       "      <td>4.321</td>\n",
       "      <td>17336.469</td>\n",
       "      <td>2.5</td>\n",
       "      <td>152.783</td>\n",
       "      <td>13.06</td>\n",
       "      <td>6.9</td>\n",
       "      <td>21.4</td>\n",
       "      <td>87.847</td>\n",
       "      <td>1.38</td>\n",
       "      <td>75.05</td>\n",
       "      <td>0.774</td>\n",
       "    </tr>\n",
       "  </tbody>\n",
       "</table>"
      ],
      "text/plain": [
       "<table border=\"1\" class=\"dataframe\">\n",
       "  <thead>\n",
       "    <tr style=\"text-align: right;\">\n",
       "      <th></th>\n",
       "      <th>iso_code</th>\n",
       "      <th>continent</th>\n",
       "      <th>location</th>\n",
       "      <th>date</th>\n",
       "      <th>total_cases</th>\n",
       "      <th>new_cases</th>\n",
       "      <th>new_cases_smoothed</th>\n",
       "      <th>total_deaths</th>\n",
       "      <th>new_deaths</th>\n",
       "      <th>new_deaths_smoothed</th>\n",
       "      <th>total_cases_per_million</th>\n",
       "      <th>new_cases_per_million</th>\n",
       "      <th>new_cases_smoothed_per_million</th>\n",
       "      <th>total_deaths_per_million</th>\n",
       "      <th>new_deaths_per_million</th>\n",
       "      <th>new_deaths_smoothed_per_million</th>\n",
       "      <th>reproduction_rate</th>\n",
       "      <th>icu_patients</th>\n",
       "      <th>icu_patients_per_million</th>\n",
       "      <th>hosp_patients</th>\n",
       "      <th>hosp_patients_per_million</th>\n",
       "      <th>weekly_icu_admissions</th>\n",
       "      <th>weekly_icu_admissions_per_million</th>\n",
       "      <th>weekly_hosp_admissions</th>\n",
       "      <th>weekly_hosp_admissions_per_million</th>\n",
       "      <th>total_tests</th>\n",
       "      <th>new_tests</th>\n",
       "      <th>total_tests_per_thousand</th>\n",
       "      <th>new_tests_per_thousand</th>\n",
       "      <th>new_tests_smoothed</th>\n",
       "      <th>new_tests_smoothed_per_thousand</th>\n",
       "      <th>tests_per_case</th>\n",
       "      <th>positive_rate</th>\n",
       "      <th>tests_units</th>\n",
       "      <th>stringency_index</th>\n",
       "      <th>population</th>\n",
       "      <th>population_density</th>\n",
       "      <th>median_age</th>\n",
       "      <th>aged_65_older</th>\n",
       "      <th>aged_70_older</th>\n",
       "      <th>gdp_per_capita</th>\n",
       "      <th>extreme_poverty</th>\n",
       "      <th>cardiovasc_death_rate</th>\n",
       "      <th>diabetes_prevalence</th>\n",
       "      <th>female_smokers</th>\n",
       "      <th>male_smokers</th>\n",
       "      <th>handwashing_facilities</th>\n",
       "      <th>hospital_beds_per_thousand</th>\n",
       "      <th>life_expectancy</th>\n",
       "      <th>human_development_index</th>\n",
       "    </tr>\n",
       "  </thead>\n",
       "  <tbody>\n",
       "    <tr>\n",
       "      <th>34283</th>\n",
       "      <td>MEX</td>\n",
       "      <td>North America</td>\n",
       "      <td>Mexico</td>\n",
       "      <td>2020-11-12</td>\n",
       "      <td>986177.0</td>\n",
       "      <td>7646.0</td>\n",
       "      <td>6078.143</td>\n",
       "      <td>96430.0</td>\n",
       "      <td>588.0</td>\n",
       "      <td>457.429</td>\n",
       "      <td>7648.770</td>\n",
       "      <td>59.302</td>\n",
       "      <td>47.142</td>\n",
       "      <td>747.909</td>\n",
       "      <td>4.561</td>\n",
       "      <td>3.548</td>\n",
       "      <td>NaN</td>\n",
       "      <td>NaN</td>\n",
       "      <td>NaN</td>\n",
       "      <td>NaN</td>\n",
       "      <td>NaN</td>\n",
       "      <td>NaN</td>\n",
       "      <td>NaN</td>\n",
       "      <td>NaN</td>\n",
       "      <td>NaN</td>\n",
       "      <td>NaN</td>\n",
       "      <td>NaN</td>\n",
       "      <td>NaN</td>\n",
       "      <td>NaN</td>\n",
       "      <td>NaN</td>\n",
       "      <td>NaN</td>\n",
       "      <td>NaN</td>\n",
       "      <td>NaN</td>\n",
       "      <td>NaN</td>\n",
       "      <td>74.54</td>\n",
       "      <td>128932753.0</td>\n",
       "      <td>66.444</td>\n",
       "      <td>29.3</td>\n",
       "      <td>6.857</td>\n",
       "      <td>4.321</td>\n",
       "      <td>17336.469</td>\n",
       "      <td>2.5</td>\n",
       "      <td>152.783</td>\n",
       "      <td>13.06</td>\n",
       "      <td>6.9</td>\n",
       "      <td>21.4</td>\n",
       "      <td>87.847</td>\n",
       "      <td>1.38</td>\n",
       "      <td>75.05</td>\n",
       "      <td>0.774</td>\n",
       "    </tr>\n",
       "    <tr>\n",
       "      <th>34284</th>\n",
       "      <td>MEX</td>\n",
       "      <td>North America</td>\n",
       "      <td>Mexico</td>\n",
       "      <td>2020-11-13</td>\n",
       "      <td>991835.0</td>\n",
       "      <td>5658.0</td>\n",
       "      <td>6091.143</td>\n",
       "      <td>97056.0</td>\n",
       "      <td>626.0</td>\n",
       "      <td>469.143</td>\n",
       "      <td>7692.654</td>\n",
       "      <td>43.883</td>\n",
       "      <td>47.243</td>\n",
       "      <td>752.765</td>\n",
       "      <td>4.855</td>\n",
       "      <td>3.639</td>\n",
       "      <td>NaN</td>\n",
       "      <td>NaN</td>\n",
       "      <td>NaN</td>\n",
       "      <td>NaN</td>\n",
       "      <td>NaN</td>\n",
       "      <td>NaN</td>\n",
       "      <td>NaN</td>\n",
       "      <td>NaN</td>\n",
       "      <td>NaN</td>\n",
       "      <td>NaN</td>\n",
       "      <td>NaN</td>\n",
       "      <td>NaN</td>\n",
       "      <td>NaN</td>\n",
       "      <td>NaN</td>\n",
       "      <td>NaN</td>\n",
       "      <td>NaN</td>\n",
       "      <td>NaN</td>\n",
       "      <td>NaN</td>\n",
       "      <td>74.54</td>\n",
       "      <td>128932753.0</td>\n",
       "      <td>66.444</td>\n",
       "      <td>29.3</td>\n",
       "      <td>6.857</td>\n",
       "      <td>4.321</td>\n",
       "      <td>17336.469</td>\n",
       "      <td>2.5</td>\n",
       "      <td>152.783</td>\n",
       "      <td>13.06</td>\n",
       "      <td>6.9</td>\n",
       "      <td>21.4</td>\n",
       "      <td>87.847</td>\n",
       "      <td>1.38</td>\n",
       "      <td>75.05</td>\n",
       "      <td>0.774</td>\n",
       "    </tr>\n",
       "    <tr>\n",
       "      <th>34285</th>\n",
       "      <td>MEX</td>\n",
       "      <td>North America</td>\n",
       "      <td>Mexico</td>\n",
       "      <td>2020-11-14</td>\n",
       "      <td>997393.0</td>\n",
       "      <td>5558.0</td>\n",
       "      <td>6037.857</td>\n",
       "      <td>97624.0</td>\n",
       "      <td>568.0</td>\n",
       "      <td>471.571</td>\n",
       "      <td>7735.761</td>\n",
       "      <td>43.108</td>\n",
       "      <td>46.830</td>\n",
       "      <td>757.170</td>\n",
       "      <td>4.405</td>\n",
       "      <td>3.657</td>\n",
       "      <td>NaN</td>\n",
       "      <td>NaN</td>\n",
       "      <td>NaN</td>\n",
       "      <td>NaN</td>\n",
       "      <td>NaN</td>\n",
       "      <td>NaN</td>\n",
       "      <td>NaN</td>\n",
       "      <td>NaN</td>\n",
       "      <td>NaN</td>\n",
       "      <td>NaN</td>\n",
       "      <td>NaN</td>\n",
       "      <td>NaN</td>\n",
       "      <td>NaN</td>\n",
       "      <td>NaN</td>\n",
       "      <td>NaN</td>\n",
       "      <td>NaN</td>\n",
       "      <td>NaN</td>\n",
       "      <td>NaN</td>\n",
       "      <td>74.54</td>\n",
       "      <td>128932753.0</td>\n",
       "      <td>66.444</td>\n",
       "      <td>29.3</td>\n",
       "      <td>6.857</td>\n",
       "      <td>4.321</td>\n",
       "      <td>17336.469</td>\n",
       "      <td>2.5</td>\n",
       "      <td>152.783</td>\n",
       "      <td>13.06</td>\n",
       "      <td>6.9</td>\n",
       "      <td>21.4</td>\n",
       "      <td>87.847</td>\n",
       "      <td>1.38</td>\n",
       "      <td>75.05</td>\n",
       "      <td>0.774</td>\n",
       "    </tr>\n",
       "    <tr>\n",
       "      <th>34286</th>\n",
       "      <td>MEX</td>\n",
       "      <td>North America</td>\n",
       "      <td>Mexico</td>\n",
       "      <td>2020-11-15</td>\n",
       "      <td>1003253.0</td>\n",
       "      <td>5860.0</td>\n",
       "      <td>5902.143</td>\n",
       "      <td>98259.0</td>\n",
       "      <td>635.0</td>\n",
       "      <td>493.000</td>\n",
       "      <td>7781.211</td>\n",
       "      <td>45.450</td>\n",
       "      <td>45.777</td>\n",
       "      <td>762.095</td>\n",
       "      <td>4.925</td>\n",
       "      <td>3.824</td>\n",
       "      <td>NaN</td>\n",
       "      <td>NaN</td>\n",
       "      <td>NaN</td>\n",
       "      <td>NaN</td>\n",
       "      <td>NaN</td>\n",
       "      <td>NaN</td>\n",
       "      <td>NaN</td>\n",
       "      <td>NaN</td>\n",
       "      <td>NaN</td>\n",
       "      <td>NaN</td>\n",
       "      <td>NaN</td>\n",
       "      <td>NaN</td>\n",
       "      <td>NaN</td>\n",
       "      <td>NaN</td>\n",
       "      <td>NaN</td>\n",
       "      <td>NaN</td>\n",
       "      <td>NaN</td>\n",
       "      <td>NaN</td>\n",
       "      <td>74.54</td>\n",
       "      <td>128932753.0</td>\n",
       "      <td>66.444</td>\n",
       "      <td>29.3</td>\n",
       "      <td>6.857</td>\n",
       "      <td>4.321</td>\n",
       "      <td>17336.469</td>\n",
       "      <td>2.5</td>\n",
       "      <td>152.783</td>\n",
       "      <td>13.06</td>\n",
       "      <td>6.9</td>\n",
       "      <td>21.4</td>\n",
       "      <td>87.847</td>\n",
       "      <td>1.38</td>\n",
       "      <td>75.05</td>\n",
       "      <td>0.774</td>\n",
       "    </tr>\n",
       "    <tr>\n",
       "      <th>34287</th>\n",
       "      <td>MEX</td>\n",
       "      <td>North America</td>\n",
       "      <td>Mexico</td>\n",
       "      <td>2020-11-16</td>\n",
       "      <td>1006522.0</td>\n",
       "      <td>3269.0</td>\n",
       "      <td>5528.143</td>\n",
       "      <td>98542.0</td>\n",
       "      <td>283.0</td>\n",
       "      <td>502.143</td>\n",
       "      <td>7806.566</td>\n",
       "      <td>25.354</td>\n",
       "      <td>42.876</td>\n",
       "      <td>764.290</td>\n",
       "      <td>2.195</td>\n",
       "      <td>3.895</td>\n",
       "      <td>NaN</td>\n",
       "      <td>NaN</td>\n",
       "      <td>NaN</td>\n",
       "      <td>NaN</td>\n",
       "      <td>NaN</td>\n",
       "      <td>NaN</td>\n",
       "      <td>NaN</td>\n",
       "      <td>NaN</td>\n",
       "      <td>NaN</td>\n",
       "      <td>NaN</td>\n",
       "      <td>NaN</td>\n",
       "      <td>NaN</td>\n",
       "      <td>NaN</td>\n",
       "      <td>NaN</td>\n",
       "      <td>NaN</td>\n",
       "      <td>NaN</td>\n",
       "      <td>NaN</td>\n",
       "      <td>NaN</td>\n",
       "      <td>74.54</td>\n",
       "      <td>128932753.0</td>\n",
       "      <td>66.444</td>\n",
       "      <td>29.3</td>\n",
       "      <td>6.857</td>\n",
       "      <td>4.321</td>\n",
       "      <td>17336.469</td>\n",
       "      <td>2.5</td>\n",
       "      <td>152.783</td>\n",
       "      <td>13.06</td>\n",
       "      <td>6.9</td>\n",
       "      <td>21.4</td>\n",
       "      <td>87.847</td>\n",
       "      <td>1.38</td>\n",
       "      <td>75.05</td>\n",
       "      <td>0.774</td>\n",
       "    </tr>\n",
       "  </tbody>\n",
       "</table>"
      ]
     },
     "execution_count": 5,
     "metadata": {},
     "output_type": "execute_result"
    }
   ],
   "source": [
    "dfMX = load_data('Mexico')\n",
    "dfMX = dfMX[dfMX['location'].str.contains(\"Mexico\")]\n",
    "ld = len(dfMX)\n",
    "html(dfMX.tail().to_html())"
   ]
  },
  {
   "cell_type": "markdown",
   "metadata": {},
   "source": [
    "Achando o R0:"
   ]
  },
  {
   "cell_type": "code",
   "execution_count": 7,
   "metadata": {},
   "outputs": [
    {
     "data": {
      "text/html": [
       "<html><script type=\"math/tex; mode=display\">\\newcommand{\\Bold}[1]{\\mathbf{#1}}\\left(S, E, \\mathit{Ia}, \\mathit{Is}, R, D, a, \\mathit{ba}, \\mathit{bs}, \\mathit{ca}, \\mathit{cs}, p, q\\right)</script></html>"
      ],
      "text/plain": [
       "(S, E, Ia, Is, R, D, a, ba, bs, ca, cs, p, q)"
      ]
     },
     "execution_count": 7,
     "metadata": {},
     "output_type": "execute_result"
    }
   ],
   "source": [
    "var('S E Ia Is R D a ba bs ca cs p q')"
   ]
  },
  {
   "cell_type": "code",
   "execution_count": 32,
   "metadata": {},
   "outputs": [],
   "source": [
    "dsdt = -(bs * Is + ba * Ia) * S\n",
    "dedt = (bs * Is + ba * Ia) * S - a * E\n",
    "diadt = p * a * E - ca * Ia\n",
    "disdt = (1 - p) * a * E - cs * Is\n",
    "drdt = ca * Ia + cs * q * Is\n",
    "dddt = cs * (1 - q) * Is"
   ]
  },
  {
   "cell_type": "markdown",
   "metadata": {},
   "source": [
    "Equilibrios"
   ]
  },
  {
   "cell_type": "code",
   "execution_count": 10,
   "metadata": {},
   "outputs": [
    {
     "data": {
      "text/html": [
       "<html><script type=\"math/tex; mode=display\">\\newcommand{\\Bold}[1]{\\mathbf{#1}}\\left[\\left[S = r_{1}, E = 0, \\mathit{Ia} = 0, \\mathit{Is} = 0, R = r_{2}, D = r_{3}\\right]\\right]</script></html>"
      ],
      "text/plain": [
       "[[S == r1, E == 0, Ia == 0, Is == 0, R == r2, D == r3]]"
      ]
     },
     "execution_count": 10,
     "metadata": {},
     "output_type": "execute_result"
    }
   ],
   "source": [
    "solve([dsdt, dedt, diadt, disdt, drdt, dddt],[S, E , Ia, Is, R, D])"
   ]
  },
  {
   "cell_type": "code",
   "execution_count": 15,
   "metadata": {},
   "outputs": [
    {
     "data": {
      "text/html": [
       "<html><script type=\"math/tex; mode=display\">\\newcommand{\\Bold}[1]{\\mathbf{#1}}\\left(\\begin{array}{rrrrrr}\n",
       "-\\mathit{Ia} \\mathit{ba} - \\mathit{Is} \\mathit{bs} & 0 & -S \\mathit{ba} & -S \\mathit{bs} & 0 & 0 \\\\\n",
       "\\mathit{Ia} \\mathit{ba} + \\mathit{Is} \\mathit{bs} & -a & S \\mathit{ba} & S \\mathit{bs} & 0 & 0 \\\\\n",
       "0 & a p & -\\mathit{ca} & 0 & 0 & 0 \\\\\n",
       "0 & -a {\\left(p - 1\\right)} & 0 & -\\mathit{cs} & 0 & 0 \\\\\n",
       "0 & 0 & \\mathit{ca} & \\mathit{cs} q & 0 & 0 \\\\\n",
       "0 & 0 & 0 & -\\mathit{cs} {\\left(q - 1\\right)} & 0 & 0\n",
       "\\end{array}\\right)</script></html>"
      ],
      "text/plain": [
       "[-Ia*ba - Is*bs              0          -S*ba          -S*bs              0              0]\n",
       "[ Ia*ba + Is*bs             -a           S*ba           S*bs              0              0]\n",
       "[             0            a*p            -ca              0              0              0]\n",
       "[             0     -a*(p - 1)              0            -cs              0              0]\n",
       "[             0              0             ca           cs*q              0              0]\n",
       "[             0              0              0    -cs*(q - 1)              0              0]"
      ]
     },
     "execution_count": 15,
     "metadata": {},
     "output_type": "execute_result"
    }
   ],
   "source": [
    "jack = jacobian([dsdt, dedt, diadt, disdt, drdt, dddt],[S, E , Ia, Is, R, D])\n",
    "jack"
   ]
  },
  {
   "cell_type": "code",
   "execution_count": 16,
   "metadata": {},
   "outputs": [
    {
     "data": {
      "text/html": [
       "<html><script type=\"math/tex; mode=display\">\\newcommand{\\Bold}[1]{\\mathbf{#1}}x^{6} + \\left(\\mathit{Ia} \\mathit{ba} + \\mathit{Is} \\mathit{bs} + a + \\mathit{ca} + \\mathit{cs}\\right) x^{5} + \\left(-S a \\mathit{ba} p + S a \\mathit{bs} p + \\mathit{Ia} a \\mathit{ba} + \\mathit{Is} a \\mathit{bs} - S a \\mathit{bs} + \\mathit{Ia} \\mathit{ba} \\mathit{ca} + \\mathit{Is} \\mathit{bs} \\mathit{ca} + \\mathit{Ia} \\mathit{ba} \\mathit{cs} + \\mathit{Is} \\mathit{bs} \\mathit{cs} + a \\mathit{ca} + a \\mathit{cs} + \\mathit{ca} \\mathit{cs}\\right) x^{4} + \\left(S a \\mathit{bs} \\mathit{ca} p - S a \\mathit{ba} \\mathit{cs} p + \\mathit{Ia} a \\mathit{ba} \\mathit{ca} + \\mathit{Is} a \\mathit{bs} \\mathit{ca} - S a \\mathit{bs} \\mathit{ca} + \\mathit{Ia} a \\mathit{ba} \\mathit{cs} + \\mathit{Is} a \\mathit{bs} \\mathit{cs} + \\mathit{Ia} \\mathit{ba} \\mathit{ca} \\mathit{cs} + \\mathit{Is} \\mathit{bs} \\mathit{ca} \\mathit{cs} + a \\mathit{ca} \\mathit{cs}\\right) x^{3} + \\left(\\mathit{Ia} a \\mathit{ba} \\mathit{ca} \\mathit{cs} + \\mathit{Is} a \\mathit{bs} \\mathit{ca} \\mathit{cs}\\right) x^{2}</script></html>"
      ],
      "text/plain": [
       "x^6 + (Ia*ba + Is*bs + a + ca + cs)*x^5 + (-S*a*ba*p + S*a*bs*p + Ia*a*ba + Is*a*bs - S*a*bs + Ia*ba*ca + Is*bs*ca + Ia*ba*cs + Is*bs*cs + a*ca + a*cs + ca*cs)*x^4 + (S*a*bs*ca*p - S*a*ba*cs*p + Ia*a*ba*ca + Is*a*bs*ca - S*a*bs*ca + Ia*a*ba*cs + Is*a*bs*cs + Ia*ba*ca*cs + Is*bs*ca*cs + a*ca*cs)*x^3 + (Ia*a*ba*ca*cs + Is*a*bs*ca*cs)*x^2"
      ]
     },
     "execution_count": 16,
     "metadata": {},
     "output_type": "execute_result"
    }
   ],
   "source": [
    "cp = jack.characteristic_polynomial()\n",
    "cp"
   ]
  },
  {
   "cell_type": "markdown",
   "metadata": {},
   "source": [
    "Cálculo do $R_0$ analítico:"
   ]
  },
  {
   "cell_type": "code",
   "execution_count": 20,
   "metadata": {},
   "outputs": [
    {
     "data": {
      "text/html": [
       "<html><script type=\"math/tex; mode=display\">\\newcommand{\\Bold}[1]{\\mathbf{#1}}\\left(\\begin{array}{r}\n",
       "-{\\left(\\mathit{Ia} \\mathit{ba} + \\mathit{Is} \\mathit{bs}\\right)} S \\\\\n",
       "0 \\\\\n",
       "0\n",
       "\\end{array}\\right)</script></html>"
      ],
      "text/plain": [
       "[-(Ia*ba + Is*bs)*S]\n",
       "[                 0]\n",
       "[                 0]"
      ]
     },
     "execution_count": 20,
     "metadata": {},
     "output_type": "execute_result"
    }
   ],
   "source": [
    "F_cal = matrix([[-(bs * Is + ba * Ia) * S],[0],[0]])\n",
    "F_cal"
   ]
  },
  {
   "cell_type": "code",
   "execution_count": 21,
   "metadata": {},
   "outputs": [
    {
     "data": {
      "text/html": [
       "<html><script type=\"math/tex; mode=display\">\\newcommand{\\Bold}[1]{\\mathbf{#1}}\\left(\\begin{array}{r}\n",
       "E {\\left(\\mathit{ba} + \\mathit{bs}\\right)} \\\\\n",
       "\\mathit{Is} a \\\\\n",
       "\\mathit{Ia} a\n",
       "\\end{array}\\right)</script></html>"
      ],
      "text/plain": [
       "[E*(ba + bs)]\n",
       "[       Is*a]\n",
       "[       Ia*a]"
      ]
     },
     "execution_count": 21,
     "metadata": {},
     "output_type": "execute_result"
    }
   ],
   "source": [
    "V_cal_neg = matrix([[(bs+ba)*E],[a*Is],[a*Ia]])\n",
    "V_cal_neg"
   ]
  },
  {
   "cell_type": "code",
   "execution_count": 22,
   "metadata": {},
   "outputs": [
    {
     "data": {
      "text/html": [
       "<html><script type=\"math/tex; mode=display\">\\newcommand{\\Bold}[1]{\\mathbf{#1}}\\left(\\begin{array}{r}\n",
       "0 \\\\\n",
       "-E {\\left(\\mathit{ba} + \\mathit{bs}\\right)} {\\left(p - 1\\right)} \\\\\n",
       "E {\\left(\\mathit{ba} + \\mathit{bs}\\right)} p\n",
       "\\end{array}\\right)</script></html>"
      ],
      "text/plain": [
       "[                   0]\n",
       "[-E*(ba + bs)*(p - 1)]\n",
       "[       E*(ba + bs)*p]"
      ]
     },
     "execution_count": 22,
     "metadata": {},
     "output_type": "execute_result"
    }
   ],
   "source": [
    "V_cal_pos = matrix([[0],[(1-p)*(bs+ba)*E],[p*(bs+ba)*E]])\n",
    "V_cal_pos"
   ]
  },
  {
   "cell_type": "code",
   "execution_count": 23,
   "metadata": {},
   "outputs": [
    {
     "data": {
      "text/html": [
       "<html><script type=\"math/tex; mode=display\">\\newcommand{\\Bold}[1]{\\mathbf{#1}}\\left(\\begin{array}{r}\n",
       "E {\\left(\\mathit{ba} + \\mathit{bs}\\right)} \\\\\n",
       "E {\\left(\\mathit{ba} + \\mathit{bs}\\right)} {\\left(p - 1\\right)} + \\mathit{Is} a \\\\\n",
       "-E {\\left(\\mathit{ba} + \\mathit{bs}\\right)} p + \\mathit{Ia} a\n",
       "\\end{array}\\right)</script></html>"
      ],
      "text/plain": [
       "[               E*(ba + bs)]\n",
       "[E*(ba + bs)*(p - 1) + Is*a]\n",
       "[     -E*(ba + bs)*p + Ia*a]"
      ]
     },
     "execution_count": 23,
     "metadata": {},
     "output_type": "execute_result"
    }
   ],
   "source": [
    "V_cal = V_cal_neg-V_cal_pos\n",
    "V_cal"
   ]
  },
  {
   "cell_type": "code",
   "execution_count": 25,
   "metadata": {},
   "outputs": [
    {
     "data": {
      "text/html": [
       "<html><script type=\"math/tex; mode=display\">\\newcommand{\\Bold}[1]{\\mathbf{#1}}\\left(\\begin{array}{rrr}\n",
       "0 & -\\mathit{bs} & -\\mathit{ba} \\\\\n",
       "0 & 0 & 0 \\\\\n",
       "0 & 0 & 0\n",
       "\\end{array}\\right)</script></html>"
      ],
      "text/plain": [
       "[  0 -bs -ba]\n",
       "[  0   0   0]\n",
       "[  0   0   0]"
      ]
     },
     "execution_count": 25,
     "metadata": {},
     "output_type": "execute_result"
    }
   ],
   "source": [
    "F = jacobian(F_cal(S=1),[E,Is,Ia])\n",
    "F"
   ]
  },
  {
   "cell_type": "code",
   "execution_count": 27,
   "metadata": {},
   "outputs": [
    {
     "data": {
      "text/html": [
       "<html><script type=\"math/tex; mode=display\">\\newcommand{\\Bold}[1]{\\mathbf{#1}}\\left(\\begin{array}{rrr}\n",
       "\\mathit{ba} + \\mathit{bs} & 0 & 0 \\\\\n",
       "{\\left(\\mathit{ba} + \\mathit{bs}\\right)} {\\left(p - 1\\right)} & a & 0 \\\\\n",
       "-{\\left(\\mathit{ba} + \\mathit{bs}\\right)} p & 0 & a\n",
       "\\end{array}\\right)</script></html>"
      ],
      "text/plain": [
       "[          ba + bs                 0                 0]\n",
       "[(ba + bs)*(p - 1)                 a                 0]\n",
       "[     -(ba + bs)*p                 0                 a]"
      ]
     },
     "execution_count": 27,
     "metadata": {},
     "output_type": "execute_result"
    }
   ],
   "source": [
    "V = jacobian(V_cal(S=1),[E,Is,Ia])\n",
    "V"
   ]
  },
  {
   "cell_type": "markdown",
   "metadata": {},
   "source": [
    "$R_0 = p(FV^{-1})$"
   ]
  },
  {
   "cell_type": "code",
   "execution_count": 28,
   "metadata": {},
   "outputs": [],
   "source": [
    "M = F*V.inverse()"
   ]
  },
  {
   "cell_type": "code",
   "execution_count": 29,
   "metadata": {},
   "outputs": [
    {
     "data": {
      "text/html": [
       "<html><script type=\"math/tex; mode=display\">\\newcommand{\\Bold}[1]{\\mathbf{#1}}\\left(\\begin{array}{rrr}\n",
       "-\\frac{{\\left(\\mathit{ba} - \\mathit{bs}\\right)} p + \\mathit{bs}}{a} & -\\frac{\\mathit{bs}}{a} & -\\frac{\\mathit{ba}}{a} \\\\\n",
       "0 & 0 & 0 \\\\\n",
       "0 & 0 & 0\n",
       "\\end{array}\\right)</script></html>"
      ],
      "text/plain": [
       "[-((ba - bs)*p + bs)/a                 -bs/a                 -ba/a]\n",
       "[                    0                     0                     0]\n",
       "[                    0                     0                     0]"
      ]
     },
     "execution_count": 29,
     "metadata": {},
     "output_type": "execute_result"
    }
   ],
   "source": [
    "M=M.simplify_full()\n",
    "M"
   ]
  },
  {
   "cell_type": "code",
   "execution_count": 30,
   "metadata": {},
   "outputs": [
    {
     "data": {
      "text/html": [
       "<html><script type=\"math/tex; mode=display\">\\newcommand{\\Bold}[1]{\\mathbf{#1}}\\left[-\\frac{{\\left(\\mathit{ba} - \\mathit{bs}\\right)} p + \\mathit{bs}}{a}, 0, 0\\right]</script></html>"
      ],
      "text/plain": [
       "[-((ba - bs)*p + bs)/a, 0, 0]"
      ]
     },
     "execution_count": 30,
     "metadata": {},
     "output_type": "execute_result"
    }
   ],
   "source": [
    "M.eigenvalues()"
   ]
  },
  {
   "cell_type": "code",
   "execution_count": 31,
   "metadata": {},
   "outputs": [
    {
     "data": {
      "text/html": [
       "<html><script type=\"math/tex; mode=display\">\\newcommand{\\Bold}[1]{\\mathbf{#1}}-\\frac{{\\left(\\mathit{ba} - \\mathit{bs}\\right)} p + \\mathit{bs}}{a}</script></html>"
      ],
      "text/plain": [
       "-((ba - bs)*p + bs)/a"
      ]
     },
     "execution_count": 31,
     "metadata": {},
     "output_type": "execute_result"
    }
   ],
   "source": [
    "R0=M[0,0].simplify_full()\n",
    "R0"
   ]
  },
  {
   "cell_type": "markdown",
   "metadata": {},
   "source": [
    "Simulação:"
   ]
  },
  {
   "cell_type": "code",
   "execution_count": null,
   "metadata": {},
   "outputs": [],
   "source": [
    "def model(t, y, params):\n",
    "    S, E, Is, Ia, R, D = y\n",
    "    a, ba, bs, ca, cs, p, q = params\n",
    "    return [\n",
    "        -lamb * ((1 - chi) * S),  # dS/dt\n",
    "        lamb * ((1 - chi) * S) - alpha * E,  # dE/dt\n",
    "        (1 - p) * alpha * E - delta * I - phi * I,  # dI/dt\n",
    "        p * alpha * E - gamma * A,\n",
    "        phi * I - (rho + mu) * H,  # dH/dt\n",
    "        delta * I + rho * H + gamma * A,  # dR/dt\n",
    "        phi * I,  # (1-p)*alpha*E+ p*alpha*E # Hospit. acumuladas\n",
    "        mu * H  # Morte acumuladas\n",
    "    ]"
   ]
  }
 ],
 "metadata": {
  "kernelspec": {
   "display_name": "SageMath 9.1",
   "language": "sage",
   "name": "sagemath"
  },
  "language_info": {
   "codemirror_mode": {
    "name": "ipython",
    "version": 3
   },
   "file_extension": ".py",
   "mimetype": "text/x-python",
   "name": "python",
   "nbconvert_exporter": "python",
   "pygments_lexer": "ipython3",
   "version": "3.7.3"
  }
 },
 "nbformat": 4,
 "nbformat_minor": 2
}
