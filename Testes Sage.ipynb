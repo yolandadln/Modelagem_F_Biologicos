{
 "cells": [
  {
   "cell_type": "code",
   "execution_count": 1,
   "metadata": {},
   "outputs": [],
   "source": [
    "# import sympy\n",
    "%display typeset"
   ]
  },
  {
   "cell_type": "code",
   "execution_count": 2,
   "metadata": {},
   "outputs": [
    {
     "data": {
      "text/html": [
       "<html><script type=\"math/tex; mode=display\">\\newcommand{\\Bold}[1]{\\mathbf{#1}}\\left(S, E, I, A, H, \\Lambda, \\beta, \\chi, \\alpha, p, \\phi, \\delta, \\rho, \\mu\\right)</script></html>"
      ],
      "text/plain": [
       "(S, E, I, A, H, Lambda, beta, chi, alpha, p, phi, delta, rho, mu)"
      ]
     },
     "execution_count": 2,
     "metadata": {},
     "output_type": "execute_result"
    }
   ],
   "source": [
    "var('S E I A H Lambda beta chi alpha p phi delta rho mu')"
   ]
  },
  {
   "cell_type": "code",
   "execution_count": 3,
   "metadata": {},
   "outputs": [],
   "source": [
    "Lambda = beta*(I+A)\n",
    "dsdt = -Lambda*(1-chi)*S\n",
    "dedt = Lambda*(1-chi)*S - alpha*E\n",
    "didt = (1-p)*alpha*E -delta*I\n",
    "dadt = p*alpha*E - delta*A\n",
    "dhdt = phi*delta*I-(rho+mu)*H"
   ]
  },
  {
   "cell_type": "code",
   "execution_count": 4,
   "metadata": {},
   "outputs": [
    {
     "data": {
      "text/html": [
       "<html><script type=\"math/tex; mode=display\">\\newcommand{\\Bold}[1]{\\mathbf{#1}}\\left[\\left[S = r_{1}, E = 0, I = 0, A = 0, H = 0\\right]\\right]</script></html>"
      ],
      "text/plain": [
       "[[S == r1, E == 0, I == 0, A == 0, H == 0]]"
      ]
     },
     "execution_count": 4,
     "metadata": {},
     "output_type": "execute_result"
    }
   ],
   "source": [
    "solve([dsdt,dedt,didt,dadt,dhdt],[S,E,I,A,H])"
   ]
  },
  {
   "cell_type": "code",
   "execution_count": 5,
   "metadata": {},
   "outputs": [
    {
     "data": {
      "text/html": [
       "<html><script type=\"math/tex; mode=display\">\\newcommand{\\Bold}[1]{\\mathbf{#1}}\\left(\\begin{array}{rrrrr}\n",
       "{\\left(A + I\\right)} \\beta {\\left(\\chi - 1\\right)} & 0 & S \\beta {\\left(\\chi - 1\\right)} & S \\beta {\\left(\\chi - 1\\right)} & 0 \\\\\n",
       "-{\\left(A + I\\right)} \\beta {\\left(\\chi - 1\\right)} & -\\alpha & -S \\beta {\\left(\\chi - 1\\right)} & -S \\beta {\\left(\\chi - 1\\right)} & 0 \\\\\n",
       "0 & -\\alpha {\\left(p - 1\\right)} & -\\delta & 0 & 0 \\\\\n",
       "0 & \\alpha p & 0 & -\\delta & 0 \\\\\n",
       "0 & 0 & \\delta \\phi & 0 & -\\mu - \\rho\n",
       "\\end{array}\\right)</script></html>"
      ],
      "text/plain": [
       "[ (A + I)*beta*(chi - 1)                       0        S*beta*(chi - 1)        S*beta*(chi - 1)                       0]\n",
       "[-(A + I)*beta*(chi - 1)                  -alpha       -S*beta*(chi - 1)       -S*beta*(chi - 1)                       0]\n",
       "[                      0          -alpha*(p - 1)                  -delta                       0                       0]\n",
       "[                      0                 alpha*p                       0                  -delta                       0]\n",
       "[                      0                       0               delta*phi                       0               -mu - rho]"
      ]
     },
     "execution_count": 5,
     "metadata": {},
     "output_type": "execute_result"
    }
   ],
   "source": [
    "jack=jacobian([dsdt,dedt,didt,dadt,dhdt],[S,E,I,A,H])\n",
    "jack"
   ]
  },
  {
   "cell_type": "code",
   "execution_count": 6,
   "metadata": {},
   "outputs": [
    {
     "data": {
      "text/html": [
       "<html><script type=\"math/tex; mode=display\">\\newcommand{\\Bold}[1]{\\mathbf{#1}}x^{5} + \\left(-A \\beta \\chi - I \\beta \\chi + A \\beta + I \\beta + \\alpha + 2 \\, \\delta + \\mu + \\rho\\right) x^{4} + \\left(-A \\alpha \\beta \\chi - I \\alpha \\beta \\chi + S \\alpha \\beta \\chi - 2 \\, A \\beta \\chi \\delta - 2 \\, I \\beta \\chi \\delta - A \\beta \\chi \\mu - I \\beta \\chi \\mu - A \\beta \\chi \\rho - I \\beta \\chi \\rho + A \\alpha \\beta + I \\alpha \\beta - S \\alpha \\beta + 2 \\, A \\beta \\delta + 2 \\, I \\beta \\delta + A \\beta \\mu + I \\beta \\mu + A \\beta \\rho + I \\beta \\rho + 2 \\, \\alpha \\delta + \\delta^{2} + \\alpha \\mu + 2 \\, \\delta \\mu + \\alpha \\rho + 2 \\, \\delta \\rho\\right) x^{3} + \\left(-2 \\, A \\alpha \\beta \\chi \\delta - 2 \\, I \\alpha \\beta \\chi \\delta + S \\alpha \\beta \\chi \\delta - A \\beta \\chi \\delta^{2} - I \\beta \\chi \\delta^{2} - A \\alpha \\beta \\chi \\mu - I \\alpha \\beta \\chi \\mu + S \\alpha \\beta \\chi \\mu - 2 \\, A \\beta \\chi \\delta \\mu - 2 \\, I \\beta \\chi \\delta \\mu - A \\alpha \\beta \\chi \\rho - I \\alpha \\beta \\chi \\rho + S \\alpha \\beta \\chi \\rho - 2 \\, A \\beta \\chi \\delta \\rho - 2 \\, I \\beta \\chi \\delta \\rho + 2 \\, A \\alpha \\beta \\delta + 2 \\, I \\alpha \\beta \\delta - S \\alpha \\beta \\delta + A \\beta \\delta^{2} + I \\beta \\delta^{2} + A \\alpha \\beta \\mu + I \\alpha \\beta \\mu - S \\alpha \\beta \\mu + 2 \\, A \\beta \\delta \\mu + 2 \\, I \\beta \\delta \\mu + A \\alpha \\beta \\rho + I \\alpha \\beta \\rho - S \\alpha \\beta \\rho + 2 \\, A \\beta \\delta \\rho + 2 \\, I \\beta \\delta \\rho + \\alpha \\delta^{2} + 2 \\, \\alpha \\delta \\mu + \\delta^{2} \\mu + 2 \\, \\alpha \\delta \\rho + \\delta^{2} \\rho\\right) x^{2} + \\left(-A \\alpha \\beta \\chi \\delta^{2} - I \\alpha \\beta \\chi \\delta^{2} - 2 \\, A \\alpha \\beta \\chi \\delta \\mu - 2 \\, I \\alpha \\beta \\chi \\delta \\mu + S \\alpha \\beta \\chi \\delta \\mu - A \\beta \\chi \\delta^{2} \\mu - I \\beta \\chi \\delta^{2} \\mu - 2 \\, A \\alpha \\beta \\chi \\delta \\rho - 2 \\, I \\alpha \\beta \\chi \\delta \\rho + S \\alpha \\beta \\chi \\delta \\rho - A \\beta \\chi \\delta^{2} \\rho - I \\beta \\chi \\delta^{2} \\rho + A \\alpha \\beta \\delta^{2} + I \\alpha \\beta \\delta^{2} + 2 \\, A \\alpha \\beta \\delta \\mu + 2 \\, I \\alpha \\beta \\delta \\mu - S \\alpha \\beta \\delta \\mu + A \\beta \\delta^{2} \\mu + I \\beta \\delta^{2} \\mu + 2 \\, A \\alpha \\beta \\delta \\rho + 2 \\, I \\alpha \\beta \\delta \\rho - S \\alpha \\beta \\delta \\rho + A \\beta \\delta^{2} \\rho + I \\beta \\delta^{2} \\rho + \\alpha \\delta^{2} \\mu + \\alpha \\delta^{2} \\rho\\right) x - A \\alpha \\beta \\chi \\delta^{2} \\mu - I \\alpha \\beta \\chi \\delta^{2} \\mu - A \\alpha \\beta \\chi \\delta^{2} \\rho - I \\alpha \\beta \\chi \\delta^{2} \\rho + A \\alpha \\beta \\delta^{2} \\mu + I \\alpha \\beta \\delta^{2} \\mu + A \\alpha \\beta \\delta^{2} \\rho + I \\alpha \\beta \\delta^{2} \\rho</script></html>"
      ],
      "text/plain": [
       "x^5 + (-A*beta*chi - I*beta*chi + A*beta + I*beta + alpha + 2*delta + mu + rho)*x^4 + (-A*alpha*beta*chi - I*alpha*beta*chi + S*alpha*beta*chi - 2*A*beta*chi*delta - 2*I*beta*chi*delta - A*beta*chi*mu - I*beta*chi*mu - A*beta*chi*rho - I*beta*chi*rho + A*alpha*beta + I*alpha*beta - S*alpha*beta + 2*A*beta*delta + 2*I*beta*delta + A*beta*mu + I*beta*mu + A*beta*rho + I*beta*rho + 2*alpha*delta + delta^2 + alpha*mu + 2*delta*mu + alpha*rho + 2*delta*rho)*x^3 + (-2*A*alpha*beta*chi*delta - 2*I*alpha*beta*chi*delta + S*alpha*beta*chi*delta - A*beta*chi*delta^2 - I*beta*chi*delta^2 - A*alpha*beta*chi*mu - I*alpha*beta*chi*mu + S*alpha*beta*chi*mu - 2*A*beta*chi*delta*mu - 2*I*beta*chi*delta*mu - A*alpha*beta*chi*rho - I*alpha*beta*chi*rho + S*alpha*beta*chi*rho - 2*A*beta*chi*delta*rho - 2*I*beta*chi*delta*rho + 2*A*alpha*beta*delta + 2*I*alpha*beta*delta - S*alpha*beta*delta + A*beta*delta^2 + I*beta*delta^2 + A*alpha*beta*mu + I*alpha*beta*mu - S*alpha*beta*mu + 2*A*beta*delta*mu + 2*I*beta*delta*mu + A*alpha*beta*rho + I*alpha*beta*rho - S*alpha*beta*rho + 2*A*beta*delta*rho + 2*I*beta*delta*rho + alpha*delta^2 + 2*alpha*delta*mu + delta^2*mu + 2*alpha*delta*rho + delta^2*rho)*x^2 + (-A*alpha*beta*chi*delta^2 - I*alpha*beta*chi*delta^2 - 2*A*alpha*beta*chi*delta*mu - 2*I*alpha*beta*chi*delta*mu + S*alpha*beta*chi*delta*mu - A*beta*chi*delta^2*mu - I*beta*chi*delta^2*mu - 2*A*alpha*beta*chi*delta*rho - 2*I*alpha*beta*chi*delta*rho + S*alpha*beta*chi*delta*rho - A*beta*chi*delta^2*rho - I*beta*chi*delta^2*rho + A*alpha*beta*delta^2 + I*alpha*beta*delta^2 + 2*A*alpha*beta*delta*mu + 2*I*alpha*beta*delta*mu - S*alpha*beta*delta*mu + A*beta*delta^2*mu + I*beta*delta^2*mu + 2*A*alpha*beta*delta*rho + 2*I*alpha*beta*delta*rho - S*alpha*beta*delta*rho + A*beta*delta^2*rho + I*beta*delta^2*rho + alpha*delta^2*mu + alpha*delta^2*rho)*x - A*alpha*beta*chi*delta^2*mu - I*alpha*beta*chi*delta^2*mu - A*alpha*beta*chi*delta^2*rho - I*alpha*beta*chi*delta^2*rho + A*alpha*beta*delta^2*mu + I*alpha*beta*delta^2*mu + A*alpha*beta*delta^2*rho + I*alpha*beta*delta^2*rho"
      ]
     },
     "execution_count": 6,
     "metadata": {},
     "output_type": "execute_result"
    }
   ],
   "source": [
    "cp = jack.characteristic_polynomial()\n",
    "cp"
   ]
  },
  {
   "cell_type": "code",
   "execution_count": 8,
   "metadata": {},
   "outputs": [
    {
     "data": {
      "text/html": [
       "<html><script type=\"math/tex; mode=display\">\\newcommand{\\Bold}[1]{\\mathbf{#1}}\\left(\\begin{array}{r}\n",
       "-{\\left(A + I\\right)} S \\beta {\\left(\\chi - 1\\right)} \\\\\n",
       "0 \\\\\n",
       "0\n",
       "\\end{array}\\right)</script></html>"
      ],
      "text/plain": [
       "[-(A + I)*S*beta*(chi - 1)]\n",
       "[                        0]\n",
       "[                        0]"
      ]
     },
     "execution_count": 8,
     "metadata": {},
     "output_type": "execute_result"
    }
   ],
   "source": [
    "F_cal = matrix([[Lambda*(1-chi)*S],[0],[0]])\n",
    "F_cal"
   ]
  },
  {
   "cell_type": "code",
   "execution_count": 9,
   "metadata": {},
   "outputs": [
    {
     "data": {
      "text/html": [
       "<html><script type=\"math/tex; mode=display\">\\newcommand{\\Bold}[1]{\\mathbf{#1}}\\left(\\begin{array}{r}\n",
       "E \\alpha \\\\\n",
       "I \\delta \\\\\n",
       "A \\delta\n",
       "\\end{array}\\right)</script></html>"
      ],
      "text/plain": [
       "[E*alpha]\n",
       "[I*delta]\n",
       "[A*delta]"
      ]
     },
     "execution_count": 9,
     "metadata": {},
     "output_type": "execute_result"
    }
   ],
   "source": [
    "V_cal_neg = matrix([[alpha*E],[delta*I],[delta*A]])\n",
    "V_cal_neg"
   ]
  },
  {
   "cell_type": "code",
   "execution_count": 10,
   "metadata": {},
   "outputs": [
    {
     "data": {
      "text/html": [
       "<html><script type=\"math/tex; mode=display\">\\newcommand{\\Bold}[1]{\\mathbf{#1}}\\left(\\begin{array}{r}\n",
       "0 \\\\\n",
       "-E \\alpha {\\left(p - 1\\right)} \\\\\n",
       "E \\alpha p\n",
       "\\end{array}\\right)</script></html>"
      ],
      "text/plain": [
       "[               0]\n",
       "[-E*alpha*(p - 1)]\n",
       "[       E*alpha*p]"
      ]
     },
     "execution_count": 10,
     "metadata": {},
     "output_type": "execute_result"
    }
   ],
   "source": [
    "V_cal_pos = matrix([[0],[(1-p)*alpha*E],[p*alpha*E]])\n",
    "V_cal_pos"
   ]
  },
  {
   "cell_type": "code",
   "execution_count": 11,
   "metadata": {},
   "outputs": [
    {
     "data": {
      "text/html": [
       "<html><script type=\"math/tex; mode=display\">\\newcommand{\\Bold}[1]{\\mathbf{#1}}\\left(\\begin{array}{r}\n",
       "E \\alpha \\\\\n",
       "E \\alpha {\\left(p - 1\\right)} + I \\delta \\\\\n",
       "-E \\alpha p + A \\delta\n",
       "\\end{array}\\right)</script></html>"
      ],
      "text/plain": [
       "[                  E*alpha]\n",
       "[E*alpha*(p - 1) + I*delta]\n",
       "[     -E*alpha*p + A*delta]"
      ]
     },
     "execution_count": 11,
     "metadata": {},
     "output_type": "execute_result"
    }
   ],
   "source": [
    "V_cal = V_cal_neg-V_cal_pos\n",
    "V_cal"
   ]
  },
  {
   "cell_type": "code",
   "execution_count": 12,
   "metadata": {},
   "outputs": [
    {
     "data": {
      "text/html": [
       "<html><script type=\"math/tex; mode=display\">\\newcommand{\\Bold}[1]{\\mathbf{#1}}\\left(\\begin{array}{rrr}\n",
       "0 & -\\beta {\\left(\\chi - 1\\right)} & -\\beta {\\left(\\chi - 1\\right)} \\\\\n",
       "0 & 0 & 0 \\\\\n",
       "0 & 0 & 0\n",
       "\\end{array}\\right)</script></html>"
      ],
      "text/plain": [
       "[              0 -beta*(chi - 1) -beta*(chi - 1)]\n",
       "[              0               0               0]\n",
       "[              0               0               0]"
      ]
     },
     "execution_count": 12,
     "metadata": {},
     "output_type": "execute_result"
    }
   ],
   "source": [
    "F = jacobian(F_cal(S=1),[E,I,A])\n",
    "F"
   ]
  },
  {
   "cell_type": "code",
   "execution_count": 13,
   "metadata": {},
   "outputs": [
    {
     "data": {
      "text/html": [
       "<html><script type=\"math/tex; mode=display\">\\newcommand{\\Bold}[1]{\\mathbf{#1}}\\left(\\begin{array}{rrr}\n",
       "\\alpha & 0 & 0 \\\\\n",
       "\\alpha {\\left(p - 1\\right)} & \\delta & 0 \\\\\n",
       "-\\alpha p & 0 & \\delta\n",
       "\\end{array}\\right)</script></html>"
      ],
      "text/plain": [
       "[        alpha             0             0]\n",
       "[alpha*(p - 1)         delta             0]\n",
       "[     -alpha*p             0         delta]"
      ]
     },
     "execution_count": 13,
     "metadata": {},
     "output_type": "execute_result"
    }
   ],
   "source": [
    "V = jacobian(V_cal(S=1),[E,I,A])\n",
    "V"
   ]
  },
  {
   "cell_type": "code",
   "execution_count": 14,
   "metadata": {},
   "outputs": [],
   "source": [
    "M = F*V.inverse()"
   ]
  },
  {
   "cell_type": "code",
   "execution_count": 15,
   "metadata": {},
   "outputs": [
    {
     "data": {
      "text/html": [
       "<html><script type=\"math/tex; mode=display\">\\newcommand{\\Bold}[1]{\\mathbf{#1}}\\left(\\begin{array}{rrr}\n",
       "-\\frac{\\beta \\chi - \\beta}{\\delta} & -\\frac{\\beta \\chi - \\beta}{\\delta} & -\\frac{\\beta \\chi - \\beta}{\\delta} \\\\\n",
       "0 & 0 & 0 \\\\\n",
       "0 & 0 & 0\n",
       "\\end{array}\\right)</script></html>"
      ],
      "text/plain": [
       "[-(beta*chi - beta)/delta -(beta*chi - beta)/delta -(beta*chi - beta)/delta]\n",
       "[                       0                        0                        0]\n",
       "[                       0                        0                        0]"
      ]
     },
     "execution_count": 15,
     "metadata": {},
     "output_type": "execute_result"
    }
   ],
   "source": [
    "M=M.simplify_full()\n",
    "M"
   ]
  },
  {
   "cell_type": "code",
   "execution_count": 16,
   "metadata": {},
   "outputs": [
    {
     "data": {
      "text/html": [
       "<html><script type=\"math/tex; mode=display\">\\newcommand{\\Bold}[1]{\\mathbf{#1}}\\left[-\\frac{\\beta \\chi - \\beta}{\\delta}, 0, 0\\right]</script></html>"
      ],
      "text/plain": [
       "[-(beta*chi - beta)/delta, 0, 0]"
      ]
     },
     "execution_count": 16,
     "metadata": {},
     "output_type": "execute_result"
    }
   ],
   "source": [
    "M.eigenvalues()"
   ]
  },
  {
   "cell_type": "code",
   "execution_count": 17,
   "metadata": {},
   "outputs": [
    {
     "data": {
      "text/html": [
       "<html><script type=\"math/tex; mode=display\">\\newcommand{\\Bold}[1]{\\mathbf{#1}}-\\frac{\\beta \\chi - \\beta}{\\delta}</script></html>"
      ],
      "text/plain": [
       "-(beta*chi - beta)/delta"
      ]
     },
     "execution_count": 17,
     "metadata": {},
     "output_type": "execute_result"
    }
   ],
   "source": [
    "R0=M[0,0].simplify_full()\n",
    "R0"
   ]
  },
  {
   "cell_type": "code",
   "execution_count": null,
   "metadata": {},
   "outputs": [],
   "source": []
  }
 ],
 "metadata": {
  "kernelspec": {
   "display_name": "SageMath 9.1",
   "language": "sage",
   "name": "sagemath"
  },
  "language_info": {
   "codemirror_mode": {
    "name": "ipython",
    "version": 3
   },
   "file_extension": ".py",
   "mimetype": "text/x-python",
   "name": "python",
   "nbconvert_exporter": "python",
   "pygments_lexer": "ipython3",
   "version": "3.7.3"
  }
 },
 "nbformat": 4,
 "nbformat_minor": 2
}
