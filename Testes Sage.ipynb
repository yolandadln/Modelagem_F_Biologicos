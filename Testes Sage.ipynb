{
 "cells": [
  {
   "cell_type": "code",
   "execution_count": 1,
   "metadata": {},
   "outputs": [],
   "source": [
    "# import sympy\n",
    "%display typeset"
   ]
  },
  {
   "cell_type": "code",
   "execution_count": 2,
   "metadata": {},
   "outputs": [
    {
     "data": {
      "text/html": [
       "<html><script type=\"math/tex; mode=display\">\\newcommand{\\Bold}[1]{\\mathbf{#1}}\\left(S, E, I, A, H, \\Lambda, \\beta, \\chi, \\alpha, p, \\phi, \\delta, \\rho, \\mu\\right)</script></html>"
      ],
      "text/plain": [
       "(S, E, I, A, H, Lambda, beta, chi, alpha, p, phi, delta, rho, mu)"
      ]
     },
     "execution_count": 2,
     "metadata": {},
     "output_type": "execute_result"
    }
   ],
   "source": [
    "var('S E I A H Lambda beta chi alpha p phi delta rho mu')"
   ]
  },
  {
   "cell_type": "code",
   "execution_count": 3,
   "metadata": {},
   "outputs": [],
   "source": [
    "Lambda = beta*(I+A)\n",
    "dsdt = -Lambda*(1-chi)*S\n",
    "dedt = Lambda*(1-chi)*S - alpha*E\n",
    "didt = (1-p)*alpha*E -delta*I\n",
    "dadt = p*alpha*E - delta*A\n",
    "dhdt = phi*delta*I-(rho+mu)*H"
   ]
  },
  {
   "cell_type": "code",
   "execution_count": 4,
   "metadata": {},
   "outputs": [
    {
     "data": {
      "text/html": [
       "<html><script type=\"math/tex; mode=display\">\\newcommand{\\Bold}[1]{\\mathbf{#1}}\\left[\\left[S = r_{1}, E = 0, I = 0, A = 0, H = 0\\right]\\right]</script></html>"
      ],
      "text/plain": [
       "[[S == r1, E == 0, I == 0, A == 0, H == 0]]"
      ]
     },
     "execution_count": 4,
     "metadata": {},
     "output_type": "execute_result"
    }
   ],
   "source": [
    "solve([dsdt,dedt,didt,dadt,dhdt],[S,E,I,A,H])"
   ]
  },
  {
   "cell_type": "code",
   "execution_count": 5,
   "metadata": {},
   "outputs": [
    {
     "data": {
      "text/html": [
       "<html><script type=\"math/tex; mode=display\">\\newcommand{\\Bold}[1]{\\mathbf{#1}}\\left(\\begin{array}{rrrrr}\n",
       "{\\left(A + I\\right)} \\beta {\\left(\\chi - 1\\right)} & 0 & S \\beta {\\left(\\chi - 1\\right)} & S \\beta {\\left(\\chi - 1\\right)} & 0 \\\\\n",
       "-{\\left(A + I\\right)} \\beta {\\left(\\chi - 1\\right)} & -\\alpha & -S \\beta {\\left(\\chi - 1\\right)} & -S \\beta {\\left(\\chi - 1\\right)} & 0 \\\\\n",
       "0 & -\\alpha {\\left(p - 1\\right)} & -\\delta & 0 & 0 \\\\\n",
       "0 & \\alpha p & 0 & -\\delta & 0 \\\\\n",
       "0 & 0 & \\delta \\phi & 0 & -\\mu - \\rho\n",
       "\\end{array}\\right)</script></html>"
      ],
      "text/plain": [
       "[ (A + I)*beta*(chi - 1)                       0        S*beta*(chi - 1)        S*beta*(chi - 1)                       0]\n",
       "[-(A + I)*beta*(chi - 1)                  -alpha       -S*beta*(chi - 1)       -S*beta*(chi - 1)                       0]\n",
       "[                      0          -alpha*(p - 1)                  -delta                       0                       0]\n",
       "[                      0                 alpha*p                       0                  -delta                       0]\n",
       "[                      0                       0               delta*phi                       0               -mu - rho]"
      ]
     },
     "execution_count": 5,
     "metadata": {},
     "output_type": "execute_result"
    }
   ],
   "source": [
    "jack=jacobian([dsdt,dedt,didt,dadt,dhdt],[S,E,I,A,H])\n",
    "jack"
   ]
  },
  {
   "cell_type": "code",
   "execution_count": 6,
   "metadata": {},
   "outputs": [
    {
     "data": {
      "text/html": [
       "<html><script type=\"math/tex; mode=display\">\\newcommand{\\Bold}[1]{\\mathbf{#1}}x^{5} + \\left(-A \\beta \\chi - I \\beta \\chi + A \\beta + I \\beta + \\alpha + 2 \\, \\delta + \\mu + \\rho\\right) x^{4} + \\left(-A \\alpha \\beta \\chi - I \\alpha \\beta \\chi + S \\alpha \\beta \\chi - 2 \\, A \\beta \\chi \\delta - 2 \\, I \\beta \\chi \\delta - A \\beta \\chi \\mu - I \\beta \\chi \\mu - A \\beta \\chi \\rho - I \\beta \\chi \\rho + A \\alpha \\beta + I \\alpha \\beta - S \\alpha \\beta + 2 \\, A \\beta \\delta + 2 \\, I \\beta \\delta + A \\beta \\mu + I \\beta \\mu + A \\beta \\rho + I \\beta \\rho + 2 \\, \\alpha \\delta + \\delta^{2} + \\alpha \\mu + 2 \\, \\delta \\mu + \\alpha \\rho + 2 \\, \\delta \\rho\\right) x^{3} + \\left(-2 \\, A \\alpha \\beta \\chi \\delta - 2 \\, I \\alpha \\beta \\chi \\delta + S \\alpha \\beta \\chi \\delta - A \\beta \\chi \\delta^{2} - I \\beta \\chi \\delta^{2} - A \\alpha \\beta \\chi \\mu - I \\alpha \\beta \\chi \\mu + S \\alpha \\beta \\chi \\mu - 2 \\, A \\beta \\chi \\delta \\mu - 2 \\, I \\beta \\chi \\delta \\mu - A \\alpha \\beta \\chi \\rho - I \\alpha \\beta \\chi \\rho + S \\alpha \\beta \\chi \\rho - 2 \\, A \\beta \\chi \\delta \\rho - 2 \\, I \\beta \\chi \\delta \\rho + 2 \\, A \\alpha \\beta \\delta + 2 \\, I \\alpha \\beta \\delta - S \\alpha \\beta \\delta + A \\beta \\delta^{2} + I \\beta \\delta^{2} + A \\alpha \\beta \\mu + I \\alpha \\beta \\mu - S \\alpha \\beta \\mu + 2 \\, A \\beta \\delta \\mu + 2 \\, I \\beta \\delta \\mu + A \\alpha \\beta \\rho + I \\alpha \\beta \\rho - S \\alpha \\beta \\rho + 2 \\, A \\beta \\delta \\rho + 2 \\, I \\beta \\delta \\rho + \\alpha \\delta^{2} + 2 \\, \\alpha \\delta \\mu + \\delta^{2} \\mu + 2 \\, \\alpha \\delta \\rho + \\delta^{2} \\rho\\right) x^{2} + \\left(-A \\alpha \\beta \\chi \\delta^{2} - I \\alpha \\beta \\chi \\delta^{2} - 2 \\, A \\alpha \\beta \\chi \\delta \\mu - 2 \\, I \\alpha \\beta \\chi \\delta \\mu + S \\alpha \\beta \\chi \\delta \\mu - A \\beta \\chi \\delta^{2} \\mu - I \\beta \\chi \\delta^{2} \\mu - 2 \\, A \\alpha \\beta \\chi \\delta \\rho - 2 \\, I \\alpha \\beta \\chi \\delta \\rho + S \\alpha \\beta \\chi \\delta \\rho - A \\beta \\chi \\delta^{2} \\rho - I \\beta \\chi \\delta^{2} \\rho + A \\alpha \\beta \\delta^{2} + I \\alpha \\beta \\delta^{2} + 2 \\, A \\alpha \\beta \\delta \\mu + 2 \\, I \\alpha \\beta \\delta \\mu - S \\alpha \\beta \\delta \\mu + A \\beta \\delta^{2} \\mu + I \\beta \\delta^{2} \\mu + 2 \\, A \\alpha \\beta \\delta \\rho + 2 \\, I \\alpha \\beta \\delta \\rho - S \\alpha \\beta \\delta \\rho + A \\beta \\delta^{2} \\rho + I \\beta \\delta^{2} \\rho + \\alpha \\delta^{2} \\mu + \\alpha \\delta^{2} \\rho\\right) x - A \\alpha \\beta \\chi \\delta^{2} \\mu - I \\alpha \\beta \\chi \\delta^{2} \\mu - A \\alpha \\beta \\chi \\delta^{2} \\rho - I \\alpha \\beta \\chi \\delta^{2} \\rho + A \\alpha \\beta \\delta^{2} \\mu + I \\alpha \\beta \\delta^{2} \\mu + A \\alpha \\beta \\delta^{2} \\rho + I \\alpha \\beta \\delta^{2} \\rho</script></html>"
      ],
      "text/plain": [
       "x^5 + (-A*beta*chi - I*beta*chi + A*beta + I*beta + alpha + 2*delta + mu + rho)*x^4 + (-A*alpha*beta*chi - I*alpha*beta*chi + S*alpha*beta*chi - 2*A*beta*chi*delta - 2*I*beta*chi*delta - A*beta*chi*mu - I*beta*chi*mu - A*beta*chi*rho - I*beta*chi*rho + A*alpha*beta + I*alpha*beta - S*alpha*beta + 2*A*beta*delta + 2*I*beta*delta + A*beta*mu + I*beta*mu + A*beta*rho + I*beta*rho + 2*alpha*delta + delta^2 + alpha*mu + 2*delta*mu + alpha*rho + 2*delta*rho)*x^3 + (-2*A*alpha*beta*chi*delta - 2*I*alpha*beta*chi*delta + S*alpha*beta*chi*delta - A*beta*chi*delta^2 - I*beta*chi*delta^2 - A*alpha*beta*chi*mu - I*alpha*beta*chi*mu + S*alpha*beta*chi*mu - 2*A*beta*chi*delta*mu - 2*I*beta*chi*delta*mu - A*alpha*beta*chi*rho - I*alpha*beta*chi*rho + S*alpha*beta*chi*rho - 2*A*beta*chi*delta*rho - 2*I*beta*chi*delta*rho + 2*A*alpha*beta*delta + 2*I*alpha*beta*delta - S*alpha*beta*delta + A*beta*delta^2 + I*beta*delta^2 + A*alpha*beta*mu + I*alpha*beta*mu - S*alpha*beta*mu + 2*A*beta*delta*mu + 2*I*beta*delta*mu + A*alpha*beta*rho + I*alpha*beta*rho - S*alpha*beta*rho + 2*A*beta*delta*rho + 2*I*beta*delta*rho + alpha*delta^2 + 2*alpha*delta*mu + delta^2*mu + 2*alpha*delta*rho + delta^2*rho)*x^2 + (-A*alpha*beta*chi*delta^2 - I*alpha*beta*chi*delta^2 - 2*A*alpha*beta*chi*delta*mu - 2*I*alpha*beta*chi*delta*mu + S*alpha*beta*chi*delta*mu - A*beta*chi*delta^2*mu - I*beta*chi*delta^2*mu - 2*A*alpha*beta*chi*delta*rho - 2*I*alpha*beta*chi*delta*rho + S*alpha*beta*chi*delta*rho - A*beta*chi*delta^2*rho - I*beta*chi*delta^2*rho + A*alpha*beta*delta^2 + I*alpha*beta*delta^2 + 2*A*alpha*beta*delta*mu + 2*I*alpha*beta*delta*mu - S*alpha*beta*delta*mu + A*beta*delta^2*mu + I*beta*delta^2*mu + 2*A*alpha*beta*delta*rho + 2*I*alpha*beta*delta*rho - S*alpha*beta*delta*rho + A*beta*delta^2*rho + I*beta*delta^2*rho + alpha*delta^2*mu + alpha*delta^2*rho)*x - A*alpha*beta*chi*delta^2*mu - I*alpha*beta*chi*delta^2*mu - A*alpha*beta*chi*delta^2*rho - I*alpha*beta*chi*delta^2*rho + A*alpha*beta*delta^2*mu + I*alpha*beta*delta^2*mu + A*alpha*beta*delta^2*rho + I*alpha*beta*delta^2*rho"
      ]
     },
     "execution_count": 6,
     "metadata": {},
     "output_type": "execute_result"
    }
   ],
   "source": [
    "cp = jack.characteristic_polynomial()\n",
    "cp"
   ]
  },
  {
   "cell_type": "code",
   "execution_count": 7,
   "metadata": {},
   "outputs": [
    {
     "data": {
      "text/html": [
       "<html><script type=\"math/tex; mode=display\">\\newcommand{\\Bold}[1]{\\mathbf{#1}}\\left(\\begin{array}{r}\n",
       "-{\\left(A + I\\right)} S \\beta {\\left(\\chi - 1\\right)} \\\\\n",
       "0 \\\\\n",
       "0\n",
       "\\end{array}\\right)</script></html>"
      ],
      "text/plain": [
       "[-(A + I)*S*beta*(chi - 1)]\n",
       "[                        0]\n",
       "[                        0]"
      ]
     },
     "execution_count": 7,
     "metadata": {},
     "output_type": "execute_result"
    }
   ],
   "source": [
    "F_cal = matrix([[Lambda*(1-chi)*S],[0],[0]])\n",
    "F_cal"
   ]
  },
  {
   "cell_type": "code",
   "execution_count": 8,
   "metadata": {},
   "outputs": [
    {
     "data": {
      "text/html": [
       "<html><script type=\"math/tex; mode=display\">\\newcommand{\\Bold}[1]{\\mathbf{#1}}\\left(\\begin{array}{r}\n",
       "E \\alpha \\\\\n",
       "I \\delta \\\\\n",
       "A \\delta\n",
       "\\end{array}\\right)</script></html>"
      ],
      "text/plain": [
       "[E*alpha]\n",
       "[I*delta]\n",
       "[A*delta]"
      ]
     },
     "execution_count": 8,
     "metadata": {},
     "output_type": "execute_result"
    }
   ],
   "source": [
    "V_cal_neg = matrix([[alpha*E],[delta*I],[delta*A]])\n",
    "V_cal_neg"
   ]
  },
  {
   "cell_type": "code",
   "execution_count": 9,
   "metadata": {},
   "outputs": [
    {
     "data": {
      "text/html": [
       "<html><script type=\"math/tex; mode=display\">\\newcommand{\\Bold}[1]{\\mathbf{#1}}\\left(\\begin{array}{r}\n",
       "0 \\\\\n",
       "-E \\alpha {\\left(p - 1\\right)} \\\\\n",
       "E \\alpha p\n",
       "\\end{array}\\right)</script></html>"
      ],
      "text/plain": [
       "[               0]\n",
       "[-E*alpha*(p - 1)]\n",
       "[       E*alpha*p]"
      ]
     },
     "execution_count": 9,
     "metadata": {},
     "output_type": "execute_result"
    }
   ],
   "source": [
    "V_cal_pos = matrix([[0],[(1-p)*alpha*E],[p*alpha*E]])\n",
    "V_cal_pos"
   ]
  },
  {
   "cell_type": "code",
   "execution_count": 10,
   "metadata": {},
   "outputs": [
    {
     "data": {
      "text/html": [
       "<html><script type=\"math/tex; mode=display\">\\newcommand{\\Bold}[1]{\\mathbf{#1}}\\left(\\begin{array}{r}\n",
       "E \\alpha \\\\\n",
       "E \\alpha {\\left(p - 1\\right)} + I \\delta \\\\\n",
       "-E \\alpha p + A \\delta\n",
       "\\end{array}\\right)</script></html>"
      ],
      "text/plain": [
       "[                  E*alpha]\n",
       "[E*alpha*(p - 1) + I*delta]\n",
       "[     -E*alpha*p + A*delta]"
      ]
     },
     "execution_count": 10,
     "metadata": {},
     "output_type": "execute_result"
    }
   ],
   "source": [
    "V_cal = V_cal_neg-V_cal_pos\n",
    "V_cal"
   ]
  },
  {
   "cell_type": "code",
   "execution_count": 11,
   "metadata": {},
   "outputs": [
    {
     "data": {
      "text/html": [
       "<html><script type=\"math/tex; mode=display\">\\newcommand{\\Bold}[1]{\\mathbf{#1}}\\left(\\begin{array}{rrr}\n",
       "0 & -\\beta {\\left(\\chi - 1\\right)} & -\\beta {\\left(\\chi - 1\\right)} \\\\\n",
       "0 & 0 & 0 \\\\\n",
       "0 & 0 & 0\n",
       "\\end{array}\\right)</script></html>"
      ],
      "text/plain": [
       "[              0 -beta*(chi - 1) -beta*(chi - 1)]\n",
       "[              0               0               0]\n",
       "[              0               0               0]"
      ]
     },
     "execution_count": 11,
     "metadata": {},
     "output_type": "execute_result"
    }
   ],
   "source": [
    "F = jacobian(F_cal(S=1),[E,I,A])\n",
    "F"
   ]
  },
  {
   "cell_type": "code",
   "execution_count": 12,
   "metadata": {},
   "outputs": [
    {
     "data": {
      "text/html": [
       "<html><script type=\"math/tex; mode=display\">\\newcommand{\\Bold}[1]{\\mathbf{#1}}\\left(\\begin{array}{rrr}\n",
       "\\alpha & 0 & 0 \\\\\n",
       "\\alpha {\\left(p - 1\\right)} & \\delta & 0 \\\\\n",
       "-\\alpha p & 0 & \\delta\n",
       "\\end{array}\\right)</script></html>"
      ],
      "text/plain": [
       "[        alpha             0             0]\n",
       "[alpha*(p - 1)         delta             0]\n",
       "[     -alpha*p             0         delta]"
      ]
     },
     "execution_count": 12,
     "metadata": {},
     "output_type": "execute_result"
    }
   ],
   "source": [
    "V = jacobian(V_cal(S=1),[E,I,A])\n",
    "V"
   ]
  },
  {
   "cell_type": "code",
   "execution_count": 13,
   "metadata": {},
   "outputs": [],
   "source": [
    "M = F*V.inverse()"
   ]
  },
  {
   "cell_type": "code",
   "execution_count": 14,
   "metadata": {},
   "outputs": [
    {
     "data": {
      "text/html": [
       "<html><script type=\"math/tex; mode=display\">\\newcommand{\\Bold}[1]{\\mathbf{#1}}\\left(\\begin{array}{rrr}\n",
       "-\\frac{\\beta \\chi - \\beta}{\\delta} & -\\frac{\\beta \\chi - \\beta}{\\delta} & -\\frac{\\beta \\chi - \\beta}{\\delta} \\\\\n",
       "0 & 0 & 0 \\\\\n",
       "0 & 0 & 0\n",
       "\\end{array}\\right)</script></html>"
      ],
      "text/plain": [
       "[-(beta*chi - beta)/delta -(beta*chi - beta)/delta -(beta*chi - beta)/delta]\n",
       "[                       0                        0                        0]\n",
       "[                       0                        0                        0]"
      ]
     },
     "execution_count": 14,
     "metadata": {},
     "output_type": "execute_result"
    }
   ],
   "source": [
    "M=M.simplify_full()\n",
    "M"
   ]
  },
  {
   "cell_type": "code",
   "execution_count": 15,
   "metadata": {},
   "outputs": [
    {
     "data": {
      "text/html": [
       "<html><script type=\"math/tex; mode=display\">\\newcommand{\\Bold}[1]{\\mathbf{#1}}\\left[-\\frac{\\beta \\chi - \\beta}{\\delta}, 0, 0\\right]</script></html>"
      ],
      "text/plain": [
       "[-(beta*chi - beta)/delta, 0, 0]"
      ]
     },
     "execution_count": 15,
     "metadata": {},
     "output_type": "execute_result"
    }
   ],
   "source": [
    "M.eigenvalues()"
   ]
  },
  {
   "cell_type": "code",
   "execution_count": 16,
   "metadata": {},
   "outputs": [
    {
     "data": {
      "text/html": [
       "<html><script type=\"math/tex; mode=display\">\\newcommand{\\Bold}[1]{\\mathbf{#1}}-\\frac{\\beta \\chi - \\beta}{\\delta}</script></html>"
      ],
      "text/plain": [
       "-(beta*chi - beta)/delta"
      ]
     },
     "execution_count": 16,
     "metadata": {},
     "output_type": "execute_result"
    }
   ],
   "source": [
    "R0=M[0,0].simplify_full()\n",
    "R0"
   ]
  },
  {
   "cell_type": "code",
   "execution_count": 17,
   "metadata": {},
   "outputs": [
    {
     "data": {
      "text/html": [
       "<html><script type=\"math/tex; mode=display\">\\newcommand{\\Bold}[1]{\\mathbf{#1}}\\left(\\beta, \\chi, \\delta\\right)</script></html>"
      ],
      "text/plain": [
       "(beta, chi, delta)"
      ]
     },
     "execution_count": 17,
     "metadata": {},
     "output_type": "execute_result"
    }
   ],
   "source": [
    "R0.variables()"
   ]
  },
  {
   "cell_type": "code",
   "execution_count": 31,
   "metadata": {},
   "outputs": [],
   "source": [
    "import numpy as np\n",
    "import pandas as pd\n",
    "%display typeset"
   ]
  },
  {
   "cell_type": "code",
   "execution_count": 32,
   "metadata": {},
   "outputs": [],
   "source": [
    "def model(t, y, params):\n",
    "    S, E, I, A, H, R, C, D = y\n",
    "    chi, phi, beta, rho, delta, gamma, alpha, mu, p, q, r = params\n",
    "    lamb = beta * (I + A)\n",
    "    # Turns on Quarantine on day q and off on day q+r\n",
    "    chi *= ((1 + np.tanh(t - q)) / 2) * ((1 - np.tanh(t - (q + r))) / 2)\n",
    "    return [\n",
    "        -lamb * ((1 - chi) * S),  # dS/dt\n",
    "        lamb * ((1 - chi) * S) - alpha * E,  # dE/dt\n",
    "        (1 - p) * alpha * E - delta * I - phi * I,  # dI/dt\n",
    "        p * alpha * E - gamma * A,\n",
    "        phi * I - (rho + mu) * H,  # dH/dt\n",
    "        delta * I + rho * H + gamma * A,  # dR/dt\n",
    "        phi * I,  # (1-p)*alpha*E+ p*alpha*E # Hospit. acumuladas\n",
    "        mu * H  # Morte acumuladas\n",
    "    ]"
   ]
  },
  {
   "cell_type": "code",
   "execution_count": 33,
   "metadata": {},
   "outputs": [],
   "source": [
    "chi = .3\n",
    "phi = 0.012413633926076584\n",
    "beta = 0.27272459855759813\n",
    "rho = 0.2190519831830368\n",
    "delta = 0.04168480042146949\n",
    "gamma = 0.04\n",
    "alpha =  0.3413355572047603\n",
    "mu = 0.02359234606623134\n",
    "p = 0.7693029079871165\n",
    "q = 50\n",
    "r = 55"
   ]
  },
  {
   "cell_type": "code",
   "execution_count": 34,
   "metadata": {},
   "outputs": [],
   "source": [
    "T = ode_solver()\n",
    "T.function = model\n",
    "T.algorithm='rk8pd'\n",
    "inits = [.99, 0, 1e-4, 0, 0, 0, 0, 0]\n",
    "tspan = [0,200]\n",
    "T.ode_solve(tspan, inits, num_points=200, params=[chi,phi,beta,rho,delta,gamma,alpha,mu,p,q,r])"
   ]
  },
  {
   "cell_type": "code",
   "execution_count": 35,
   "metadata": {},
   "outputs": [
    {
     "data": {
      "text/html": [
       "<html><script type=\"math/tex; mode=display\">\\newcommand{\\Bold}[1]{\\mathbf{#1}}\\begin{array}{l}\n",
       "\\verb|[[9.90000000e-01|\\phantom{\\verb!x!}\\verb|0.00000000e+00|\\phantom{\\verb!x!}\\verb|1.00000000e-04|\\phantom{\\verb!x!}\\verb|...|\\phantom{\\verb!x!}\\verb|0.00000000e+00|\\\\\n",
       "\\phantom{\\verb!xx!}\\verb|0.00000000e+00|\\phantom{\\verb!x!}\\verb|0.00000000e+00]|\\\\\n",
       "\\phantom{\\verb!x!}\\verb|[9.89973344e-01|\\phantom{\\verb!x!}\\verb|2.25755111e-05|\\phantom{\\verb!x!}\\verb|9.56580086e-05|\\phantom{\\verb!x!}\\verb|...|\\phantom{\\verb!x!}\\verb|4.23720621e-06|\\\\\n",
       "\\phantom{\\verb!xx!}\\verb|1.21233870e-06|\\phantom{\\verb!x!}\\verb|1.33047275e-08]|\\\\\n",
       "\\phantom{\\verb!x!}\\verb|[9.89946090e-01|\\phantom{\\verb!x!}\\verb|3.91711356e-05|\\phantom{\\verb!x!}\\verb|9.30197071e-05|\\phantom{\\verb!x!}\\verb|...|\\phantom{\\verb!x!}\\verb|8.76177490e-06|\\\\\n",
       "\\phantom{\\verb!xx!}\\verb|2.38193156e-06|\\phantom{\\verb!x!}\\verb|4.86367287e-08]|\\\\\n",
       "\\phantom{\\verb!x!}\\verb|...|\\\\\n",
       "\\phantom{\\verb!x!}\\verb|[7.05921911e-03|\\phantom{\\verb!x!}\\verb|4.50726801e-05|\\phantom{\\verb!x!}\\verb|5.18874882e-04|\\phantom{\\verb!x!}\\verb|...|\\phantom{\\verb!x!}\\verb|9.70886461e-01|\\\\\n",
       "\\phantom{\\verb!xx!}\\verb|5.19350779e-02|\\phantom{\\verb!x!}\\verb|5.04644718e-03]|\\\\\n",
       "\\phantom{\\verb!x!}\\verb|[7.04595718e-03|\\phantom{\\verb!x!}\\verb|4.32611015e-05|\\phantom{\\verb!x!}\\verb|4.94934735e-04|\\phantom{\\verb!x!}\\verb|...|\\phantom{\\verb!x!}\\verb|9.71170175e-01|\\\\\n",
       "\\phantom{\\verb!xx!}\\verb|5.19413692e-02|\\phantom{\\verb!x!}\\verb|5.04720754e-03]|\\\\\n",
       "\\phantom{\\verb!x!}\\verb|[7.03322409e-03|\\phantom{\\verb!x!}\\verb|4.15259091e-05|\\phantom{\\verb!x!}\\verb|4.72119417e-04|\\phantom{\\verb!x!}\\verb|...|\\phantom{\\verb!x!}\\verb|9.71443013e-01|\\\\\n",
       "\\phantom{\\verb!xx!}\\verb|5.19473704e-02|\\phantom{\\verb!x!}\\verb|5.04793268e-03]]|\n",
       "\\end{array}</script></html>"
      ],
      "text/plain": [
       "array([[9.90000000e-01, 0.00000000e+00, 1.00000000e-04, ...,\n",
       "        0.00000000e+00, 0.00000000e+00, 0.00000000e+00],\n",
       "       [9.89973344e-01, 2.25755111e-05, 9.56580086e-05, ...,\n",
       "        4.23720621e-06, 1.21233870e-06, 1.33047275e-08],\n",
       "       [9.89946090e-01, 3.91711356e-05, 9.30197071e-05, ...,\n",
       "        8.76177490e-06, 2.38193156e-06, 4.86367287e-08],\n",
       "       ...,\n",
       "       [7.05921911e-03, 4.50726801e-05, 5.18874882e-04, ...,\n",
       "        9.70886461e-01, 5.19350779e-02, 5.04644718e-03],\n",
       "       [7.04595718e-03, 4.32611015e-05, 4.94934735e-04, ...,\n",
       "        9.71170175e-01, 5.19413692e-02, 5.04720754e-03],\n",
       "       [7.03322409e-03, 4.15259091e-05, 4.72119417e-04, ...,\n",
       "        9.71443013e-01, 5.19473704e-02, 5.04793268e-03]])"
      ]
     },
     "execution_count": 35,
     "metadata": {},
     "output_type": "execute_result"
    }
   ],
   "source": [
    "def get_sim_array(sol):\n",
    "    sim = np.array([y for t,y in sol])\n",
    "    return sim\n",
    "get_sim_array(T.solution)"
   ]
  },
  {
   "cell_type": "code",
   "execution_count": 36,
   "metadata": {},
   "outputs": [
    {
     "data": {
      "image/png": "[encoded data removed]",
      "text/plain": [
       "Graphics object consisting of 8 graphics primitives"
      ]
     },
     "metadata": {},
     "output_type": "display_data"
    }
   ],
   "source": [
    "popRJ = 6.32e6\n",
    "def plot_sol(sol):\n",
    "    sim = get_sim_array(sol)*popRJ\n",
    "    P = list_plot(sim[:,0],legend_label='S')\n",
    "    colors = ['blue','red','pink','green','yellow','orange','black','purple']\n",
    "    for i,var in enumerate(['E','I','A','H','R','C','D']):\n",
    "        P += list_plot(sim[:,i+1],color=colors[i+1],legend_label=var)\n",
    "   \n",
    "    show(P)\n",
    "plot_sol(T.solution)"
   ]
  },
  {
   "cell_type": "code",
   "execution_count": 27,
   "metadata": {},
   "outputs": [
    {
     "data": {
      "text/html": [
       "<html><script type=\"math/tex; mode=display\">\\newcommand{\\Bold}[1]{\\mathbf{#1}}328307.38107624033</script></html>"
      ],
      "text/plain": [
       "328307.38107624033"
      ]
     },
     "execution_count": 27,
     "metadata": {},
     "output_type": "execute_result"
    }
   ],
   "source": [
    "sims = get_sim_array(T.solution)\n",
    "sims[-1,-2]*popRJ"
   ]
  },
  {
   "cell_type": "code",
   "execution_count": 1,
   "metadata": {},
   "outputs": [],
   "source": [
    "%display typeset"
   ]
  },
  {
   "cell_type": "code",
   "execution_count": 2,
   "metadata": {},
   "outputs": [],
   "source": [
    "def ODEsys(t,y,params):\n",
    "    k1,k2 = params\n",
    "    A,B = y\n",
    "    return[-k1*A+k2*B,\n",
    "            k1*A-k2*B]"
   ]
  },
  {
   "cell_type": "code",
   "execution_count": 3,
   "metadata": {},
   "outputs": [],
   "source": [
    "T=ode_solver()\n",
    "T.algorithm=\"rk8pd\"\n",
    "T.function=ODEsys\n",
    "T.ode_solve(y_0=[500,0],t_span=[0,50],params=[.3,.25],num_points=200)"
   ]
  },
  {
   "cell_type": "code",
   "execution_count": 4,
   "metadata": {},
   "outputs": [
    {
     "data": {
      "text/html": [
       "<html><script type=\"math/tex; mode=display\">\\newcommand{\\Bold}[1]{\\mathbf{#1}}\\left[\\left(0, \\left[500, 0\\right]\\right), \\left(0.25, \\left[464.9639136355884, 35.03608636441148\\right]\\right), \\left(0.5, \\left[434.42876087953675, 65.57123912046313\\right]\\right), \\left(0.75, \\left[407.81632637022733, 92.18367362977253\\right]\\right), \\left(1.0, \\left[384.6226755583144, 115.37732444168543\\right]\\right), \\left(1.25, \\left[364.4086121738929, 135.591387826107\\right]\\right), \\left(1.5, \\left[346.7913615813497, 153.2086384186502\\right]\\right), \\left(1.75, \\left[331.43732253744054, 168.56267746255938\\right]\\right), \\left(2.0, \\left[318.0557500994762, 181.94424990052374\\right]\\right), \\left(2.25, \\left[306.39325006281507, 193.6067499371849\\right]\\right)\\right]</script></html>"
      ],
      "text/plain": [
       "[(0, [500, 0]),\n",
       " (0.25, [464.9639136355884, 35.03608636441148]),\n",
       " (0.5, [434.42876087953675, 65.57123912046313]),\n",
       " (0.75, [407.81632637022733, 92.18367362977253]),\n",
       " (1.0, [384.6226755583144, 115.37732444168543]),\n",
       " (1.25, [364.4086121738929, 135.591387826107]),\n",
       " (1.5, [346.7913615813497, 153.2086384186502]),\n",
       " (1.75, [331.43732253744054, 168.56267746255938]),\n",
       " (2.0, [318.0557500994762, 181.94424990052374]),\n",
       " (2.25, [306.39325006281507, 193.6067499371849])]"
      ]
     },
     "execution_count": 4,
     "metadata": {},
     "output_type": "execute_result"
    }
   ],
   "source": [
    "T.solution[:10]"
   ]
  },
  {
   "cell_type": "code",
   "execution_count": 5,
   "metadata": {},
   "outputs": [
    {
     "data": {
      "image/png": "[encoded data removed]",
      "text/plain": [
       "Graphics object consisting of 2 graphics primitives"
      ]
     },
     "metadata": {},
     "output_type": "display_data"
    }
   ],
   "source": [
    "a=list_plot([(i[0],i[1][0]) for i in T.solution],color='red', pointsize=20, legend_label='A', alpha=.8)\n",
    "b=list_plot([(i[0],i[1][1]) for i in T.solution],color='blue', pointsize=20, legend_label='B', alpha=.8)\n",
    "a.legend()\n",
    "b.legend()\n",
    "show(a+b)"
   ]
  },
  {
   "cell_type": "code",
   "execution_count": 6,
   "metadata": {},
   "outputs": [
    {
     "data": {
      "text/html": [
       "<html><script type=\"math/tex; mode=display\">\\newcommand{\\Bold}[1]{\\mathbf{#1}}\\left[A\\left(t\\right) = \\frac{500 \\, k_{1} e^{\\left(-{\\left(k_{1} + k_{2}\\right)} t\\right)}}{k_{1} + k_{2}} + \\frac{500 \\, k_{2}}{k_{1} + k_{2}}, B\\left(t\\right) = -\\frac{500 \\, k_{1} e^{\\left(-{\\left(k_{1} + k_{2}\\right)} t\\right)}}{k_{1} + k_{2}} + \\frac{500 \\, k_{1}}{k_{1} + k_{2}}\\right]</script></html>"
      ],
      "text/plain": [
       "[A(t) == 500*k_1*e^(-(k_1 + k_2)*t)/(k_1 + k_2) + 500*k_2/(k_1 + k_2),\n",
       " B(t) == -500*k_1*e^(-(k_1 + k_2)*t)/(k_1 + k_2) + 500*k_1/(k_1 + k_2)]"
      ]
     },
     "metadata": {},
     "output_type": "display_data"
    }
   ],
   "source": [
    "var('t k_1 k_2')\n",
    "\n",
    "A = function('A')(t)\n",
    "B = function('B')(t)\n",
    "de1 = diff(A,t) == -k_1*A+k_2*B\n",
    "de2 = diff(B,t) == k_1*A-k_2*B\n",
    "sol = desolve_system([de1,de2],[A,B],ics=[0,500,0], ivar=t)\n",
    "show(sol)"
   ]
  },
  {
   "cell_type": "code",
   "execution_count": 7,
   "metadata": {},
   "outputs": [
    {
     "data": {
      "image/png": "[encoded data removed]",
      "text/plain": [
       "Graphics object consisting of 2 graphics primitives"
      ]
     },
     "execution_count": 7,
     "metadata": {},
     "output_type": "execute_result"
    }
   ],
   "source": [
    "solA, solB = sol[0].rhs(), sol[1].rhs()\n",
    "plot((solA(k_1=1/3, k_2=1/4),solB(k_1=1/3, k_2=1/4)),(t,0,30))"
   ]
  },
  {
   "cell_type": "code",
   "execution_count": 8,
   "metadata": {},
   "outputs": [
    {
     "data": {
      "text/html": [
       "<html><script type=\"math/tex; mode=display\">\\newcommand{\\Bold}[1]{\\mathbf{#1}}214.285714285714</script></html>"
      ],
      "text/plain": [
       "214.285714285714"
      ]
     },
     "execution_count": 8,
     "metadata": {},
     "output_type": "execute_result"
    }
   ],
   "source": [
    "k1=1/3\n",
    "k2=1/4\n",
    "n(k2*500/(k1+k2))"
   ]
  },
  {
   "cell_type": "code",
   "execution_count": 9,
   "metadata": {},
   "outputs": [
    {
     "data": {
      "text/html": [
       "<h4>Equilíbrios:</h4>"
      ],
      "text/plain": [
       "<h4>Equilíbrios:</h4>"
      ]
     },
     "metadata": {},
     "output_type": "display_data"
    },
    {
     "data": {
      "text/html": [
       "<html><script type=\"math/tex; mode=display\">\\newcommand{\\Bold}[1]{\\mathbf{#1}}\\left[\\left[A = \\frac{k_{2} r_{1}}{k_{1}}, B = r_{1}\\right]\\right]</script></html>"
      ],
      "text/plain": [
       "[[A == k2*r1/k1, B == r1]]"
      ]
     },
     "metadata": {},
     "output_type": "display_data"
    }
   ],
   "source": [
    "var('A B k1 k2')\n",
    "#k1 = 1/3\n",
    "#k2 = 1/4\n",
    "dadt(A, B) = -k1*A+k2*B\n",
    "dbdt(A, B) = k1*A-k2*B\n",
    "eqs = solve([dadt, dbdt], [A, B])\n",
    "show(html(\"<h4>Equilíbrios:</h4>\"))\n",
    "show(eqs)"
   ]
  },
  {
   "cell_type": "code",
   "execution_count": 10,
   "metadata": {},
   "outputs": [
    {
     "data": {
      "text/html": [
       "<html><script type=\"math/tex; mode=display\">\\newcommand{\\Bold}[1]{\\mathbf{#1}}\\verb|M=| \\left(\\begin{array}{rr}\n",
       "-\\frac{1}{3} & \\frac{1}{4} \\\\\n",
       "\\frac{1}{3} & -\\frac{1}{4}\n",
       "\\end{array}\\right)</script></html>"
      ],
      "text/plain": [
       "'M=' [-1/3  1/4]\n",
       "[ 1/3 -1/4]"
      ]
     },
     "metadata": {},
     "output_type": "display_data"
    },
    {
     "data": {
      "text/html": [
       "<html><script type=\"math/tex; mode=display\">\\newcommand{\\Bold}[1]{\\mathbf{#1}}\\verb|X=| \\left(\\begin{array}{r}\n",
       "A \\\\\n",
       "B\n",
       "\\end{array}\\right)</script></html>"
      ],
      "text/plain": [
       "'X=' [A]\n",
       "[B]"
      ]
     },
     "metadata": {},
     "output_type": "display_data"
    },
    {
     "data": {
      "text/html": [
       "<html><script type=\"math/tex; mode=display\">\\newcommand{\\Bold}[1]{\\mathbf{#1}}\\left(\\begin{array}{r}\n",
       "-\\frac{1}{3} \\, A + \\frac{1}{4} \\, B \\\\\n",
       "\\frac{1}{3} \\, A - \\frac{1}{4} \\, B\n",
       "\\end{array}\\right)</script></html>"
      ],
      "text/plain": [
       "[-1/3*A + 1/4*B]\n",
       "[ 1/3*A - 1/4*B]"
      ]
     },
     "execution_count": 10,
     "metadata": {},
     "output_type": "execute_result"
    }
   ],
   "source": [
    "M = matrix([[-1/3, 1/4],[1/3,-1/4]])\n",
    "show(\"M=\",M)\n",
    "X = matrix([[A],[B]])\n",
    "show(\"X=\",X)\n",
    "M*X"
   ]
  },
  {
   "cell_type": "code",
   "execution_count": 11,
   "metadata": {},
   "outputs": [
    {
     "data": {
      "text/html": [
       "<h3>Jacobiana:</h3>"
      ],
      "text/plain": [
       "<h3>Jacobiana:</h3>"
      ]
     },
     "metadata": {},
     "output_type": "display_data"
    },
    {
     "data": {
      "text/html": [
       "<html><script type=\"math/tex; mode=display\">\\newcommand{\\Bold}[1]{\\mathbf{#1}}\\left(\\begin{array}{rr}\n",
       "-k_{1} & k_{2} \\\\\n",
       "k_{1} & -k_{2}\n",
       "\\end{array}\\right)</script></html>"
      ],
      "text/plain": [
       "[-k1  k2]\n",
       "[ k1 -k2]"
      ]
     },
     "metadata": {},
     "output_type": "display_data"
    }
   ],
   "source": [
    "jack = jacobian([-k1*A+k2*B, k1*A-k2*B],[A,B])\n",
    "show(html(\"<h3>Jacobiana:</h3>\"))\n",
    "show(jack)"
   ]
  },
  {
   "cell_type": "code",
   "execution_count": 12,
   "metadata": {},
   "outputs": [
    {
     "data": {
      "text/html": [
       "<html><script type=\"math/tex; mode=display\">\\newcommand{\\Bold}[1]{\\mathbf{#1}}\\left[-k_{1} - k_{2}, 0\\right]</script></html>"
      ],
      "text/plain": [
       "[-k1 - k2, 0]"
      ]
     },
     "execution_count": 12,
     "metadata": {},
     "output_type": "execute_result"
    }
   ],
   "source": [
    "jack.eigenvalues()"
   ]
  },
  {
   "cell_type": "code",
   "execution_count": 13,
   "metadata": {},
   "outputs": [
    {
     "data": {
      "text/html": [
       "<html><script type=\"math/tex; mode=display\">\\newcommand{\\Bold}[1]{\\mathbf{#1}}\\frac{{\\left(\\gamma x_{0} + I e^{\\left(\\gamma t\\right)} - I\\right)} e^{\\left(-\\gamma t\\right)}}{\\gamma}</script></html>"
      ],
      "text/plain": [
       "(gamma*x0 + I*e^(gamma*t) - I)*e^(-gamma*t)/gamma"
      ]
     },
     "metadata": {},
     "output_type": "display_data"
    }
   ],
   "source": [
    "var('t I gamma x0')\n",
    "x=function('x')(t)\n",
    "dxdt = diff(x,t)== I-gamma*x\n",
    "sol = desolve(dxdt,x,ivar=t, ics=[0,x0])\n",
    "show(sol)"
   ]
  },
  {
   "cell_type": "code",
   "execution_count": 14,
   "metadata": {},
   "outputs": [
    {
     "data": {
      "image/png": "[encoded data removed]",
      "text/plain": [
       "Graphics object consisting of 3 graphics primitives"
      ]
     },
     "execution_count": 14,
     "metadata": {},
     "output_type": "execute_result"
    }
   ],
   "source": [
    "f(t) = sol(I=1,gamma=1/2,x0=4)\n",
    "g(t) = sol(I=1,gamma=1/2,x0=0)\n",
    "h(t) = sol(I=1,gamma=1/2,x0=1)\n",
    "(plot(f, 0,10,axes_labels=['t','x(t)']) + plot(g, 0,10,axes_labels=['t','x(t)'], color='red') +\\\n",
    " plot(h, 0,10,axes_labels=['t','x(t)'], color='green'))"
   ]
  },
  {
   "cell_type": "code",
   "execution_count": null,
   "metadata": {},
   "outputs": [],
   "source": []
  }
 ],
 "metadata": {
  "kernelspec": {
   "display_name": "SageMath 9.1",
   "language": "sage",
   "name": "sagemath"
  },
  "language_info": {
   "codemirror_mode": {
    "name": "ipython",
    "version": 3
   },
   "file_extension": ".py",
   "mimetype": "text/x-python",
   "name": "python",
   "nbconvert_exporter": "python",
   "pygments_lexer": "ipython3",
   "version": "3.7.3"
  }
 },
 "nbformat": 4,
 "nbformat_minor": 2
}
