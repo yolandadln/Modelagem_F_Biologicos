{
 "cells": [
  {
   "cell_type": "markdown",
   "metadata": {},
   "source": [
    "# Obtendo os dados:"
   ]
  },
  {
   "cell_type": "markdown",
   "metadata": {},
   "source": [
    "Última vez que atualizei os dados: 15/12/2020"
   ]
  },
  {
   "cell_type": "code",
   "execution_count": 2,
   "metadata": {},
   "outputs": [],
   "source": [
    "import numpy as np\n",
    "import pandas as pd\n",
    "# import sympy\n",
    "%display typeset"
   ]
  },
  {
   "cell_type": "code",
   "execution_count": 3,
   "metadata": {},
   "outputs": [],
   "source": [
    "def load_data(state):\n",
    "    df = pd.read_csv(f'dados_{state}.csv')\n",
    "    df['date'] = pd.to_datetime(df.date)\n",
    "#    df.set_index('data', inplace=True)\n",
    "    return df"
   ]
  },
  {
   "cell_type": "code",
   "execution_count": 4,
   "metadata": {
    "scrolled": true
   },
   "outputs": [
    {
     "data": {
      "text/html": [
       "<table border=\"1\" class=\"dataframe\">\n",
       "  <thead>\n",
       "    <tr style=\"text-align: right;\">\n",
       "      <th></th>\n",
       "      <th>iso_code</th>\n",
       "      <th>continent</th>\n",
       "      <th>location</th>\n",
       "      <th>date</th>\n",
       "      <th>total_cases</th>\n",
       "      <th>new_cases</th>\n",
       "      <th>new_cases_smoothed</th>\n",
       "      <th>total_deaths</th>\n",
       "      <th>new_deaths</th>\n",
       "      <th>new_deaths_smoothed</th>\n",
       "      <th>total_cases_per_million</th>\n",
       "      <th>new_cases_per_million</th>\n",
       "      <th>new_cases_smoothed_per_million</th>\n",
       "      <th>total_deaths_per_million</th>\n",
       "      <th>new_deaths_per_million</th>\n",
       "      <th>new_deaths_smoothed_per_million</th>\n",
       "      <th>reproduction_rate</th>\n",
       "      <th>icu_patients</th>\n",
       "      <th>icu_patients_per_million</th>\n",
       "      <th>hosp_patients</th>\n",
       "      <th>hosp_patients_per_million</th>\n",
       "      <th>weekly_icu_admissions</th>\n",
       "      <th>weekly_icu_admissions_per_million</th>\n",
       "      <th>weekly_hosp_admissions</th>\n",
       "      <th>weekly_hosp_admissions_per_million</th>\n",
       "      <th>new_tests</th>\n",
       "      <th>total_tests</th>\n",
       "      <th>total_tests_per_thousand</th>\n",
       "      <th>new_tests_per_thousand</th>\n",
       "      <th>new_tests_smoothed</th>\n",
       "      <th>new_tests_smoothed_per_thousand</th>\n",
       "      <th>positive_rate</th>\n",
       "      <th>tests_per_case</th>\n",
       "      <th>tests_units</th>\n",
       "      <th>stringency_index</th>\n",
       "      <th>population</th>\n",
       "      <th>population_density</th>\n",
       "      <th>median_age</th>\n",
       "      <th>aged_65_older</th>\n",
       "      <th>aged_70_older</th>\n",
       "      <th>gdp_per_capita</th>\n",
       "      <th>extreme_poverty</th>\n",
       "      <th>cardiovasc_death_rate</th>\n",
       "      <th>diabetes_prevalence</th>\n",
       "      <th>female_smokers</th>\n",
       "      <th>male_smokers</th>\n",
       "      <th>handwashing_facilities</th>\n",
       "      <th>hospital_beds_per_thousand</th>\n",
       "      <th>life_expectancy</th>\n",
       "      <th>human_development_index</th>\n",
       "    </tr>\n",
       "  </thead>\n",
       "  <tbody>\n",
       "    <tr>\n",
       "      <th>36395</th>\n",
       "      <td>MEX</td>\n",
       "      <td>North America</td>\n",
       "      <td>Mexico</td>\n",
       "      <td>2020-12-10</td>\n",
       "      <td>1217126.0</td>\n",
       "      <td>11897.0</td>\n",
       "      <td>10354.714</td>\n",
       "      <td>112326.0</td>\n",
       "      <td>671.0</td>\n",
       "      <td>593.286</td>\n",
       "      <td>9440.006</td>\n",
       "      <td>92.273</td>\n",
       "      <td>80.311</td>\n",
       "      <td>871.198</td>\n",
       "      <td>5.204</td>\n",
       "      <td>4.602</td>\n",
       "      <td>NaN</td>\n",
       "      <td>NaN</td>\n",
       "      <td>NaN</td>\n",
       "      <td>NaN</td>\n",
       "      <td>NaN</td>\n",
       "      <td>NaN</td>\n",
       "      <td>NaN</td>\n",
       "      <td>NaN</td>\n",
       "      <td>NaN</td>\n",
       "      <td>NaN</td>\n",
       "      <td>NaN</td>\n",
       "      <td>NaN</td>\n",
       "      <td>NaN</td>\n",
       "      <td>NaN</td>\n",
       "      <td>NaN</td>\n",
       "      <td>NaN</td>\n",
       "      <td>NaN</td>\n",
       "      <td>NaN</td>\n",
       "      <td>71.76</td>\n",
       "      <td>128932753.0</td>\n",
       "      <td>66.444</td>\n",
       "      <td>29.3</td>\n",
       "      <td>6.857</td>\n",
       "      <td>4.321</td>\n",
       "      <td>17336.469</td>\n",
       "      <td>2.5</td>\n",
       "      <td>152.783</td>\n",
       "      <td>13.06</td>\n",
       "      <td>6.9</td>\n",
       "      <td>21.4</td>\n",
       "      <td>87.847</td>\n",
       "      <td>1.38</td>\n",
       "      <td>75.05</td>\n",
       "      <td>0.774</td>\n",
       "    </tr>\n",
       "    <tr>\n",
       "      <th>36396</th>\n",
       "      <td>MEX</td>\n",
       "      <td>North America</td>\n",
       "      <td>Mexico</td>\n",
       "      <td>2020-12-11</td>\n",
       "      <td>1229379.0</td>\n",
       "      <td>12253.0</td>\n",
       "      <td>10372.714</td>\n",
       "      <td>113019.0</td>\n",
       "      <td>693.0</td>\n",
       "      <td>593.714</td>\n",
       "      <td>9535.040</td>\n",
       "      <td>95.034</td>\n",
       "      <td>80.451</td>\n",
       "      <td>876.573</td>\n",
       "      <td>5.375</td>\n",
       "      <td>4.605</td>\n",
       "      <td>NaN</td>\n",
       "      <td>NaN</td>\n",
       "      <td>NaN</td>\n",
       "      <td>NaN</td>\n",
       "      <td>NaN</td>\n",
       "      <td>NaN</td>\n",
       "      <td>NaN</td>\n",
       "      <td>NaN</td>\n",
       "      <td>NaN</td>\n",
       "      <td>NaN</td>\n",
       "      <td>NaN</td>\n",
       "      <td>NaN</td>\n",
       "      <td>NaN</td>\n",
       "      <td>NaN</td>\n",
       "      <td>NaN</td>\n",
       "      <td>NaN</td>\n",
       "      <td>NaN</td>\n",
       "      <td>NaN</td>\n",
       "      <td>71.76</td>\n",
       "      <td>128932753.0</td>\n",
       "      <td>66.444</td>\n",
       "      <td>29.3</td>\n",
       "      <td>6.857</td>\n",
       "      <td>4.321</td>\n",
       "      <td>17336.469</td>\n",
       "      <td>2.5</td>\n",
       "      <td>152.783</td>\n",
       "      <td>13.06</td>\n",
       "      <td>6.9</td>\n",
       "      <td>21.4</td>\n",
       "      <td>87.847</td>\n",
       "      <td>1.38</td>\n",
       "      <td>75.05</td>\n",
       "      <td>0.774</td>\n",
       "    </tr>\n",
       "    <tr>\n",
       "      <th>36397</th>\n",
       "      <td>MEX</td>\n",
       "      <td>North America</td>\n",
       "      <td>Mexico</td>\n",
       "      <td>2020-12-12</td>\n",
       "      <td>1241436.0</td>\n",
       "      <td>12057.0</td>\n",
       "      <td>10434.429</td>\n",
       "      <td>113704.0</td>\n",
       "      <td>685.0</td>\n",
       "      <td>606.857</td>\n",
       "      <td>9628.554</td>\n",
       "      <td>93.514</td>\n",
       "      <td>80.929</td>\n",
       "      <td>881.886</td>\n",
       "      <td>5.313</td>\n",
       "      <td>4.707</td>\n",
       "      <td>NaN</td>\n",
       "      <td>NaN</td>\n",
       "      <td>NaN</td>\n",
       "      <td>NaN</td>\n",
       "      <td>NaN</td>\n",
       "      <td>NaN</td>\n",
       "      <td>NaN</td>\n",
       "      <td>NaN</td>\n",
       "      <td>NaN</td>\n",
       "      <td>NaN</td>\n",
       "      <td>NaN</td>\n",
       "      <td>NaN</td>\n",
       "      <td>NaN</td>\n",
       "      <td>NaN</td>\n",
       "      <td>NaN</td>\n",
       "      <td>NaN</td>\n",
       "      <td>NaN</td>\n",
       "      <td>NaN</td>\n",
       "      <td>71.76</td>\n",
       "      <td>128932753.0</td>\n",
       "      <td>66.444</td>\n",
       "      <td>29.3</td>\n",
       "      <td>6.857</td>\n",
       "      <td>4.321</td>\n",
       "      <td>17336.469</td>\n",
       "      <td>2.5</td>\n",
       "      <td>152.783</td>\n",
       "      <td>13.06</td>\n",
       "      <td>6.9</td>\n",
       "      <td>21.4</td>\n",
       "      <td>87.847</td>\n",
       "      <td>1.38</td>\n",
       "      <td>75.05</td>\n",
       "      <td>0.774</td>\n",
       "    </tr>\n",
       "    <tr>\n",
       "      <th>36398</th>\n",
       "      <td>MEX</td>\n",
       "      <td>North America</td>\n",
       "      <td>Mexico</td>\n",
       "      <td>2020-12-13</td>\n",
       "      <td>1250044.0</td>\n",
       "      <td>8608.0</td>\n",
       "      <td>10599.143</td>\n",
       "      <td>113953.0</td>\n",
       "      <td>249.0</td>\n",
       "      <td>605.143</td>\n",
       "      <td>9695.318</td>\n",
       "      <td>66.763</td>\n",
       "      <td>82.207</td>\n",
       "      <td>883.817</td>\n",
       "      <td>1.931</td>\n",
       "      <td>4.693</td>\n",
       "      <td>NaN</td>\n",
       "      <td>NaN</td>\n",
       "      <td>NaN</td>\n",
       "      <td>NaN</td>\n",
       "      <td>NaN</td>\n",
       "      <td>NaN</td>\n",
       "      <td>NaN</td>\n",
       "      <td>NaN</td>\n",
       "      <td>NaN</td>\n",
       "      <td>NaN</td>\n",
       "      <td>NaN</td>\n",
       "      <td>NaN</td>\n",
       "      <td>NaN</td>\n",
       "      <td>NaN</td>\n",
       "      <td>NaN</td>\n",
       "      <td>NaN</td>\n",
       "      <td>NaN</td>\n",
       "      <td>NaN</td>\n",
       "      <td>71.76</td>\n",
       "      <td>128932753.0</td>\n",
       "      <td>66.444</td>\n",
       "      <td>29.3</td>\n",
       "      <td>6.857</td>\n",
       "      <td>4.321</td>\n",
       "      <td>17336.469</td>\n",
       "      <td>2.5</td>\n",
       "      <td>152.783</td>\n",
       "      <td>13.06</td>\n",
       "      <td>6.9</td>\n",
       "      <td>21.4</td>\n",
       "      <td>87.847</td>\n",
       "      <td>1.38</td>\n",
       "      <td>75.05</td>\n",
       "      <td>0.774</td>\n",
       "    </tr>\n",
       "    <tr>\n",
       "      <th>36399</th>\n",
       "      <td>MEX</td>\n",
       "      <td>North America</td>\n",
       "      <td>Mexico</td>\n",
       "      <td>2020-12-14</td>\n",
       "      <td>1255974.0</td>\n",
       "      <td>5930.0</td>\n",
       "      <td>10532.143</td>\n",
       "      <td>114298.0</td>\n",
       "      <td>345.0</td>\n",
       "      <td>603.429</td>\n",
       "      <td>9741.311</td>\n",
       "      <td>45.993</td>\n",
       "      <td>81.687</td>\n",
       "      <td>886.493</td>\n",
       "      <td>2.676</td>\n",
       "      <td>4.680</td>\n",
       "      <td>NaN</td>\n",
       "      <td>NaN</td>\n",
       "      <td>NaN</td>\n",
       "      <td>NaN</td>\n",
       "      <td>NaN</td>\n",
       "      <td>NaN</td>\n",
       "      <td>NaN</td>\n",
       "      <td>NaN</td>\n",
       "      <td>NaN</td>\n",
       "      <td>NaN</td>\n",
       "      <td>NaN</td>\n",
       "      <td>NaN</td>\n",
       "      <td>NaN</td>\n",
       "      <td>NaN</td>\n",
       "      <td>NaN</td>\n",
       "      <td>NaN</td>\n",
       "      <td>NaN</td>\n",
       "      <td>NaN</td>\n",
       "      <td>NaN</td>\n",
       "      <td>128932753.0</td>\n",
       "      <td>66.444</td>\n",
       "      <td>29.3</td>\n",
       "      <td>6.857</td>\n",
       "      <td>4.321</td>\n",
       "      <td>17336.469</td>\n",
       "      <td>2.5</td>\n",
       "      <td>152.783</td>\n",
       "      <td>13.06</td>\n",
       "      <td>6.9</td>\n",
       "      <td>21.4</td>\n",
       "      <td>87.847</td>\n",
       "      <td>1.38</td>\n",
       "      <td>75.05</td>\n",
       "      <td>0.774</td>\n",
       "    </tr>\n",
       "  </tbody>\n",
       "</table>"
      ],
      "text/plain": [
       "<table border=\"1\" class=\"dataframe\">\n",
       "  <thead>\n",
       "    <tr style=\"text-align: right;\">\n",
       "      <th></th>\n",
       "      <th>iso_code</th>\n",
       "      <th>continent</th>\n",
       "      <th>location</th>\n",
       "      <th>date</th>\n",
       "      <th>total_cases</th>\n",
       "      <th>new_cases</th>\n",
       "      <th>new_cases_smoothed</th>\n",
       "      <th>total_deaths</th>\n",
       "      <th>new_deaths</th>\n",
       "      <th>new_deaths_smoothed</th>\n",
       "      <th>total_cases_per_million</th>\n",
       "      <th>new_cases_per_million</th>\n",
       "      <th>new_cases_smoothed_per_million</th>\n",
       "      <th>total_deaths_per_million</th>\n",
       "      <th>new_deaths_per_million</th>\n",
       "      <th>new_deaths_smoothed_per_million</th>\n",
       "      <th>reproduction_rate</th>\n",
       "      <th>icu_patients</th>\n",
       "      <th>icu_patients_per_million</th>\n",
       "      <th>hosp_patients</th>\n",
       "      <th>hosp_patients_per_million</th>\n",
       "      <th>weekly_icu_admissions</th>\n",
       "      <th>weekly_icu_admissions_per_million</th>\n",
       "      <th>weekly_hosp_admissions</th>\n",
       "      <th>weekly_hosp_admissions_per_million</th>\n",
       "      <th>new_tests</th>\n",
       "      <th>total_tests</th>\n",
       "      <th>total_tests_per_thousand</th>\n",
       "      <th>new_tests_per_thousand</th>\n",
       "      <th>new_tests_smoothed</th>\n",
       "      <th>new_tests_smoothed_per_thousand</th>\n",
       "      <th>positive_rate</th>\n",
       "      <th>tests_per_case</th>\n",
       "      <th>tests_units</th>\n",
       "      <th>stringency_index</th>\n",
       "      <th>population</th>\n",
       "      <th>population_density</th>\n",
       "      <th>median_age</th>\n",
       "      <th>aged_65_older</th>\n",
       "      <th>aged_70_older</th>\n",
       "      <th>gdp_per_capita</th>\n",
       "      <th>extreme_poverty</th>\n",
       "      <th>cardiovasc_death_rate</th>\n",
       "      <th>diabetes_prevalence</th>\n",
       "      <th>female_smokers</th>\n",
       "      <th>male_smokers</th>\n",
       "      <th>handwashing_facilities</th>\n",
       "      <th>hospital_beds_per_thousand</th>\n",
       "      <th>life_expectancy</th>\n",
       "      <th>human_development_index</th>\n",
       "    </tr>\n",
       "  </thead>\n",
       "  <tbody>\n",
       "    <tr>\n",
       "      <th>36395</th>\n",
       "      <td>MEX</td>\n",
       "      <td>North America</td>\n",
       "      <td>Mexico</td>\n",
       "      <td>2020-12-10</td>\n",
       "      <td>1217126.0</td>\n",
       "      <td>11897.0</td>\n",
       "      <td>10354.714</td>\n",
       "      <td>112326.0</td>\n",
       "      <td>671.0</td>\n",
       "      <td>593.286</td>\n",
       "      <td>9440.006</td>\n",
       "      <td>92.273</td>\n",
       "      <td>80.311</td>\n",
       "      <td>871.198</td>\n",
       "      <td>5.204</td>\n",
       "      <td>4.602</td>\n",
       "      <td>NaN</td>\n",
       "      <td>NaN</td>\n",
       "      <td>NaN</td>\n",
       "      <td>NaN</td>\n",
       "      <td>NaN</td>\n",
       "      <td>NaN</td>\n",
       "      <td>NaN</td>\n",
       "      <td>NaN</td>\n",
       "      <td>NaN</td>\n",
       "      <td>NaN</td>\n",
       "      <td>NaN</td>\n",
       "      <td>NaN</td>\n",
       "      <td>NaN</td>\n",
       "      <td>NaN</td>\n",
       "      <td>NaN</td>\n",
       "      <td>NaN</td>\n",
       "      <td>NaN</td>\n",
       "      <td>NaN</td>\n",
       "      <td>71.76</td>\n",
       "      <td>128932753.0</td>\n",
       "      <td>66.444</td>\n",
       "      <td>29.3</td>\n",
       "      <td>6.857</td>\n",
       "      <td>4.321</td>\n",
       "      <td>17336.469</td>\n",
       "      <td>2.5</td>\n",
       "      <td>152.783</td>\n",
       "      <td>13.06</td>\n",
       "      <td>6.9</td>\n",
       "      <td>21.4</td>\n",
       "      <td>87.847</td>\n",
       "      <td>1.38</td>\n",
       "      <td>75.05</td>\n",
       "      <td>0.774</td>\n",
       "    </tr>\n",
       "    <tr>\n",
       "      <th>36396</th>\n",
       "      <td>MEX</td>\n",
       "      <td>North America</td>\n",
       "      <td>Mexico</td>\n",
       "      <td>2020-12-11</td>\n",
       "      <td>1229379.0</td>\n",
       "      <td>12253.0</td>\n",
       "      <td>10372.714</td>\n",
       "      <td>113019.0</td>\n",
       "      <td>693.0</td>\n",
       "      <td>593.714</td>\n",
       "      <td>9535.040</td>\n",
       "      <td>95.034</td>\n",
       "      <td>80.451</td>\n",
       "      <td>876.573</td>\n",
       "      <td>5.375</td>\n",
       "      <td>4.605</td>\n",
       "      <td>NaN</td>\n",
       "      <td>NaN</td>\n",
       "      <td>NaN</td>\n",
       "      <td>NaN</td>\n",
       "      <td>NaN</td>\n",
       "      <td>NaN</td>\n",
       "      <td>NaN</td>\n",
       "      <td>NaN</td>\n",
       "      <td>NaN</td>\n",
       "      <td>NaN</td>\n",
       "      <td>NaN</td>\n",
       "      <td>NaN</td>\n",
       "      <td>NaN</td>\n",
       "      <td>NaN</td>\n",
       "      <td>NaN</td>\n",
       "      <td>NaN</td>\n",
       "      <td>NaN</td>\n",
       "      <td>NaN</td>\n",
       "      <td>71.76</td>\n",
       "      <td>128932753.0</td>\n",
       "      <td>66.444</td>\n",
       "      <td>29.3</td>\n",
       "      <td>6.857</td>\n",
       "      <td>4.321</td>\n",
       "      <td>17336.469</td>\n",
       "      <td>2.5</td>\n",
       "      <td>152.783</td>\n",
       "      <td>13.06</td>\n",
       "      <td>6.9</td>\n",
       "      <td>21.4</td>\n",
       "      <td>87.847</td>\n",
       "      <td>1.38</td>\n",
       "      <td>75.05</td>\n",
       "      <td>0.774</td>\n",
       "    </tr>\n",
       "    <tr>\n",
       "      <th>36397</th>\n",
       "      <td>MEX</td>\n",
       "      <td>North America</td>\n",
       "      <td>Mexico</td>\n",
       "      <td>2020-12-12</td>\n",
       "      <td>1241436.0</td>\n",
       "      <td>12057.0</td>\n",
       "      <td>10434.429</td>\n",
       "      <td>113704.0</td>\n",
       "      <td>685.0</td>\n",
       "      <td>606.857</td>\n",
       "      <td>9628.554</td>\n",
       "      <td>93.514</td>\n",
       "      <td>80.929</td>\n",
       "      <td>881.886</td>\n",
       "      <td>5.313</td>\n",
       "      <td>4.707</td>\n",
       "      <td>NaN</td>\n",
       "      <td>NaN</td>\n",
       "      <td>NaN</td>\n",
       "      <td>NaN</td>\n",
       "      <td>NaN</td>\n",
       "      <td>NaN</td>\n",
       "      <td>NaN</td>\n",
       "      <td>NaN</td>\n",
       "      <td>NaN</td>\n",
       "      <td>NaN</td>\n",
       "      <td>NaN</td>\n",
       "      <td>NaN</td>\n",
       "      <td>NaN</td>\n",
       "      <td>NaN</td>\n",
       "      <td>NaN</td>\n",
       "      <td>NaN</td>\n",
       "      <td>NaN</td>\n",
       "      <td>NaN</td>\n",
       "      <td>71.76</td>\n",
       "      <td>128932753.0</td>\n",
       "      <td>66.444</td>\n",
       "      <td>29.3</td>\n",
       "      <td>6.857</td>\n",
       "      <td>4.321</td>\n",
       "      <td>17336.469</td>\n",
       "      <td>2.5</td>\n",
       "      <td>152.783</td>\n",
       "      <td>13.06</td>\n",
       "      <td>6.9</td>\n",
       "      <td>21.4</td>\n",
       "      <td>87.847</td>\n",
       "      <td>1.38</td>\n",
       "      <td>75.05</td>\n",
       "      <td>0.774</td>\n",
       "    </tr>\n",
       "    <tr>\n",
       "      <th>36398</th>\n",
       "      <td>MEX</td>\n",
       "      <td>North America</td>\n",
       "      <td>Mexico</td>\n",
       "      <td>2020-12-13</td>\n",
       "      <td>1250044.0</td>\n",
       "      <td>8608.0</td>\n",
       "      <td>10599.143</td>\n",
       "      <td>113953.0</td>\n",
       "      <td>249.0</td>\n",
       "      <td>605.143</td>\n",
       "      <td>9695.318</td>\n",
       "      <td>66.763</td>\n",
       "      <td>82.207</td>\n",
       "      <td>883.817</td>\n",
       "      <td>1.931</td>\n",
       "      <td>4.693</td>\n",
       "      <td>NaN</td>\n",
       "      <td>NaN</td>\n",
       "      <td>NaN</td>\n",
       "      <td>NaN</td>\n",
       "      <td>NaN</td>\n",
       "      <td>NaN</td>\n",
       "      <td>NaN</td>\n",
       "      <td>NaN</td>\n",
       "      <td>NaN</td>\n",
       "      <td>NaN</td>\n",
       "      <td>NaN</td>\n",
       "      <td>NaN</td>\n",
       "      <td>NaN</td>\n",
       "      <td>NaN</td>\n",
       "      <td>NaN</td>\n",
       "      <td>NaN</td>\n",
       "      <td>NaN</td>\n",
       "      <td>NaN</td>\n",
       "      <td>71.76</td>\n",
       "      <td>128932753.0</td>\n",
       "      <td>66.444</td>\n",
       "      <td>29.3</td>\n",
       "      <td>6.857</td>\n",
       "      <td>4.321</td>\n",
       "      <td>17336.469</td>\n",
       "      <td>2.5</td>\n",
       "      <td>152.783</td>\n",
       "      <td>13.06</td>\n",
       "      <td>6.9</td>\n",
       "      <td>21.4</td>\n",
       "      <td>87.847</td>\n",
       "      <td>1.38</td>\n",
       "      <td>75.05</td>\n",
       "      <td>0.774</td>\n",
       "    </tr>\n",
       "    <tr>\n",
       "      <th>36399</th>\n",
       "      <td>MEX</td>\n",
       "      <td>North America</td>\n",
       "      <td>Mexico</td>\n",
       "      <td>2020-12-14</td>\n",
       "      <td>1255974.0</td>\n",
       "      <td>5930.0</td>\n",
       "      <td>10532.143</td>\n",
       "      <td>114298.0</td>\n",
       "      <td>345.0</td>\n",
       "      <td>603.429</td>\n",
       "      <td>9741.311</td>\n",
       "      <td>45.993</td>\n",
       "      <td>81.687</td>\n",
       "      <td>886.493</td>\n",
       "      <td>2.676</td>\n",
       "      <td>4.680</td>\n",
       "      <td>NaN</td>\n",
       "      <td>NaN</td>\n",
       "      <td>NaN</td>\n",
       "      <td>NaN</td>\n",
       "      <td>NaN</td>\n",
       "      <td>NaN</td>\n",
       "      <td>NaN</td>\n",
       "      <td>NaN</td>\n",
       "      <td>NaN</td>\n",
       "      <td>NaN</td>\n",
       "      <td>NaN</td>\n",
       "      <td>NaN</td>\n",
       "      <td>NaN</td>\n",
       "      <td>NaN</td>\n",
       "      <td>NaN</td>\n",
       "      <td>NaN</td>\n",
       "      <td>NaN</td>\n",
       "      <td>NaN</td>\n",
       "      <td>NaN</td>\n",
       "      <td>128932753.0</td>\n",
       "      <td>66.444</td>\n",
       "      <td>29.3</td>\n",
       "      <td>6.857</td>\n",
       "      <td>4.321</td>\n",
       "      <td>17336.469</td>\n",
       "      <td>2.5</td>\n",
       "      <td>152.783</td>\n",
       "      <td>13.06</td>\n",
       "      <td>6.9</td>\n",
       "      <td>21.4</td>\n",
       "      <td>87.847</td>\n",
       "      <td>1.38</td>\n",
       "      <td>75.05</td>\n",
       "      <td>0.774</td>\n",
       "    </tr>\n",
       "  </tbody>\n",
       "</table>"
      ]
     },
     "execution_count": 4,
     "metadata": {},
     "output_type": "execute_result"
    }
   ],
   "source": [
    "dfMX = load_data('Mexico')\n",
    "dfMX = dfMX[dfMX['location'].str.contains(\"Mexico\")]\n",
    "ld = len(dfMX)\n",
    "html(dfMX.tail().to_html())"
   ]
  },
  {
   "cell_type": "code",
   "execution_count": 38,
   "metadata": {},
   "outputs": [
    {
     "data": {
      "text/html": [
       "<html><script type=\"math/tex; mode=display\">\\newcommand{\\Bold}[1]{\\mathbf{#1}}\\begin{array}{l}\n",
       "\\verb|[1.000000e+00|\\phantom{\\verb!x!}\\verb|4.000000e+00|\\phantom{\\verb!x!}\\verb|5.000000e+00|\\phantom{\\verb!x!}\\verb|5.000000e+00|\\phantom{\\verb!x!}\\verb|5.000000e+00|\\\\\n",
       "\\phantom{\\verb!x!}\\verb|5.000000e+00|\\phantom{\\verb!x!}\\verb|5.000000e+00|\\phantom{\\verb!x!}\\verb|6.000000e+00|\\phantom{\\verb!x!}\\verb|6.000000e+00|\\phantom{\\verb!x!}\\verb|7.000000e+00|\\\\\n",
       "\\phantom{\\verb!x!}\\verb|7.000000e+00|\\phantom{\\verb!x!}\\verb|7.000000e+00|\\phantom{\\verb!x!}\\verb|8.000000e+00|\\phantom{\\verb!x!}\\verb|1.200000e+01|\\phantom{\\verb!x!}\\verb|2.600000e+01|\\\\\n",
       "\\phantom{\\verb!x!}\\verb|4.100000e+01|\\phantom{\\verb!x!}\\verb|5.300000e+01|\\phantom{\\verb!x!}\\verb|8.200000e+01|\\phantom{\\verb!x!}\\verb|9.300000e+01|\\phantom{\\verb!x!}\\verb|1.180000e+02|\\\\\n",
       "\\phantom{\\verb!x!}\\verb|1.640000e+02|\\phantom{\\verb!x!}\\verb|2.030000e+02|\\phantom{\\verb!x!}\\verb|2.510000e+02|\\phantom{\\verb!x!}\\verb|3.160000e+02|\\phantom{\\verb!x!}\\verb|3.670000e+02|\\\\\n",
       "\\phantom{\\verb!x!}\\verb|4.050000e+02|\\phantom{\\verb!x!}\\verb|4.750000e+02|\\phantom{\\verb!x!}\\verb|5.850000e+02|\\phantom{\\verb!x!}\\verb|7.170000e+02|\\phantom{\\verb!x!}\\verb|8.480000e+02|\\\\\n",
       "\\phantom{\\verb!x!}\\verb|9.930000e+02|\\phantom{\\verb!x!}\\verb|1.094000e+03|\\phantom{\\verb!x!}\\verb|1.215000e+03|\\phantom{\\verb!x!}\\verb|1.378000e+03|\\phantom{\\verb!x!}\\verb|1.510000e+03|\\\\\n",
       "\\phantom{\\verb!x!}\\verb|1.688000e+03|\\phantom{\\verb!x!}\\verb|1.890000e+03|\\phantom{\\verb!x!}\\verb|2.143000e+03|\\phantom{\\verb!x!}\\verb|2.439000e+03|\\phantom{\\verb!x!}\\verb|2.785000e+03|\\\\\n",
       "\\phantom{\\verb!x!}\\verb|3.181000e+03|\\phantom{\\verb!x!}\\verb|3.441000e+03|\\phantom{\\verb!x!}\\verb|3.844000e+03|\\phantom{\\verb!x!}\\verb|4.219000e+03|\\phantom{\\verb!x!}\\verb|4.661000e+03|\\\\\n",
       "\\phantom{\\verb!x!}\\verb|5.014000e+03|\\phantom{\\verb!x!}\\verb|5.399000e+03|\\phantom{\\verb!x!}\\verb|5.847000e+03|\\phantom{\\verb!x!}\\verb|6.297000e+03|\\phantom{\\verb!x!}\\verb|6.875000e+03|\\\\\n",
       "\\phantom{\\verb!x!}\\verb|7.497000e+03|\\phantom{\\verb!x!}\\verb|8.261000e+03|\\phantom{\\verb!x!}\\verb|8.772000e+03|\\phantom{\\verb!x!}\\verb|9.501000e+03|\\phantom{\\verb!x!}\\verb|1.054400e+04|\\\\\n",
       "\\phantom{\\verb!x!}\\verb|1.163300e+04|\\phantom{\\verb!x!}\\verb|1.287200e+04|\\phantom{\\verb!x!}\\verb|1.384200e+04|\\phantom{\\verb!x!}\\verb|1.467700e+04|\\phantom{\\verb!x!}\\verb|1.552900e+04|\\\\\n",
       "\\phantom{\\verb!x!}\\verb|1.675200e+04|\\phantom{\\verb!x!}\\verb|1.779900e+04|\\phantom{\\verb!x!}\\verb|1.922400e+04|\\phantom{\\verb!x!}\\verb|2.073900e+04|\\phantom{\\verb!x!}\\verb|2.208800e+04|\\\\\n",
       "\\phantom{\\verb!x!}\\verb|2.347100e+04|\\phantom{\\verb!x!}\\verb|2.490500e+04|\\phantom{\\verb!x!}\\verb|2.602500e+04|\\phantom{\\verb!x!}\\verb|2.763400e+04|\\phantom{\\verb!x!}\\verb|2.961600e+04|\\\\\n",
       "\\phantom{\\verb!x!}\\verb|3.152200e+04|\\phantom{\\verb!x!}\\verb|3.346000e+04|\\phantom{\\verb!x!}\\verb|3.502200e+04|\\phantom{\\verb!x!}\\verb|3.632700e+04|\\phantom{\\verb!x!}\\verb|3.832400e+04|\\\\\n",
       "\\phantom{\\verb!x!}\\verb|4.018600e+04|\\phantom{\\verb!x!}\\verb|4.259500e+04|\\phantom{\\verb!x!}\\verb|4.503200e+04|\\phantom{\\verb!x!}\\verb|4.714400e+04|\\phantom{\\verb!x!}\\verb|4.921900e+04|\\\\\n",
       "\\phantom{\\verb!x!}\\verb|5.163300e+04|\\phantom{\\verb!x!}\\verb|5.434600e+04|\\phantom{\\verb!x!}\\verb|5.659400e+04|\\phantom{\\verb!x!}\\verb|5.956700e+04|\\phantom{\\verb!x!}\\verb|6.252700e+04|\\\\\n",
       "\\phantom{\\verb!x!}\\verb|6.585600e+04|\\phantom{\\verb!x!}\\verb|6.862000e+04|\\phantom{\\verb!x!}\\verb|7.110500e+04|\\phantom{\\verb!x!}\\verb|7.456000e+04|\\phantom{\\verb!x!}\\verb|7.802300e+04|\\\\\n",
       "\\phantom{\\verb!x!}\\verb|8.140000e+04|\\phantom{\\verb!x!}\\verb|8.462700e+04|\\phantom{\\verb!x!}\\verb|8.751200e+04|\\phantom{\\verb!x!}\\verb|9.066400e+04|\\phantom{\\verb!x!}\\verb|9.343500e+04|\\\\\n",
       "\\phantom{\\verb!x!}\\verb|9.732600e+04|\\phantom{\\verb!x!}\\verb|1.012380e+05|\\phantom{\\verb!x!}\\verb|1.056800e+05|\\phantom{\\verb!x!}\\verb|1.100260e+05|\\phantom{\\verb!x!}\\verb|1.136190e+05|\\\\\n",
       "\\phantom{\\verb!x!}\\verb|1.171030e+05|\\phantom{\\verb!x!}\\verb|1.201020e+05|\\phantom{\\verb!x!}\\verb|1.243010e+05|\\phantom{\\verb!x!}\\verb|1.291840e+05|\\phantom{\\verb!x!}\\verb|1.339740e+05|\\\\\n",
       "\\phantom{\\verb!x!}\\verb|1.391960e+05|\\phantom{\\verb!x!}\\verb|1.426900e+05|\\phantom{\\verb!x!}\\verb|1.468370e+05|\\phantom{\\verb!x!}\\verb|1.502640e+05|\\phantom{\\verb!x!}\\verb|1.548630e+05|\\\\\n",
       "\\phantom{\\verb!x!}\\verb|1.597930e+05|\\phantom{\\verb!x!}\\verb|1.654550e+05|\\phantom{\\verb!x!}\\verb|1.704850e+05|\\phantom{\\verb!x!}\\verb|1.752020e+05|\\phantom{\\verb!x!}\\verb|1.805450e+05|\\\\\n",
       "\\phantom{\\verb!x!}\\verb|1.851220e+05|\\phantom{\\verb!x!}\\verb|1.914100e+05|\\phantom{\\verb!x!}\\verb|1.968470e+05|\\phantom{\\verb!x!}\\verb|2.029510e+05|\\phantom{\\verb!x!}\\verb|2.083920e+05|\\\\\n",
       "\\phantom{\\verb!x!}\\verb|2.128020e+05|\\phantom{\\verb!x!}\\verb|2.168520e+05|\\phantom{\\verb!x!}\\verb|2.206570e+05|\\phantom{\\verb!x!}\\verb|2.260890e+05|\\phantom{\\verb!x!}\\verb|2.317700e+05|\\\\\n",
       "\\phantom{\\verb!x!}\\verb|2.385110e+05|\\phantom{\\verb!x!}\\verb|2.452510e+05|\\phantom{\\verb!x!}\\verb|2.521650e+05|\\phantom{\\verb!x!}\\verb|2.568480e+05|\\phantom{\\verb!x!}\\verb|2.617500e+05|\\\\\n",
       "\\phantom{\\verb!x!}\\verb|2.680080e+05|\\phantom{\\verb!x!}\\verb|2.750030e+05|\\phantom{\\verb!x!}\\verb|2.822830e+05|\\phantom{\\verb!x!}\\verb|2.891740e+05|\\phantom{\\verb!x!}\\verb|2.952680e+05|\\\\\n",
       "\\phantom{\\verb!x!}\\verb|2.997500e+05|\\phantom{\\verb!x!}\\verb|3.044350e+05|\\phantom{\\verb!x!}\\verb|3.114860e+05|\\phantom{\\verb!x!}\\verb|3.176350e+05|\\phantom{\\verb!x!}\\verb|3.240410e+05|\\\\\n",
       "\\phantom{\\verb!x!}\\verb|3.312980e+05|\\phantom{\\verb!x!}\\verb|3.389130e+05|\\phantom{\\verb!x!}\\verb|3.442240e+05|\\phantom{\\verb!x!}\\verb|3.493960e+05|\\phantom{\\verb!x!}\\verb|3.562550e+05|\\\\\n",
       "\\phantom{\\verb!x!}\\verb|3.622740e+05|\\phantom{\\verb!x!}\\verb|3.707120e+05|\\phantom{\\verb!x!}\\verb|3.782850e+05|\\phantom{\\verb!x!}\\verb|3.850360e+05|\\phantom{\\verb!x!}\\verb|3.905160e+05|\\\\\n",
       "\\phantom{\\verb!x!}\\verb|3.954890e+05|\\phantom{\\verb!x!}\\verb|4.026970e+05|\\phantom{\\verb!x!}\\verb|4.084490e+05|\\phantom{\\verb!x!}\\verb|4.161790e+05|\\phantom{\\verb!x!}\\verb|4.246370e+05|\\\\\n",
       "\\phantom{\\verb!x!}\\verb|4.341930e+05|\\phantom{\\verb!x!}\\verb|4.390460e+05|\\phantom{\\verb!x!}\\verb|4.438130e+05|\\phantom{\\verb!x!}\\verb|4.499610e+05|\\phantom{\\verb!x!}\\verb|4.561000e+05|\\\\\n",
       "\\phantom{\\verb!x!}\\verb|4.626900e+05|\\phantom{\\verb!x!}\\verb|4.694070e+05|\\phantom{\\verb!x!}\\verb|4.759020e+05|\\phantom{\\verb!x!}\\verb|4.802780e+05|\\phantom{\\verb!x!}\\verb|4.858360e+05|\\\\\n",
       "\\phantom{\\verb!x!}\\verb|4.925220e+05|\\phantom{\\verb!x!}\\verb|4.983800e+05|\\phantom{\\verb!x!}\\verb|5.057510e+05|\\phantom{\\verb!x!}\\verb|5.113690e+05|\\phantom{\\verb!x!}\\verb|5.177140e+05|\\\\\n",
       "\\phantom{\\verb!x!}\\verb|5.221620e+05|\\phantom{\\verb!x!}\\verb|5.257330e+05|\\phantom{\\verb!x!}\\verb|5.312390e+05|\\phantom{\\verb!x!}\\verb|5.370310e+05|\\phantom{\\verb!x!}\\verb|5.438060e+05|\\\\\n",
       "\\phantom{\\verb!x!}\\verb|5.497340e+05|\\phantom{\\verb!x!}\\verb|5.562160e+05|\\phantom{\\verb!x!}\\verb|5.601640e+05|\\phantom{\\verb!x!}\\verb|5.637050e+05|\\phantom{\\verb!x!}\\verb|5.686210e+05|\\\\\n",
       "\\phantom{\\verb!x!}\\verb|5.738880e+05|\\phantom{\\verb!x!}\\verb|5.799140e+05|\\phantom{\\verb!x!}\\verb|5.857380e+05|\\phantom{\\verb!x!}\\verb|5.917120e+05|\\phantom{\\verb!x!}\\verb|5.958410e+05|\\\\\n",
       "\\phantom{\\verb!x!}\\verb|5.995600e+05|\\phantom{\\verb!x!}\\verb|6.060360e+05|\\phantom{\\verb!x!}\\verb|6.109570e+05|\\phantom{\\verb!x!}\\verb|6.168940e+05|\\phantom{\\verb!x!}\\verb|6.230900e+05|\\\\\n",
       "\\phantom{\\verb!x!}\\verb|6.294090e+05|\\phantom{\\verb!x!}\\verb|6.340230e+05|\\phantom{\\verb!x!}\\verb|6.375090e+05|\\phantom{\\verb!x!}\\verb|6.428600e+05|\\phantom{\\verb!x!}\\verb|6.473210e+05|\\\\\n",
       "\\phantom{\\verb!x!}\\verb|6.523640e+05|\\phantom{\\verb!x!}\\verb|6.582990e+05|\\phantom{\\verb!x!}\\verb|6.639730e+05|\\phantom{\\verb!x!}\\verb|6.683810e+05|\\phantom{\\verb!x!}\\verb|6.717160e+05|\\\\\n",
       "\\phantom{\\verb!x!}\\verb|6.764870e+05|\\phantom{\\verb!x!}\\verb|6.809310e+05|\\phantom{\\verb!x!}\\verb|6.841130e+05|\\phantom{\\verb!x!}\\verb|6.889540e+05|\\phantom{\\verb!x!}\\verb|6.941210e+05|\\\\\n",
       "\\phantom{\\verb!x!}\\verb|6.976630e+05|\\phantom{\\verb!x!}\\verb|7.005800e+05|\\phantom{\\verb!x!}\\verb|7.052630e+05|\\phantom{\\verb!x!}\\verb|7.100490e+05|\\phantom{\\verb!x!}\\verb|7.154570e+05|\\\\\n",
       "\\phantom{\\verb!x!}\\verb|7.208580e+05|\\phantom{\\verb!x!}\\verb|7.264310e+05|\\phantom{\\verb!x!}\\verb|7.303170e+05|\\phantom{\\verb!x!}\\verb|7.337170e+05|\\phantom{\\verb!x!}\\verb|7.381630e+05|\\\\\n",
       "\\phantom{\\verb!x!}\\verb|7.432160e+05|\\phantom{\\verb!x!}\\verb|7.483150e+05|\\phantom{\\verb!x!}\\verb|7.530900e+05|\\phantom{\\verb!x!}\\verb|7.579530e+05|\\phantom{\\verb!x!}\\verb|7.616650e+05|\\\\\n",
       "\\phantom{\\verb!x!}\\verb|7.897800e+05|\\phantom{\\verb!x!}\\verb|7.946080e+05|\\phantom{\\verb!x!}\\verb|7.991880e+05|\\phantom{\\verb!x!}\\verb|8.044880e+05|\\phantom{\\verb!x!}\\verb|8.100200e+05|\\\\\n",
       "\\phantom{\\verb!x!}\\verb|8.143280e+05|\\phantom{\\verb!x!}\\verb|8.175030e+05|\\phantom{\\verb!x!}\\verb|8.210450e+05|\\phantom{\\verb!x!}\\verb|8.253400e+05|\\phantom{\\verb!x!}\\verb|8.293960e+05|\\\\\n",
       "\\phantom{\\verb!x!}\\verb|8.349100e+05|\\phantom{\\verb!x!}\\verb|8.416610e+05|\\phantom{\\verb!x!}\\verb|8.471080e+05|\\phantom{\\verb!x!}\\verb|8.512270e+05|\\phantom{\\verb!x!}\\verb|8.549260e+05|\\\\\n",
       "\\phantom{\\verb!x!}\\verb|8.607140e+05|\\phantom{\\verb!x!}\\verb|8.675590e+05|\\phantom{\\verb!x!}\\verb|8.741710e+05|\\phantom{\\verb!x!}\\verb|8.807750e+05|\\phantom{\\verb!x!}\\verb|8.868000e+05|\\\\\n",
       "\\phantom{\\verb!x!}\\verb|8.911600e+05|\\phantom{\\verb!x!}\\verb|8.953260e+05|\\phantom{\\verb!x!}\\verb|9.012680e+05|\\phantom{\\verb!x!}\\verb|9.068630e+05|\\phantom{\\verb!x!}\\verb|9.128110e+05|\\\\\n",
       "\\phantom{\\verb!x!}\\verb|9.188110e+05|\\phantom{\\verb!x!}\\verb|9.249620e+05|\\phantom{\\verb!x!}\\verb|9.293920e+05|\\phantom{\\verb!x!}\\verb|9.331550e+05|\\phantom{\\verb!x!}\\verb|9.384050e+05|\\\\\n",
       "\\phantom{\\verb!x!}\\verb|9.436300e+05|\\phantom{\\verb!x!}\\verb|9.491970e+05|\\phantom{\\verb!x!}\\verb|9.551280e+05|\\phantom{\\verb!x!}\\verb|9.619380e+05|\\phantom{\\verb!x!}\\verb|9.678250e+05|\\\\\n",
       "\\phantom{\\verb!x!}\\verb|9.727850e+05|\\phantom{\\verb!x!}\\verb|9.785310e+05|\\phantom{\\verb!x!}\\verb|9.861770e+05|\\phantom{\\verb!x!}\\verb|9.918350e+05|\\phantom{\\verb!x!}\\verb|9.973930e+05|\\\\\n",
       "\\phantom{\\verb!x!}\\verb|1.003253e+06|\\phantom{\\verb!x!}\\verb|1.006522e+06|\\phantom{\\verb!x!}\\verb|1.009396e+06|\\phantom{\\verb!x!}\\verb|1.011153e+06|\\phantom{\\verb!x!}\\verb|1.015071e+06|\\\\\n",
       "\\phantom{\\verb!x!}\\verb|1.019543e+06|\\phantom{\\verb!x!}\\verb|1.025969e+06|\\phantom{\\verb!x!}\\verb|1.032688e+06|\\phantom{\\verb!x!}\\verb|1.041875e+06|\\phantom{\\verb!x!}\\verb|1.049358e+06|\\\\\n",
       "\\phantom{\\verb!x!}\\verb|1.060152e+06|\\phantom{\\verb!x!}\\verb|1.070487e+06|\\phantom{\\verb!x!}\\verb|1.078594e+06|\\phantom{\\verb!x!}\\verb|1.078594e+06|\\phantom{\\verb!x!}\\verb|1.101403e+06|\\\\\n",
       "\\phantom{\\verb!x!}\\verb|1.107071e+06|\\phantom{\\verb!x!}\\verb|1.113543e+06|\\phantom{\\verb!x!}\\verb|1.122362e+06|\\phantom{\\verb!x!}\\verb|1.133613e+06|\\phantom{\\verb!x!}\\verb|1.144643e+06|\\\\\n",
       "\\phantom{\\verb!x!}\\verb|1.156770e+06|\\phantom{\\verb!x!}\\verb|1.168395e+06|\\phantom{\\verb!x!}\\verb|1.175850e+06|\\phantom{\\verb!x!}\\verb|1.182249e+06|\\phantom{\\verb!x!}\\verb|1.193255e+06|\\\\\n",
       "\\phantom{\\verb!x!}\\verb|1.205229e+06|\\phantom{\\verb!x!}\\verb|1.217126e+06|\\phantom{\\verb!x!}\\verb|1.229379e+06|\\phantom{\\verb!x!}\\verb|1.241436e+06|\\phantom{\\verb!x!}\\verb|1.250044e+06|\\\\\n",
       "\\phantom{\\verb!x!}\\verb|1.255974e+06]|\n",
       "\\end{array}</script></html>"
      ],
      "text/plain": [
       "array([1.000000e+00, 4.000000e+00, 5.000000e+00, 5.000000e+00,\n",
       "       5.000000e+00, 5.000000e+00, 5.000000e+00, 6.000000e+00,\n",
       "       6.000000e+00, 7.000000e+00, 7.000000e+00, 7.000000e+00,\n",
       "       8.000000e+00, 1.200000e+01, 2.600000e+01, 4.100000e+01,\n",
       "       5.300000e+01, 8.200000e+01, 9.300000e+01, 1.180000e+02,\n",
       "       1.640000e+02, 2.030000e+02, 2.510000e+02, 3.160000e+02,\n",
       "       3.670000e+02, 4.050000e+02, 4.750000e+02, 5.850000e+02,\n",
       "       7.170000e+02, 8.480000e+02, 9.930000e+02, 1.094000e+03,\n",
       "       1.215000e+03, 1.378000e+03, 1.510000e+03, 1.688000e+03,\n",
       "       1.890000e+03, 2.143000e+03, 2.439000e+03, 2.785000e+03,\n",
       "       3.181000e+03, 3.441000e+03, 3.844000e+03, 4.219000e+03,\n",
       "       4.661000e+03, 5.014000e+03, 5.399000e+03, 5.847000e+03,\n",
       "       6.297000e+03, 6.875000e+03, 7.497000e+03, 8.261000e+03,\n",
       "       8.772000e+03, 9.501000e+03, 1.054400e+04, 1.163300e+04,\n",
       "       1.287200e+04, 1.384200e+04, 1.467700e+04, 1.552900e+04,\n",
       "       1.675200e+04, 1.779900e+04, 1.922400e+04, 2.073900e+04,\n",
       "       2.208800e+04, 2.347100e+04, 2.490500e+04, 2.602500e+04,\n",
       "       2.763400e+04, 2.961600e+04, 3.152200e+04, 3.346000e+04,\n",
       "       3.502200e+04, 3.632700e+04, 3.832400e+04, 4.018600e+04,\n",
       "       4.259500e+04, 4.503200e+04, 4.714400e+04, 4.921900e+04,\n",
       "       5.163300e+04, 5.434600e+04, 5.659400e+04, 5.956700e+04,\n",
       "       6.252700e+04, 6.585600e+04, 6.862000e+04, 7.110500e+04,\n",
       "       7.456000e+04, 7.802300e+04, 8.140000e+04, 8.462700e+04,\n",
       "       8.751200e+04, 9.066400e+04, 9.343500e+04, 9.732600e+04,\n",
       "       1.012380e+05, 1.056800e+05, 1.100260e+05, 1.136190e+05,\n",
       "       1.171030e+05, 1.201020e+05, 1.243010e+05, 1.291840e+05,\n",
       "       1.339740e+05, 1.391960e+05, 1.426900e+05, 1.468370e+05,\n",
       "       1.502640e+05, 1.548630e+05, 1.597930e+05, 1.654550e+05,\n",
       "       1.704850e+05, 1.752020e+05, 1.805450e+05, 1.851220e+05,\n",
       "       1.914100e+05, 1.968470e+05, 2.029510e+05, 2.083920e+05,\n",
       "       2.128020e+05, 2.168520e+05, 2.206570e+05, 2.260890e+05,\n",
       "       2.317700e+05, 2.385110e+05, 2.452510e+05, 2.521650e+05,\n",
       "       2.568480e+05, 2.617500e+05, 2.680080e+05, 2.750030e+05,\n",
       "       2.822830e+05, 2.891740e+05, 2.952680e+05, 2.997500e+05,\n",
       "       3.044350e+05, 3.114860e+05, 3.176350e+05, 3.240410e+05,\n",
       "       3.312980e+05, 3.389130e+05, 3.442240e+05, 3.493960e+05,\n",
       "       3.562550e+05, 3.622740e+05, 3.707120e+05, 3.782850e+05,\n",
       "       3.850360e+05, 3.905160e+05, 3.954890e+05, 4.026970e+05,\n",
       "       4.084490e+05, 4.161790e+05, 4.246370e+05, 4.341930e+05,\n",
       "       4.390460e+05, 4.438130e+05, 4.499610e+05, 4.561000e+05,\n",
       "       4.626900e+05, 4.694070e+05, 4.759020e+05, 4.802780e+05,\n",
       "       4.858360e+05, 4.925220e+05, 4.983800e+05, 5.057510e+05,\n",
       "       5.113690e+05, 5.177140e+05, 5.221620e+05, 5.257330e+05,\n",
       "       5.312390e+05, 5.370310e+05, 5.438060e+05, 5.497340e+05,\n",
       "       5.562160e+05, 5.601640e+05, 5.637050e+05, 5.686210e+05,\n",
       "       5.738880e+05, 5.799140e+05, 5.857380e+05, 5.917120e+05,\n",
       "       5.958410e+05, 5.995600e+05, 6.060360e+05, 6.109570e+05,\n",
       "       6.168940e+05, 6.230900e+05, 6.294090e+05, 6.340230e+05,\n",
       "       6.375090e+05, 6.428600e+05, 6.473210e+05, 6.523640e+05,\n",
       "       6.582990e+05, 6.639730e+05, 6.683810e+05, 6.717160e+05,\n",
       "       6.764870e+05, 6.809310e+05, 6.841130e+05, 6.889540e+05,\n",
       "       6.941210e+05, 6.976630e+05, 7.005800e+05, 7.052630e+05,\n",
       "       7.100490e+05, 7.154570e+05, 7.208580e+05, 7.264310e+05,\n",
       "       7.303170e+05, 7.337170e+05, 7.381630e+05, 7.432160e+05,\n",
       "       7.483150e+05, 7.530900e+05, 7.579530e+05, 7.616650e+05,\n",
       "       7.897800e+05, 7.946080e+05, 7.991880e+05, 8.044880e+05,\n",
       "       8.100200e+05, 8.143280e+05, 8.175030e+05, 8.210450e+05,\n",
       "       8.253400e+05, 8.293960e+05, 8.349100e+05, 8.416610e+05,\n",
       "       8.471080e+05, 8.512270e+05, 8.549260e+05, 8.607140e+05,\n",
       "       8.675590e+05, 8.741710e+05, 8.807750e+05, 8.868000e+05,\n",
       "       8.911600e+05, 8.953260e+05, 9.012680e+05, 9.068630e+05,\n",
       "       9.128110e+05, 9.188110e+05, 9.249620e+05, 9.293920e+05,\n",
       "       9.331550e+05, 9.384050e+05, 9.436300e+05, 9.491970e+05,\n",
       "       9.551280e+05, 9.619380e+05, 9.678250e+05, 9.727850e+05,\n",
       "       9.785310e+05, 9.861770e+05, 9.918350e+05, 9.973930e+05,\n",
       "       1.003253e+06, 1.006522e+06, 1.009396e+06, 1.011153e+06,\n",
       "       1.015071e+06, 1.019543e+06, 1.025969e+06, 1.032688e+06,\n",
       "       1.041875e+06, 1.049358e+06, 1.060152e+06, 1.070487e+06,\n",
       "       1.078594e+06, 1.078594e+06, 1.101403e+06, 1.107071e+06,\n",
       "       1.113543e+06, 1.122362e+06, 1.133613e+06, 1.144643e+06,\n",
       "       1.156770e+06, 1.168395e+06, 1.175850e+06, 1.182249e+06,\n",
       "       1.193255e+06, 1.205229e+06, 1.217126e+06, 1.229379e+06,\n",
       "       1.241436e+06, 1.250044e+06, 1.255974e+06])"
      ]
     },
     "execution_count": 38,
     "metadata": {},
     "output_type": "execute_result"
    }
   ],
   "source": [
    "total_cases = dfMX['total_cases'].dropna().to_numpy()\n",
    "total_cases"
   ]
  },
  {
   "cell_type": "code",
   "execution_count": 5,
   "metadata": {},
   "outputs": [
    {
     "data": {
      "text/html": [
       "<html><script type=\"math/tex; mode=display\">\\newcommand{\\Bold}[1]{\\mathbf{#1}}\\verb|AxesSubplot(0.125,0.11;0.775x0.77)|</script></html>"
      ],
      "text/plain": [
       "<matplotlib.axes._subplots.AxesSubplot object at 0x6fec918ecc0>"
      ]
     },
     "execution_count": 5,
     "metadata": {},
     "output_type": "execute_result"
    }
   ],
   "source": [
    "subnot=1\n",
    "dfMX.set_index('date')[['total_cases','total_deaths']].plot(figsize=(16, 8))"
   ]
  },
  {
   "cell_type": "markdown",
   "metadata": {},
   "source": [
    "# Achando o R0:"
   ]
  },
  {
   "cell_type": "code",
   "execution_count": 5,
   "metadata": {},
   "outputs": [
    {
     "data": {
      "text/html": [
       "<html><script type=\"math/tex; mode=display\">\\newcommand{\\Bold}[1]{\\mathbf{#1}}\\left(S, E, \\mathit{Ia}, \\mathit{Is}, R, D, a, \\mathit{ba}, \\mathit{bs}, \\mathit{ca}, \\mathit{cs}, p, q\\right)</script></html>"
      ],
      "text/plain": [
       "(S, E, Ia, Is, R, D, a, ba, bs, ca, cs, p, q)"
      ]
     },
     "execution_count": 5,
     "metadata": {},
     "output_type": "execute_result"
    }
   ],
   "source": [
    "var('S E Ia Is R D a ba bs ca cs p q')"
   ]
  },
  {
   "cell_type": "markdown",
   "metadata": {},
   "source": [
    "### Equilíbrio:"
   ]
  },
  {
   "cell_type": "code",
   "execution_count": 6,
   "metadata": {},
   "outputs": [],
   "source": [
    "dsdt = -(bs * Is + ba * Ia) * S\n",
    "dedt = (bs * Is + ba * Ia) * S - a * E\n",
    "diadt = p * a * E - ca * Ia\n",
    "disdt = (1 - p) * a * E - cs * Is\n",
    "drdt = ca * Ia + cs * q * Is\n",
    "dddt = cs * (1 - q) * Is"
   ]
  },
  {
   "cell_type": "code",
   "execution_count": 7,
   "metadata": {},
   "outputs": [
    {
     "data": {
      "text/html": [
       "<html><script type=\"math/tex; mode=display\">\\newcommand{\\Bold}[1]{\\mathbf{#1}}\\left[\\left[S = r_{1}, E = 0, \\mathit{Ia} = 0, \\mathit{Is} = 0, R = r_{2}, D = r_{3}\\right]\\right]</script></html>"
      ],
      "text/plain": [
       "[[S == r1, E == 0, Ia == 0, Is == 0, R == r2, D == r3]]"
      ]
     },
     "execution_count": 7,
     "metadata": {},
     "output_type": "execute_result"
    }
   ],
   "source": [
    "solve([dsdt, dedt, diadt, disdt, drdt, dddt],[S, E , Ia, Is, R, D])"
   ]
  },
  {
   "cell_type": "markdown",
   "metadata": {},
   "source": [
    "### Jacobiana:"
   ]
  },
  {
   "cell_type": "code",
   "execution_count": 8,
   "metadata": {},
   "outputs": [
    {
     "data": {
      "text/html": [
       "<html><script type=\"math/tex; mode=display\">\\newcommand{\\Bold}[1]{\\mathbf{#1}}\\left(\\begin{array}{rrrrrr}\n",
       "-\\mathit{Ia} \\mathit{ba} - \\mathit{Is} \\mathit{bs} & 0 & -S \\mathit{ba} & -S \\mathit{bs} & 0 & 0 \\\\\n",
       "\\mathit{Ia} \\mathit{ba} + \\mathit{Is} \\mathit{bs} & -a & S \\mathit{ba} & S \\mathit{bs} & 0 & 0 \\\\\n",
       "0 & a p & -\\mathit{ca} & 0 & 0 & 0 \\\\\n",
       "0 & -a {\\left(p - 1\\right)} & 0 & -\\mathit{cs} & 0 & 0 \\\\\n",
       "0 & 0 & \\mathit{ca} & \\mathit{cs} q & 0 & 0 \\\\\n",
       "0 & 0 & 0 & -\\mathit{cs} {\\left(q - 1\\right)} & 0 & 0\n",
       "\\end{array}\\right)</script></html>"
      ],
      "text/plain": [
       "[-Ia*ba - Is*bs              0          -S*ba          -S*bs              0              0]\n",
       "[ Ia*ba + Is*bs             -a           S*ba           S*bs              0              0]\n",
       "[             0            a*p            -ca              0              0              0]\n",
       "[             0     -a*(p - 1)              0            -cs              0              0]\n",
       "[             0              0             ca           cs*q              0              0]\n",
       "[             0              0              0    -cs*(q - 1)              0              0]"
      ]
     },
     "execution_count": 8,
     "metadata": {},
     "output_type": "execute_result"
    }
   ],
   "source": [
    "jack = jacobian([dsdt, dedt, diadt, disdt, drdt, dddt],[S, E , Ia, Is, R, D])\n",
    "jack"
   ]
  },
  {
   "cell_type": "code",
   "execution_count": 9,
   "metadata": {},
   "outputs": [
    {
     "data": {
      "text/html": [
       "<html><script type=\"math/tex; mode=display\">\\newcommand{\\Bold}[1]{\\mathbf{#1}}x^{6} + \\left(\\mathit{Ia} \\mathit{ba} + \\mathit{Is} \\mathit{bs} + a + \\mathit{ca} + \\mathit{cs}\\right) x^{5} + \\left(-S a \\mathit{ba} p + S a \\mathit{bs} p + \\mathit{Ia} a \\mathit{ba} + \\mathit{Is} a \\mathit{bs} - S a \\mathit{bs} + \\mathit{Ia} \\mathit{ba} \\mathit{ca} + \\mathit{Is} \\mathit{bs} \\mathit{ca} + \\mathit{Ia} \\mathit{ba} \\mathit{cs} + \\mathit{Is} \\mathit{bs} \\mathit{cs} + a \\mathit{ca} + a \\mathit{cs} + \\mathit{ca} \\mathit{cs}\\right) x^{4} + \\left(S a \\mathit{bs} \\mathit{ca} p - S a \\mathit{ba} \\mathit{cs} p + \\mathit{Ia} a \\mathit{ba} \\mathit{ca} + \\mathit{Is} a \\mathit{bs} \\mathit{ca} - S a \\mathit{bs} \\mathit{ca} + \\mathit{Ia} a \\mathit{ba} \\mathit{cs} + \\mathit{Is} a \\mathit{bs} \\mathit{cs} + \\mathit{Ia} \\mathit{ba} \\mathit{ca} \\mathit{cs} + \\mathit{Is} \\mathit{bs} \\mathit{ca} \\mathit{cs} + a \\mathit{ca} \\mathit{cs}\\right) x^{3} + \\left(\\mathit{Ia} a \\mathit{ba} \\mathit{ca} \\mathit{cs} + \\mathit{Is} a \\mathit{bs} \\mathit{ca} \\mathit{cs}\\right) x^{2}</script></html>"
      ],
      "text/plain": [
       "x^6 + (Ia*ba + Is*bs + a + ca + cs)*x^5 + (-S*a*ba*p + S*a*bs*p + Ia*a*ba + Is*a*bs - S*a*bs + Ia*ba*ca + Is*bs*ca + Ia*ba*cs + Is*bs*cs + a*ca + a*cs + ca*cs)*x^4 + (S*a*bs*ca*p - S*a*ba*cs*p + Ia*a*ba*ca + Is*a*bs*ca - S*a*bs*ca + Ia*a*ba*cs + Is*a*bs*cs + Ia*ba*ca*cs + Is*bs*ca*cs + a*ca*cs)*x^3 + (Ia*a*ba*ca*cs + Is*a*bs*ca*cs)*x^2"
      ]
     },
     "execution_count": 9,
     "metadata": {},
     "output_type": "execute_result"
    }
   ],
   "source": [
    "cp = jack.characteristic_polynomial()\n",
    "cp"
   ]
  },
  {
   "cell_type": "code",
   "execution_count": 10,
   "metadata": {},
   "outputs": [],
   "source": [
    "#desolve_rk4(x^3,x,ics=[0,.2],ivar='t', end_points=500, output='slope_field')"
   ]
  },
  {
   "cell_type": "markdown",
   "metadata": {},
   "source": [
    "### Cálculo do $R_0$ analítico:"
   ]
  },
  {
   "cell_type": "code",
   "execution_count": 11,
   "metadata": {},
   "outputs": [
    {
     "data": {
      "text/html": [
       "<html><script type=\"math/tex; mode=display\">\\newcommand{\\Bold}[1]{\\mathbf{#1}}\\left(\\begin{array}{r}\n",
       "{\\left(\\mathit{Ia} \\mathit{ba} + \\mathit{Is} \\mathit{bs}\\right)} S \\\\\n",
       "0 \\\\\n",
       "0\n",
       "\\end{array}\\right)</script></html>"
      ],
      "text/plain": [
       "[(Ia*ba + Is*bs)*S]\n",
       "[                0]\n",
       "[                0]"
      ]
     },
     "execution_count": 11,
     "metadata": {},
     "output_type": "execute_result"
    }
   ],
   "source": [
    "F_cal = matrix([[(bs * Is + ba * Ia) * S],[0],[0]])\n",
    "F_cal"
   ]
  },
  {
   "cell_type": "code",
   "execution_count": 12,
   "metadata": {},
   "outputs": [
    {
     "data": {
      "text/html": [
       "<html><script type=\"math/tex; mode=display\">\\newcommand{\\Bold}[1]{\\mathbf{#1}}\\left(\\begin{array}{r}\n",
       "E {\\left(\\mathit{ba} + \\mathit{bs}\\right)} \\\\\n",
       "\\mathit{Is} a \\\\\n",
       "\\mathit{Ia} a\n",
       "\\end{array}\\right)</script></html>"
      ],
      "text/plain": [
       "[E*(ba + bs)]\n",
       "[       Is*a]\n",
       "[       Ia*a]"
      ]
     },
     "execution_count": 12,
     "metadata": {},
     "output_type": "execute_result"
    }
   ],
   "source": [
    "V_cal_neg = matrix([[(bs+ba)*E],[a*Is],[a*Ia]])\n",
    "V_cal_neg"
   ]
  },
  {
   "cell_type": "code",
   "execution_count": 13,
   "metadata": {},
   "outputs": [
    {
     "data": {
      "text/html": [
       "<html><script type=\"math/tex; mode=display\">\\newcommand{\\Bold}[1]{\\mathbf{#1}}\\left(\\begin{array}{r}\n",
       "0 \\\\\n",
       "-E {\\left(\\mathit{ba} + \\mathit{bs}\\right)} {\\left(p - 1\\right)} \\\\\n",
       "E {\\left(\\mathit{ba} + \\mathit{bs}\\right)} p\n",
       "\\end{array}\\right)</script></html>"
      ],
      "text/plain": [
       "[                   0]\n",
       "[-E*(ba + bs)*(p - 1)]\n",
       "[       E*(ba + bs)*p]"
      ]
     },
     "execution_count": 13,
     "metadata": {},
     "output_type": "execute_result"
    }
   ],
   "source": [
    "V_cal_pos = matrix([[0],[(1-p)*(bs+ba)*E],[p*(bs+ba)*E]])\n",
    "V_cal_pos"
   ]
  },
  {
   "cell_type": "code",
   "execution_count": 14,
   "metadata": {},
   "outputs": [
    {
     "data": {
      "text/html": [
       "<html><script type=\"math/tex; mode=display\">\\newcommand{\\Bold}[1]{\\mathbf{#1}}\\left(\\begin{array}{r}\n",
       "E {\\left(\\mathit{ba} + \\mathit{bs}\\right)} \\\\\n",
       "E {\\left(\\mathit{ba} + \\mathit{bs}\\right)} {\\left(p - 1\\right)} + \\mathit{Is} a \\\\\n",
       "-E {\\left(\\mathit{ba} + \\mathit{bs}\\right)} p + \\mathit{Ia} a\n",
       "\\end{array}\\right)</script></html>"
      ],
      "text/plain": [
       "[               E*(ba + bs)]\n",
       "[E*(ba + bs)*(p - 1) + Is*a]\n",
       "[     -E*(ba + bs)*p + Ia*a]"
      ]
     },
     "execution_count": 14,
     "metadata": {},
     "output_type": "execute_result"
    }
   ],
   "source": [
    "V_cal = V_cal_neg-V_cal_pos\n",
    "V_cal"
   ]
  },
  {
   "cell_type": "code",
   "execution_count": 15,
   "metadata": {},
   "outputs": [
    {
     "data": {
      "text/html": [
       "<html><script type=\"math/tex; mode=display\">\\newcommand{\\Bold}[1]{\\mathbf{#1}}\\left(\\begin{array}{rrr}\n",
       "0 & \\mathit{bs} & \\mathit{ba} \\\\\n",
       "0 & 0 & 0 \\\\\n",
       "0 & 0 & 0\n",
       "\\end{array}\\right)</script></html>"
      ],
      "text/plain": [
       "[ 0 bs ba]\n",
       "[ 0  0  0]\n",
       "[ 0  0  0]"
      ]
     },
     "execution_count": 15,
     "metadata": {},
     "output_type": "execute_result"
    }
   ],
   "source": [
    "F = jacobian(F_cal(S=1),[E,Is,Ia])\n",
    "F"
   ]
  },
  {
   "cell_type": "code",
   "execution_count": 16,
   "metadata": {},
   "outputs": [
    {
     "data": {
      "text/html": [
       "<html><script type=\"math/tex; mode=display\">\\newcommand{\\Bold}[1]{\\mathbf{#1}}\\left(\\begin{array}{rrr}\n",
       "\\mathit{ba} + \\mathit{bs} & 0 & 0 \\\\\n",
       "{\\left(\\mathit{ba} + \\mathit{bs}\\right)} {\\left(p - 1\\right)} & a & 0 \\\\\n",
       "-{\\left(\\mathit{ba} + \\mathit{bs}\\right)} p & 0 & a\n",
       "\\end{array}\\right)</script></html>"
      ],
      "text/plain": [
       "[          ba + bs                 0                 0]\n",
       "[(ba + bs)*(p - 1)                 a                 0]\n",
       "[     -(ba + bs)*p                 0                 a]"
      ]
     },
     "execution_count": 16,
     "metadata": {},
     "output_type": "execute_result"
    }
   ],
   "source": [
    "V = jacobian(V_cal(S=1),[E,Is,Ia])\n",
    "V"
   ]
  },
  {
   "cell_type": "markdown",
   "metadata": {},
   "source": [
    "$R_0 = p(FV^{-1})$"
   ]
  },
  {
   "cell_type": "code",
   "execution_count": 17,
   "metadata": {},
   "outputs": [],
   "source": [
    "M = F*V.inverse()"
   ]
  },
  {
   "cell_type": "code",
   "execution_count": 18,
   "metadata": {},
   "outputs": [
    {
     "data": {
      "text/html": [
       "<html><script type=\"math/tex; mode=display\">\\newcommand{\\Bold}[1]{\\mathbf{#1}}\\left(\\begin{array}{rrr}\n",
       "\\frac{{\\left(\\mathit{ba} - \\mathit{bs}\\right)} p + \\mathit{bs}}{a} & \\frac{\\mathit{bs}}{a} & \\frac{\\mathit{ba}}{a} \\\\\n",
       "0 & 0 & 0 \\\\\n",
       "0 & 0 & 0\n",
       "\\end{array}\\right)</script></html>"
      ],
      "text/plain": [
       "[((ba - bs)*p + bs)/a                 bs/a                 ba/a]\n",
       "[                   0                    0                    0]\n",
       "[                   0                    0                    0]"
      ]
     },
     "execution_count": 18,
     "metadata": {},
     "output_type": "execute_result"
    }
   ],
   "source": [
    "M=M.simplify_full()\n",
    "M"
   ]
  },
  {
   "cell_type": "code",
   "execution_count": 19,
   "metadata": {},
   "outputs": [
    {
     "data": {
      "text/html": [
       "<html><script type=\"math/tex; mode=display\">\\newcommand{\\Bold}[1]{\\mathbf{#1}}\\left[\\frac{{\\left(\\mathit{ba} - \\mathit{bs}\\right)} p + \\mathit{bs}}{a}, 0, 0\\right]</script></html>"
      ],
      "text/plain": [
       "[((ba - bs)*p + bs)/a, 0, 0]"
      ]
     },
     "execution_count": 19,
     "metadata": {},
     "output_type": "execute_result"
    }
   ],
   "source": [
    "M.eigenvalues()"
   ]
  },
  {
   "cell_type": "code",
   "execution_count": 20,
   "metadata": {},
   "outputs": [
    {
     "data": {
      "text/html": [
       "<html><script type=\"math/tex; mode=display\">\\newcommand{\\Bold}[1]{\\mathbf{#1}}\\frac{{\\left(\\mathit{ba} - \\mathit{bs}\\right)} p + \\mathit{bs}}{a}</script></html>"
      ],
      "text/plain": [
       "((ba - bs)*p + bs)/a"
      ]
     },
     "execution_count": 20,
     "metadata": {},
     "output_type": "execute_result"
    }
   ],
   "source": [
    "R0=M[0,0].simplify_full()\n",
    "R0"
   ]
  },
  {
   "cell_type": "markdown",
   "metadata": {},
   "source": [
    "# Simulação:"
   ]
  },
  {
   "cell_type": "code",
   "execution_count": 21,
   "metadata": {},
   "outputs": [],
   "source": [
    "import numpy as np\n",
    "import pandas as pd\n",
    "%display typeset"
   ]
  },
  {
   "cell_type": "code",
   "execution_count": 22,
   "metadata": {},
   "outputs": [],
   "source": [
    "def model(t, y, params):\n",
    "    S, E, Is, Ia, R, D = y\n",
    "    a, ba, bs, ca, cs, p, q = params\n",
    "    return [\n",
    "        -(bs * Is + ba * Ia) * S,  # dS/dt\n",
    "        (bs * Is + ba * Ia) * S - a * E,  # dE/dt\n",
    "        (1 - p) * a * E - cs * Is, # dIs/dt\n",
    "        p * a * E - ca * Ia,  # dIa/dt\n",
    "        ca * Ia + cs * q * Is,  # dR/dt\n",
    "        cs * (1 - q) * Is,  # dD/dt\n",
    "    ]"
   ]
  },
  {
   "cell_type": "code",
   "execution_count": 23,
   "metadata": {},
   "outputs": [],
   "source": [
    "a = 0.42\n",
    "ba = 0.5\n",
    "bs = 0.4\n",
    "ca = 0.17\n",
    "cs = 0.09\n",
    "p = 0.64\n",
    "q = 0.88"
   ]
  },
  {
   "cell_type": "code",
   "execution_count": 24,
   "metadata": {},
   "outputs": [],
   "source": [
    "T = ode_solver()\n",
    "T.function = model\n",
    "T.algorithm='rk8pd'\n",
    "inits = [.99, 0, 1e-4, 0, 0, 0]\n",
    "tspan = [0,100]\n",
    "T.ode_solve(tspan, inits, num_points=200, params=[a, ba, bs, ca, cs, p, q])"
   ]
  },
  {
   "cell_type": "code",
   "execution_count": 25,
   "metadata": {},
   "outputs": [
    {
     "data": {
      "text/html": [
       "<html><script type=\"math/tex; mode=display\">\\newcommand{\\Bold}[1]{\\mathbf{#1}}\\begin{array}{l}\n",
       "\\verb|[[9.90000000e-01|\\phantom{\\verb!x!}\\verb|0.00000000e+00|\\phantom{\\verb!x!}\\verb|1.00000000e-04|\\phantom{\\verb!x!}\\verb|0.00000000e+00|\\\\\n",
       "\\phantom{\\verb!xx!}\\verb|0.00000000e+00|\\phantom{\\verb!x!}\\verb|0.00000000e+00]|\\\\\n",
       "\\phantom{\\verb!x!}\\verb|[9.89980492e-01|\\phantom{\\verb!x!}\\verb|1.75889787e-05|\\phantom{\\verb!x!}\\verb|9.62801517e-05|\\phantom{\\verb!x!}\\verb|1.19344783e-06|\\\\\n",
       "\\phantom{\\verb!xx!}\\verb|3.91614473e-06|\\phantom{\\verb!x!}\\verb|5.29283808e-07]|\\\\\n",
       "\\phantom{\\verb!x!}\\verb|[9.89961037e-01|\\phantom{\\verb!x!}\\verb|3.18104031e-05|\\phantom{\\verb!x!}\\verb|9.38899288e-05|\\phantom{\\verb!x!}\\verb|4.32038661e-06|\\\\\n",
       "\\phantom{\\verb!xx!}\\verb|7.90032097e-06|\\phantom{\\verb!x!}\\verb|1.04221158e-06]|\\\\\n",
       "\\phantom{\\verb!x!}\\verb|...|\\\\\n",
       "\\phantom{\\verb!x!}\\verb|[3.73784945e-02|\\phantom{\\verb!x!}\\verb|4.58916574e-04|\\phantom{\\verb!x!}\\verb|7.64313224e-03|\\phantom{\\verb!x!}\\verb|1.91479231e-03|\\\\\n",
       "\\phantom{\\verb!xx!}\\verb|9.02476416e-01|\\phantom{\\verb!x!}\\verb|4.02282480e-02]|\\\\\n",
       "\\phantom{\\verb!x!}\\verb|[3.73051400e-02|\\phantom{\\verb!x!}\\verb|4.38102348e-04|\\phantom{\\verb!x!}\\verb|7.33995868e-03|\\phantom{\\verb!x!}\\verb|1.81651890e-03|\\\\\n",
       "\\phantom{\\verb!xx!}\\verb|9.02931583e-01|\\phantom{\\verb!x!}\\verb|4.02686969e-02]|\\\\\n",
       "\\phantom{\\verb!x!}\\verb|[3.72350322e-02|\\phantom{\\verb!x!}\\verb|4.18304729e-04|\\phantom{\\verb!x!}\\verb|7.04862506e-03|\\phantom{\\verb!x!}\\verb|1.72363876e-03|\\\\\n",
       "\\phantom{\\verb!xx!}\\verb|9.03366858e-01|\\phantom{\\verb!x!}\\verb|4.03075408e-02]]|\n",
       "\\end{array}</script></html>"
      ],
      "text/plain": [
       "array([[9.90000000e-01, 0.00000000e+00, 1.00000000e-04, 0.00000000e+00,\n",
       "        0.00000000e+00, 0.00000000e+00],\n",
       "       [9.89980492e-01, 1.75889787e-05, 9.62801517e-05, 1.19344783e-06,\n",
       "        3.91614473e-06, 5.29283808e-07],\n",
       "       [9.89961037e-01, 3.18104031e-05, 9.38899288e-05, 4.32038661e-06,\n",
       "        7.90032097e-06, 1.04221158e-06],\n",
       "       ...,\n",
       "       [3.73784945e-02, 4.58916574e-04, 7.64313224e-03, 1.91479231e-03,\n",
       "        9.02476416e-01, 4.02282480e-02],\n",
       "       [3.73051400e-02, 4.38102348e-04, 7.33995868e-03, 1.81651890e-03,\n",
       "        9.02931583e-01, 4.02686969e-02],\n",
       "       [3.72350322e-02, 4.18304729e-04, 7.04862506e-03, 1.72363876e-03,\n",
       "        9.03366858e-01, 4.03075408e-02]])"
      ]
     },
     "execution_count": 25,
     "metadata": {},
     "output_type": "execute_result"
    }
   ],
   "source": [
    "def get_sim_array(sol):\n",
    "    sim = np.array([y for t,y in sol])\n",
    "    return sim\n",
    "get_sim_array(T.solution)"
   ]
  },
  {
   "cell_type": "code",
   "execution_count": 26,
   "metadata": {},
   "outputs": [
    {
     "data": {
      "image/png": "[encoded data removed]",
      "text/plain": [
       "Graphics object consisting of 6 graphics primitives"
      ]
     },
     "metadata": {},
     "output_type": "display_data"
    }
   ],
   "source": [
    "popMEXICO = 126.2e6\n",
    "def plot_sol(sol):\n",
    "    sim = get_sim_array(sol)*popMEXICO\n",
    "    P = list_plot(sim[:,0],legend_label='S')\n",
    "    colors = ['blue','red','pink','green','yellow','orange','black','purple']\n",
    "    for i,var in enumerate(['E','Is','Ia','R','D']):\n",
    "        P += list_plot(sim[:,i+1],color=colors[i+1],legend_label=var)\n",
    "   \n",
    "    show(P, figsize=(16, 8))\n",
    "plot_sol(T.solution)"
   ]
  },
  {
   "cell_type": "markdown",
   "metadata": {},
   "source": [
    "### Ajuste dos dados:\n",
    "Infelizmente, não se ajusta a todos os parâmetros. Devemos achar uma curva mais próxima à realidade, mas nem sempre é possível."
   ]
  },
  {
   "cell_type": "code",
   "execution_count": 27,
   "metadata": {},
   "outputs": [],
   "source": [
    "import numpy as np\n",
    "import matplotlib.pyplot as plt\n",
    "from scipy.integrate import odeint"
   ]
  },
  {
   "cell_type": "code",
   "execution_count": 28,
   "metadata": {},
   "outputs": [],
   "source": [
    "def modelo(x, t, params):\n",
    "    \n",
    "    try:\n",
    "    \n",
    "        a, ba, bs, ca, cs, p, q = params \n",
    "        \n",
    "    except:\n",
    "        \n",
    "        a = params['a'].value\n",
    "        ba = params['ba'].value\n",
    "        bs = params['bs'].value\n",
    "        ca = params['ca'].value\n",
    "        p = params['p'].value\n",
    "        q = params['q'].value\n",
    "        cs = params['cs'].value\n",
    "        \n",
    "    S, E, Is, Ia, R, D = x\n",
    "    \n",
    "    return [\n",
    "        -(bs * Is + ba * Ia) * S,  # dS/dt\n",
    "        (bs * Is + ba * Ia) * S - a * E,  # dE/dt\n",
    "        (1 - p) * a * E - cs * Is, # dIs/dt\n",
    "        p * a * E - ca * Ia,  # dIa/dt\n",
    "        ca * Ia + cs * q * Is,  # dR/dt\n",
    "        cs * (1 - q) * Is,  # dD/dt\n",
    "    ]\n",
    "\n",
    "def motor(t, x, params):\n",
    "    \n",
    "\n",
    "    S = 1 - np.sum(x)\n",
    "    x = np.insert(x, 0, S)\n",
    "    \n",
    "\n",
    "    return odeint(modelo, x, t, args = (params,))\n",
    "\n",
    "def res(params, t, dados):\n",
    "    \n",
    "    x = params['E'].value, params['Is'].value, params['Ia'].value, params['R'].value, params['D'].value\n",
    "    \n",
    "    final = motor(t, x, params)\n",
    "    \n",
    "    final = final[:,2]\n",
    "    \n",
    "    return (final - dados)\n",
    "    "
   ]
  },
  {
   "cell_type": "code",
   "execution_count": 29,
   "metadata": {},
   "outputs": [
    {
     "data": {
      "image/png": "[encoded data removed]",
      "text/plain": [
       "<Figure size 1152x576 with 1 Axes>"
      ]
     },
     "metadata": {},
     "output_type": "display_data"
    }
   ],
   "source": [
    "t = np.linspace(0,100,100)\n",
    "x = (10e-4,0,0,0,0)\n",
    "x = np.array(x)\n",
    "params = (0.42, 0.5, 0.4,0.17, 0.09, 0.64, 0.88)\n",
    "plt.figure(figsize  = (16,8))\n",
    "plt.plot(t, motor(t,x, params))\n",
    "plt.show()"
   ]
  },
  {
   "cell_type": "code",
   "execution_count": 30,
   "metadata": {},
   "outputs": [
    {
     "data": {
      "image/png": "[encoded data removed]",
      "text/plain": [
       "<Figure size 1152x576 with 1 Axes>"
      ]
     },
     "metadata": {},
     "output_type": "display_data"
    }
   ],
   "source": [
    "I = motor(t,x,params)[:,2]\n",
    "dados = I + 0.01*np.random.normal(size = np.shape(I))\n",
    "\n",
    "plt.figure(figsize  = (16,8))\n",
    "plt.plot(t,I)\n",
    "plt.plot(t,dados)\n",
    "plt.show()"
   ]
  },
  {
   "cell_type": "code",
   "execution_count": 31,
   "metadata": {},
   "outputs": [
    {
     "data": {
      "text/html": [
       "<html><script type=\"math/tex; mode=display\">\\newcommand{\\Bold}[1]{\\mathbf{#1}}\\begin{array}{l}\n",
       "\\verb|[|\\phantom{\\verb!x!}\\verb|0.00181313|\\phantom{\\verb!xx!}\\verb|0.00785419|\\phantom{\\verb!xx!}\\verb|0.01345222|\\phantom{\\verb!x!}\\verb|-0.02078919|\\phantom{\\verb!xx!}\\verb|0.00114456|\\phantom{\\verb!x!}\\verb|-0.00428302|\\\\\n",
       "\\phantom{\\verb!xx!}\\verb|0.00431456|\\phantom{\\verb!xx!}\\verb|0.01637776|\\phantom{\\verb!xx!}\\verb|0.00448999|\\phantom{\\verb!xx!}\\verb|0.00237413|\\phantom{\\verb!xx!}\\verb|0.00968297|\\phantom{\\verb!xx!}\\verb|0.02796003|\\\\\n",
       "\\phantom{\\verb!x!}\\verb|-0.00150582|\\phantom{\\verb!xx!}\\verb|0.00988196|\\phantom{\\verb!x!}\\verb|-0.01250315|\\phantom{\\verb!xx!}\\verb|0.00382761|\\phantom{\\verb!x!}\\verb|-0.00614082|\\phantom{\\verb!xx!}\\verb|0.00701298|\\\\\n",
       "\\phantom{\\verb!xx!}\\verb|0.01132093|\\phantom{\\verb!xx!}\\verb|0.00584636|\\phantom{\\verb!xx!}\\verb|0.01716709|\\phantom{\\verb!xx!}\\verb|0.01380962|\\phantom{\\verb!xx!}\\verb|0.01564995|\\phantom{\\verb!xx!}\\verb|0.02756929|\\\\\n",
       "\\phantom{\\verb!xx!}\\verb|0.00294097|\\phantom{\\verb!xx!}\\verb|0.01358557|\\phantom{\\verb!xx!}\\verb|0.02736141|\\phantom{\\verb!xx!}\\verb|0.03000005|\\phantom{\\verb!xx!}\\verb|0.0292413|\\phantom{\\verb!xxx!}\\verb|0.03248737|\\\\\n",
       "\\phantom{\\verb!xx!}\\verb|0.04746056|\\phantom{\\verb!xx!}\\verb|0.04760758|\\phantom{\\verb!xx!}\\verb|0.07135594|\\phantom{\\verb!xx!}\\verb|0.07334483|\\phantom{\\verb!xx!}\\verb|0.07367069|\\phantom{\\verb!xx!}\\verb|0.06897972|\\\\\n",
       "\\phantom{\\verb!xx!}\\verb|0.08384372|\\phantom{\\verb!xx!}\\verb|0.08156324|\\phantom{\\verb!xx!}\\verb|0.10883126|\\phantom{\\verb!xx!}\\verb|0.08834853|\\phantom{\\verb!xx!}\\verb|0.09155171|\\phantom{\\verb!xx!}\\verb|0.11962124|\\\\\n",
       "\\phantom{\\verb!xx!}\\verb|0.1244474|\\phantom{\\verb!xxx!}\\verb|0.10420266|\\phantom{\\verb!xx!}\\verb|0.13106592|\\phantom{\\verb!xx!}\\verb|0.11759095|\\phantom{\\verb!xx!}\\verb|0.13625922|\\phantom{\\verb!xx!}\\verb|0.1097916|\\\\\n",
       "\\phantom{\\verb!xx!}\\verb|0.12356063|\\phantom{\\verb!xx!}\\verb|0.12150193|\\phantom{\\verb!xx!}\\verb|0.09966388|\\phantom{\\verb!xx!}\\verb|0.0988599|\\phantom{\\verb!xxx!}\\verb|0.1161082|\\phantom{\\verb!xxx!}\\verb|0.09177541|\\\\\n",
       "\\phantom{\\verb!xx!}\\verb|0.09407315|\\phantom{\\verb!xx!}\\verb|0.09844536|\\phantom{\\verb!xx!}\\verb|0.06772168|\\phantom{\\verb!xx!}\\verb|0.07947352|\\phantom{\\verb!xx!}\\verb|0.07894809|\\phantom{\\verb!xx!}\\verb|0.07207488|\\\\\n",
       "\\phantom{\\verb!xx!}\\verb|0.06831613|\\phantom{\\verb!xx!}\\verb|0.06003625|\\phantom{\\verb!xx!}\\verb|0.06064229|\\phantom{\\verb!xx!}\\verb|0.05442308|\\phantom{\\verb!xx!}\\verb|0.04648887|\\phantom{\\verb!xx!}\\verb|0.05378924|\\\\\n",
       "\\phantom{\\verb!xx!}\\verb|0.02870487|\\phantom{\\verb!xx!}\\verb|0.02694283|\\phantom{\\verb!xx!}\\verb|0.05039747|\\phantom{\\verb!xx!}\\verb|0.03135347|\\phantom{\\verb!xx!}\\verb|0.01687728|\\phantom{\\verb!xx!}\\verb|0.02695509|\\\\\n",
       "\\phantom{\\verb!xx!}\\verb|0.02336439|\\phantom{\\verb!xx!}\\verb|0.02337589|\\phantom{\\verb!xx!}\\verb|0.02478792|\\phantom{\\verb!xx!}\\verb|0.02091788|\\phantom{\\verb!xx!}\\verb|0.01174285|\\phantom{\\verb!xx!}\\verb|0.02198366|\\\\\n",
       "\\phantom{\\verb!xx!}\\verb|0.01037199|\\phantom{\\verb!xx!}\\verb|0.02239376|\\phantom{\\verb!xx!}\\verb|0.00926147|\\phantom{\\verb!xx!}\\verb|0.00887754|\\phantom{\\verb!x!}\\verb|-0.00612335|\\phantom{\\verb!x!}\\verb|-0.01367204|\\\\\n",
       "\\phantom{\\verb!xx!}\\verb|0.01482692|\\phantom{\\verb!x!}\\verb|-0.00116037|\\phantom{\\verb!xx!}\\verb|0.01921447|\\phantom{\\verb!xx!}\\verb|0.00652532|\\phantom{\\verb!x!}\\verb|-0.00018866|\\phantom{\\verb!x!}\\verb|-0.01035173|\\\\\n",
       "\\phantom{\\verb!xx!}\\verb|0.01381827|\\phantom{\\verb!xx!}\\verb|0.00976591|\\phantom{\\verb!xx!}\\verb|0.00135669|\\phantom{\\verb!xx!}\\verb|0.00367399|\\phantom{\\verb!x!}\\verb|-0.00344159|\\phantom{\\verb!x!}\\verb|-0.00857879|\\\\\n",
       "\\phantom{\\verb!x!}\\verb|-0.00550084|\\phantom{\\verb!xx!}\\verb|0.00481946|\\phantom{\\verb!xx!}\\verb|0.02488215|\\phantom{\\verb!xx!}\\verb|0.0096997|\\phantom{\\verb!x!}\\verb|]|\n",
       "\\end{array}</script></html>"
      ],
      "text/plain": [
       "array([ 0.00181313,  0.00785419,  0.01345222, -0.02078919,  0.00114456,\n",
       "       -0.00428302,  0.00431456,  0.01637776,  0.00448999,  0.00237413,\n",
       "        0.00968297,  0.02796003, -0.00150582,  0.00988196, -0.01250315,\n",
       "        0.00382761, -0.00614082,  0.00701298,  0.01132093,  0.00584636,\n",
       "        0.01716709,  0.01380962,  0.01564995,  0.02756929,  0.00294097,\n",
       "        0.01358557,  0.02736141,  0.03000005,  0.0292413 ,  0.03248737,\n",
       "        0.04746056,  0.04760758,  0.07135594,  0.07334483,  0.07367069,\n",
       "        0.06897972,  0.08384372,  0.08156324,  0.10883126,  0.08834853,\n",
       "        0.09155171,  0.11962124,  0.1244474 ,  0.10420266,  0.13106592,\n",
       "        0.11759095,  0.13625922,  0.1097916 ,  0.12356063,  0.12150193,\n",
       "        0.09966388,  0.0988599 ,  0.1161082 ,  0.09177541,  0.09407315,\n",
       "        0.09844536,  0.06772168,  0.07947352,  0.07894809,  0.07207488,\n",
       "        0.06831613,  0.06003625,  0.06064229,  0.05442308,  0.04648887,\n",
       "        0.05378924,  0.02870487,  0.02694283,  0.05039747,  0.03135347,\n",
       "        0.01687728,  0.02695509,  0.02336439,  0.02337589,  0.02478792,\n",
       "        0.02091788,  0.01174285,  0.02198366,  0.01037199,  0.02239376,\n",
       "        0.00926147,  0.00887754, -0.00612335, -0.01367204,  0.01482692,\n",
       "       -0.00116037,  0.01921447,  0.00652532, -0.00018866, -0.01035173,\n",
       "        0.01381827,  0.00976591,  0.00135669,  0.00367399, -0.00344159,\n",
       "       -0.00857879, -0.00550084,  0.00481946,  0.02488215,  0.0096997 ])"
      ]
     },
     "execution_count": 31,
     "metadata": {},
     "output_type": "execute_result"
    }
   ],
   "source": [
    "dados"
   ]
  },
  {
   "cell_type": "code",
   "execution_count": 32,
   "metadata": {},
   "outputs": [],
   "source": [
    "from lmfit import *"
   ]
  },
  {
   "cell_type": "code",
   "execution_count": 33,
   "metadata": {},
   "outputs": [],
   "source": [
    "para = Parameters()\n",
    "\n",
    "para.add('a', value = 0.42, min = 0, max = 1)\n",
    "para.add('bs', value = 0.4, min = 0.31, max = 0.53)\n",
    "para.add('ba', value = 0.5, min = 0.39, max = 0.7)\n",
    "para.add('ca', value = 0.17, min = 0.08, max = 0.19)\n",
    "para.add('cs', value = 0.09, min = 0.04, max = 0.18)\n",
    "para.add('p', value = 0.5, min = 0, max = 1)\n",
    "para.add('q', value = 0.5, min = 0, max = 1)\n",
    "\n",
    "para.add('E', value = 10e-4, min = 0, max = 1)\n",
    "para.add('Is', value = 0, min = 0, max = 1)\n",
    "para.add('Ia', value = 0, min = 0, max = 1)\n",
    "para.add('R', value = 0, min = 0, max = 1, vary = False)\n",
    "para.add('D', value = 0, min = 0, max = 1, vary = False)\n",
    "\n",
    "\n",
    "resultado = minimize(res, para, args = (t,dados), method= 'leastsq')"
   ]
  },
  {
   "cell_type": "code",
   "execution_count": 34,
   "metadata": {},
   "outputs": [
    {
     "name": "stdout",
     "output_type": "stream",
     "text": [
      "[[Fit Statistics]]\n",
      "    # fitting method   = leastsq\n",
      "    # function evals   = 19\n",
      "    # data points      = 100\n",
      "    # variables        = 10\n",
      "    chi-square         = 0.05495514\n",
      "    reduced chi-square = 6.1061e-04\n",
      "    Akaike info crit   = -730.640826\n",
      "    Bayesian info crit = -704.589124\n",
      "[[Variables]]\n",
      "    a:   0.42000000 +/- 34.4639679 (8205.71%) (init = 0.42)\n",
      "    bs:  0.40000000 +/- 43.7752059 (10943.80%) (init = 0.4)\n",
      "    ba:  0.50000000 +/- 26.8446436 (5368.93%) (init = 0.5)\n",
      "    ca:  0.17000000 +/- 54.6875220 (32169.13%) (init = 0.17)\n",
      "    cs:  0.09000000 +/- 2.19770089 (2441.89%) (init = 0.09)\n",
      "    p:   0.50000000 +/- 16.5043304 (3300.87%) (init = 0.5)\n",
      "    q:   0.50000000 +/- 5257836.41 (1051567282.58%) (init = 0.5)\n",
      "    E:   0.00100000 +/- 0.10166769 (10166.77%) (init = 0.001)\n",
      "    Is:  0.00000000 +/- 3.0211e-11 (inf%) (init = 0)\n",
      "    Ia:  0.00000000 +/- 2.1245e-11 (inf%) (init = 0)\n",
      "    R:   0 (fixed)\n",
      "    D:   0 (fixed)\n",
      "[[Correlations]] (unreported correlations are < 0.100)\n",
      "    C(cs, p)  = -1.000\n",
      "    C(p, E)   =  0.996\n",
      "    C(a, E)   = -0.995\n",
      "    C(ca, cs) =  0.995\n",
      "    C(cs, E)  = -0.994\n",
      "    C(a, p)   = -0.993\n",
      "    C(ca, p)  = -0.991\n",
      "    C(a, cs)  =  0.990\n",
      "    C(ca, E)  = -0.980\n",
      "    C(a, ca)  =  0.971\n",
      "    C(bs, ca) =  0.841\n",
      "    C(bs, q)  = -0.798\n",
      "    C(bs, cs) =  0.782\n",
      "    C(bs, p)  = -0.764\n",
      "    C(bs, E)  = -0.725\n",
      "    C(ca, q)  = -0.712\n",
      "    C(a, bs)  =  0.699\n",
      "    C(cs, q)  = -0.672\n",
      "    C(p, q)   =  0.660\n",
      "    C(q, E)   =  0.643\n",
      "    C(a, q)   = -0.621\n",
      "    C(a, ba)  =  0.504\n",
      "    C(ba, E)  = -0.480\n",
      "    C(ba, p)  = -0.434\n",
      "    C(ba, cs) =  0.409\n",
      "    C(bs, Is) = -0.329\n",
      "    C(ba, ca) =  0.319\n",
      "    C(ca, Is) = -0.272\n",
      "    C(cs, Is) = -0.255\n",
      "    C(p, Is)  =  0.246\n",
      "    C(bs, ba) = -0.243\n",
      "    C(a, Is)  = -0.208\n",
      "    C(E, Is)  =  0.173\n",
      "    C(q, Is)  =  0.165\n",
      "    C(bs, Ia) = -0.135\n",
      "    C(ba, q)  =  0.130\n",
      "    C(ca, Ia) = -0.113\n",
      "    C(a, Ia)  = -0.110\n",
      "    C(cs, Ia) = -0.101\n"
     ]
    },
    {
     "name": "stderr",
     "output_type": "stream",
     "text": [
      "/opt/sagemath-9.1/local/lib/python3.7/site-packages/lmfit/printfuncs.py:179: RuntimeWarning: divide by zero encountered in double_scalars\n",
      "  spercent = '({:.2%})'.format(abs(par.stderr/par.value))\n"
     ]
    }
   ],
   "source": [
    "report_fit(resultado)"
   ]
  },
  {
   "cell_type": "code",
   "execution_count": 35,
   "metadata": {},
   "outputs": [],
   "source": [
    "fim = dados +  resultado.residual.reshape(dados.shape)"
   ]
  },
  {
   "cell_type": "code",
   "execution_count": 36,
   "metadata": {},
   "outputs": [
    {
     "data": {
      "image/png": "[encoded data removed]",
      "text/plain": [
       "<Figure size 432x288 with 1 Axes>"
      ]
     },
     "metadata": {},
     "output_type": "display_data"
    }
   ],
   "source": [
    "plt.plot(t, dados, 'o')\n",
    "plt.plot(t, fim, '-', linewidth=2)\n",
    "plt.show()"
   ]
  },
  {
   "cell_type": "markdown",
   "metadata": {},
   "source": [
    "usando os dados reais (infectados):"
   ]
  },
  {
   "cell_type": "code",
   "execution_count": 39,
   "metadata": {},
   "outputs": [],
   "source": [
    "pop = 136833195\n",
    "data = total_cases/pop\n",
    "t = np.linspace(0, len(data),len(data))"
   ]
  },
  {
   "cell_type": "code",
   "execution_count": 40,
   "metadata": {},
   "outputs": [],
   "source": [
    "I = motor(t,x,params)[:,2]"
   ]
  },
  {
   "cell_type": "code",
   "execution_count": 41,
   "metadata": {},
   "outputs": [
    {
     "data": {
      "image/png": "[encoded data removed]",
      "text/plain": [
       "<Figure size 1152x576 with 1 Axes>"
      ]
     },
     "metadata": {},
     "output_type": "display_data"
    }
   ],
   "source": [
    "plt.figure(figsize  = (16,8))\n",
    "plt.plot(t,I)\n",
    "plt.plot(t,data)\n",
    "plt.show()"
   ]
  },
  {
   "cell_type": "code",
   "execution_count": 42,
   "metadata": {},
   "outputs": [],
   "source": [
    "resultado = minimize(res, para, args = (t,data), method= 'leastsq')"
   ]
  },
  {
   "cell_type": "code",
   "execution_count": 43,
   "metadata": {},
   "outputs": [],
   "source": [
    "fim = data +  resultado.residual.reshape(data.shape)"
   ]
  },
  {
   "cell_type": "code",
   "execution_count": 44,
   "metadata": {},
   "outputs": [
    {
     "data": {
      "image/png": "[encoded data removed]",
      "text/plain": [
       "<Figure size 432x288 with 1 Axes>"
      ]
     },
     "metadata": {},
     "output_type": "display_data"
    }
   ],
   "source": [
    "plt.plot(t, data, 'o')\n",
    "plt.plot(t, fim, '-', linewidth=2)\n",
    "plt.show()"
   ]
  },
  {
   "cell_type": "markdown",
   "metadata": {},
   "source": [
    "conseguimos ajustar bem (consegui após diminuir o intervalo das variáveis aleatórias com base nos resultados de um artigo que já tínhamos na A1)"
   ]
  },
  {
   "cell_type": "markdown",
   "metadata": {},
   "source": [
    "# Análise de sensibilidade"
   ]
  },
  {
   "cell_type": "code",
   "execution_count": 45,
   "metadata": {},
   "outputs": [],
   "source": [
    "from SALib.sample import saltelli\n",
    "from SALib.analyze import sobol\n",
    "from epimodels.continuous import models as cm\n",
    "import seaborn as sns\n",
    "import numpy as np\n",
    "import pandas as pd\n",
    "import pylab as plt\n",
    "from tqdm import tqdm\n",
    "from multiprocessing import Pool"
   ]
  },
  {
   "cell_type": "code",
   "execution_count": 150,
   "metadata": {},
   "outputs": [],
   "source": [
    "my_model = cm.SEIR()"
   ]
  },
  {
   "cell_type": "code",
   "execution_count": 154,
   "metadata": {},
   "outputs": [],
   "source": [
    "# No SEIR o compartimento Removidos representa nossos compartimentos R e D, enquanto o compartimento I contem\n",
    "# nossos compartimentos Ia e Is (I = Ia + Is). Vamos simplificar o modelo para esse processo \n",
    "params = {\"beta\": 0.12, \"gamma\": 0.13, \"epsilon\": 0.04,}\n",
    "inits = [.99, 0, 1e-4, 0]\n"
   ]
  },
  {
   "cell_type": "code",
   "execution_count": 155,
   "metadata": {},
   "outputs": [
    {
     "name": "stdout",
     "output_type": "stream",
     "text": [
      "100 loops, best of 5: 7.25 ms per loop\n"
     ]
    }
   ],
   "source": [
    "%%timeit\n",
    "# parms = dict(zip(params.keys(),param_values[3]))\n",
    "my_model(inits=inits, trange = [0,200], totpop=1, params=params)\n",
    "# max(my_model.traces['I'])"
   ]
  },
  {
   "cell_type": "code",
   "execution_count": 156,
   "metadata": {},
   "outputs": [
    {
     "data": {
      "image/png": "[encoded data removed]",
      "text/plain": [
       "<Figure size 432x288 with 1 Axes>"
      ]
     },
     "metadata": {},
     "output_type": "display_data"
    }
   ],
   "source": [
    "my_model.plot_traces(['I','E'])"
   ]
  },
  {
   "cell_type": "markdown",
   "metadata": {},
   "source": [
    "Definindo a análise"
   ]
  },
  {
   "cell_type": "code",
   "execution_count": 157,
   "metadata": {},
   "outputs": [],
   "source": [
    "problem = {\n",
    "    'num_vars': 3,\n",
    "    'names': list(params.keys()),\n",
    "    'bounds': [[0,.3],[0,1],[0.1,1.5]]\n",
    "}"
   ]
  },
  {
   "cell_type": "markdown",
   "metadata": {},
   "source": [
    "Gerando as amostras"
   ]
  },
  {
   "cell_type": "code",
   "execution_count": 158,
   "metadata": {},
   "outputs": [],
   "source": [
    "param_values = saltelli.sample(problem, 1000)"
   ]
  },
  {
   "cell_type": "code",
   "execution_count": 159,
   "metadata": {},
   "outputs": [
    {
     "data": {
      "text/html": [
       "<html><script type=\"math/tex; mode=display\">\\newcommand{\\Bold}[1]{\\mathbf{#1}}\\left(8000, 3\\right)</script></html>"
      ],
      "text/plain": [
       "(8000, 3)"
      ]
     },
     "execution_count": 159,
     "metadata": {},
     "output_type": "execute_result"
    }
   ],
   "source": [
    "param_values.shape"
   ]
  },
  {
   "cell_type": "markdown",
   "metadata": {},
   "source": [
    "Rodando o modelo "
   ]
  },
  {
   "cell_type": "code",
   "execution_count": 160,
   "metadata": {},
   "outputs": [],
   "source": [
    "def eval_model(parametros):\n",
    "    parms = dict(zip(params.keys(),parametros))\n",
    "    mod = cm.SEIR()\n",
    "    mod(inits=inits, trange = [0,200], totpop=1, params=parms)\n",
    "    Y = max(mod.traces['I'])\n",
    "    return Y"
   ]
  },
  {
   "cell_type": "code",
   "execution_count": 161,
   "metadata": {},
   "outputs": [],
   "source": [
    "from multiprocessing import Pool"
   ]
  },
  {
   "cell_type": "code",
   "execution_count": 162,
   "metadata": {},
   "outputs": [],
   "source": [
    "Po = Pool()\n",
    "Y = Po.map(eval_model, param_values)"
   ]
  },
  {
   "cell_type": "code",
   "execution_count": 163,
   "metadata": {},
   "outputs": [],
   "source": [
    "Po.close()"
   ]
  },
  {
   "cell_type": "code",
   "execution_count": 164,
   "metadata": {},
   "outputs": [],
   "source": [
    "Si = sobol.analyze(problem, np.array(Y), print_to_console=False)"
   ]
  },
  {
   "cell_type": "code",
   "execution_count": 165,
   "metadata": {},
   "outputs": [
    {
     "data": {
      "image/png": "[encoded data removed]",
      "text/plain": [
       "<Figure size 720x576 with 1 Axes>"
      ]
     },
     "metadata": {},
     "output_type": "display_data"
    }
   ],
   "source": [
    "def plot_sobol(si,prob, order=1):\n",
    "    Si_filter = {k:si[k] for k in ['ST','ST_conf','S1','S1_conf']}\n",
    "    Si_df = pd.DataFrame(Si_filter, index=problem['names'][:-1])\n",
    "    fig, ax = plt.subplots(1, figsize=(10,8))\n",
    "\n",
    "    indices = Si_df[['S1','ST']]\n",
    "    err = Si_df[['S1_conf','ST_conf']]\n",
    "\n",
    "    indices.plot.bar(yerr=err.values.T,ax=ax)\n",
    "plot_sobol(Si,problem)"
   ]
  },
  {
   "cell_type": "code",
   "execution_count": 166,
   "metadata": {},
   "outputs": [
    {
     "data": {
      "image/png": "[encoded data removed]",
      "text/plain": [
       "<Figure size 1080x1080 with 1 Axes>"
      ]
     },
     "metadata": {},
     "output_type": "display_data"
    }
   ],
   "source": [
    "import itertools\n",
    "from math import pi\n",
    "from matplotlib.legend_handler import HandlerPatch\n",
    "\n",
    "\n",
    "def normalize(x, xmin, xmax):\n",
    "    return (x-xmin)/(xmax-xmin)\n",
    "\n",
    "\n",
    "def plot_circles(ax, locs, names, max_s, stats, smax, smin, fc, ec, lw,\n",
    "                 zorder):\n",
    "    s = np.asarray([stats[name] for name in names])\n",
    "    s = 0.01 + max_s * np.sqrt(normalize(s, smin, smax))\n",
    "\n",
    "    fill = True\n",
    "    for loc, name, si in zip(locs, names, s):\n",
    "        if fc=='w':\n",
    "            fill=False\n",
    "        else:\n",
    "            ec='none'\n",
    "\n",
    "        x = np.cos(loc)\n",
    "        y = np.sin(loc)\n",
    "\n",
    "        circle = plt.Circle((x,y), radius=si, ec=ec, fc=fc, transform=ax.transData._b,\n",
    "                            zorder=zorder, lw=lw, fill=True)\n",
    "        ax.add_artist(circle)\n",
    "\n",
    "\n",
    "def filter(sobol_indices, names, locs, criterion, threshold):\n",
    "    if criterion in ['ST', 'S1', 'S2']:\n",
    "        data = sobol_indices[criterion]\n",
    "        data = np.abs(data)\n",
    "        data = data.flatten() # flatten in case of S2\n",
    "        # TODO:: remove nans\n",
    "\n",
    "        filtered = ([(name, locs[i]) for i, name in enumerate(names) if\n",
    "                     data[i]>threshold])\n",
    "        filtered_names, filtered_locs = zip(*filtered)\n",
    "    elif criterion in ['ST_conf', 'S1_conf', 'S2_conf']:\n",
    "        raise NotImplementedError\n",
    "    else:\n",
    "        raise ValueError('unknown value for criterion')\n",
    "\n",
    "    return filtered_names, filtered_locs\n",
    "\n",
    "\n",
    "def plot_sobol_indices(sobol_indices, criterion='ST', threshold=0.01):\n",
    "    '''plot sobol indices on a radial plot\n",
    "\n",
    "    Parameters\n",
    "    ----------\n",
    "    sobol_indices : dict\n",
    "                    the return from SAlib\n",
    "    criterion : {'ST', 'S1', 'S2', 'ST_conf', 'S1_conf', 'S2_conf'}, optional\n",
    "    threshold : float\n",
    "                only visualize variables with criterion larger than cutoff\n",
    "\n",
    "    '''\n",
    "    max_linewidth_s2 = 15#25*1.8\n",
    "    max_s_radius = 0.3\n",
    "\n",
    "    # prepare data\n",
    "    # use the absolute values of all the indices\n",
    "    #sobol_indices = {key:np.abs(stats) for key, stats in sobol_indices.items()}\n",
    "\n",
    "    # dataframe with ST and S1\n",
    "    sobol_stats = {key:sobol_indices[key] for key in ['ST', 'S1']}\n",
    "    sobol_stats = pd.DataFrame(sobol_stats, index=problem['names'][:-1])\n",
    "\n",
    "    smax = sobol_stats.max().max()\n",
    "    smin = sobol_stats.min().min()\n",
    "\n",
    "    # dataframe with s2\n",
    "    s2 = pd.DataFrame(sobol_indices['S2'], index=problem['names'][:-1],\n",
    "                      columns=problem['names'][:-1])\n",
    "    s2[s2<0.0]=0. #Set negative values to 0 (artifact from small sample sizes)\n",
    "    s2max = s2.max().max()\n",
    "    s2min = s2.min().min()\n",
    "\n",
    "    names = problem['names'][:-1]\n",
    "    n = len(names)\n",
    "    ticklocs = np.linspace(0, 2*pi, n+1)\n",
    "    locs = ticklocs[0:-1]\n",
    "\n",
    "    filtered_names, filtered_locs = filter(sobol_indices, names, locs,\n",
    "                                           criterion, threshold)\n",
    "\n",
    "    # setup figure\n",
    "    fig = plt.figure(figsize=(15,15))\n",
    "    ax = fig.add_subplot(111, polar=True)\n",
    "    ax.grid(False)\n",
    "    ax.spines['polar'].set_visible(False)\n",
    "    ax.set_xticks(ticklocs)\n",
    "\n",
    "    ax.set_xticklabels(names, fontsize=24)\n",
    "    ax.set_yticklabels([])\n",
    "    ax.set_ylim(top=1.4)\n",
    "    legend(ax)\n",
    "\n",
    "    # plot ST\n",
    "    plot_circles(ax, filtered_locs, filtered_names, max_s_radius,\n",
    "                 sobol_stats['ST'], smax, smin, 'w', 'k', 1, 9)\n",
    "\n",
    "    # plot S1\n",
    "    plot_circles(ax, filtered_locs, filtered_names, max_s_radius,\n",
    "                 sobol_stats['S1'], smax, smin, 'k', 'k', 1, 10)\n",
    "\n",
    "    # plot S2\n",
    "    for name1, name2 in itertools.combinations(zip(filtered_names, filtered_locs), 2):\n",
    "        name1, loc1 = name1\n",
    "        name2, loc2 = name2\n",
    "\n",
    "        weight = s2.loc[name1, name2]\n",
    "        lw = 0.5+max_linewidth_s2*normalize(weight, s2min, s2max)\n",
    "        ax.plot([loc1, loc2], [1,1], c='darkgray', lw=lw, zorder=1)\n",
    "\n",
    "    return fig\n",
    "\n",
    "\n",
    "\n",
    "class HandlerCircle(HandlerPatch):\n",
    "    def create_artists(self, legend, orig_handle,\n",
    "                       xdescent, ydescent, width, height, fontsize, trans):\n",
    "        center = 0.5 * width - 0.5 * xdescent, 0.5 * height - 0.5 * ydescent\n",
    "        p = plt.Circle(xy=center, radius=orig_handle.radius)\n",
    "        self.update_prop(p, orig_handle, legend)\n",
    "        p.set_transform(trans)\n",
    "        return [p]\n",
    "\n",
    "def legend(ax):\n",
    "    some_identifiers = [plt.Circle((0,0), radius=5, color='k', fill=False, lw=1),\n",
    "                        plt.Circle((0,0), radius=5, color='k', fill=True),\n",
    "                        plt.Line2D([0,0.5], [0,0.5], lw=8, color='darkgray')]\n",
    "    ax.legend(some_identifiers, ['ST', 'S1', 'S2'],\n",
    "              loc=(1,0.75), borderaxespad=0.1, mode='expand', fontsize=16,\n",
    "              handler_map={plt.Circle: HandlerCircle()})\n",
    "\n",
    "\n",
    "sns.set_style('whitegrid')\n",
    "fig = plot_sobol_indices(Si, criterion='ST', threshold=0.005)"
   ]
  },
  {
   "cell_type": "markdown",
   "metadata": {},
   "source": [
    "# Estimando Parâmetros"
   ]
  },
  {
   "cell_type": "code",
   "execution_count": 167,
   "metadata": {},
   "outputs": [
    {
     "ename": "ModuleNotFoundError",
     "evalue": "No module named 'pymc3'",
     "output_type": "error",
     "traceback": [
      "\u001b[0;31m---------------------------------------------------------------------------\u001b[0m",
      "\u001b[0;31mModuleNotFoundError\u001b[0m                       Traceback (most recent call last)",
      "\u001b[0;32m<ipython-input-167-9ee809b82e3b>\u001b[0m in \u001b[0;36m<module>\u001b[0;34m()\u001b[0m\n\u001b[1;32m      1\u001b[0m \u001b[0;34m\u001b[0m\u001b[0m\n\u001b[1;32m      2\u001b[0m \u001b[0mget_ipython\u001b[0m\u001b[0;34m(\u001b[0m\u001b[0;34m)\u001b[0m\u001b[0;34m.\u001b[0m\u001b[0mmagic\u001b[0m\u001b[0;34m(\u001b[0m\u001b[0;34m'matplotlib inline'\u001b[0m\u001b[0;34m)\u001b[0m\u001b[0;34m\u001b[0m\u001b[0;34m\u001b[0m\u001b[0m\n\u001b[0;32m----> 3\u001b[0;31m \u001b[0;32mimport\u001b[0m \u001b[0mpymc3\u001b[0m \u001b[0;32mas\u001b[0m \u001b[0mpm\u001b[0m\u001b[0;34m\u001b[0m\u001b[0;34m\u001b[0m\u001b[0m\n\u001b[0m\u001b[1;32m      4\u001b[0m \u001b[0;32mfrom\u001b[0m \u001b[0mpymc3\u001b[0m\u001b[0;34m.\u001b[0m\u001b[0mode\u001b[0m \u001b[0;32mimport\u001b[0m \u001b[0mDifferentialEquation\u001b[0m\u001b[0;34m\u001b[0m\u001b[0;34m\u001b[0m\u001b[0m\n\u001b[1;32m      5\u001b[0m \u001b[0;32mimport\u001b[0m \u001b[0mnumpy\u001b[0m \u001b[0;32mas\u001b[0m \u001b[0mnp\u001b[0m\u001b[0;34m\u001b[0m\u001b[0;34m\u001b[0m\u001b[0m\n",
      "\u001b[0;31mModuleNotFoundError\u001b[0m: No module named 'pymc3'"
     ]
    }
   ],
   "source": [
    "\n",
    "%matplotlib inline\n",
    "import pymc3 as pm\n",
    "from pymc3.ode import DifferentialEquation\n",
    "import numpy as np\n",
    "import matplotlib.pyplot as plt\n",
    "from scipy.integrate import odeint\n",
    "import arviz as az\n",
    "import theano\n",
    "\n",
    "plt.style.use('seaborn-darkgrid')"
   ]
  },
  {
   "cell_type": "code",
   "execution_count": null,
   "metadata": {},
   "outputs": [],
   "source": [
    "times = np.arange(0, 5, 0.25)\n",
    "\n",
    "beta,gamma = 4,1.0\n",
    "# Gerando curvas simuladas\n",
    "y = odeint(model, t=times, y0=[0.99, 0.01], args=((beta, gamma),), rtol=1e-8)\n",
    "# Simulando dados  Assumindo uma distribuição log-normal com média igual às séries simuladas\n",
    "yobs = np.random.lognormal(mean=np.log(y[1::]), sigma=[0.2, 0.3])\n",
    "\n",
    "plt.plot(times[1::], yobs, marker='o', linestyle='none')\n",
    "plt.plot(times, y[:, 0], color='C0', alpha=0.5, label=f'$S(t)$')\n",
    "plt.plot(times, y[:, 1], color='C1', alpha=0.5, label=f'$I(t)$');\n",
    "plt.legend();"
   ]
  }
 ],
 "metadata": {
  "kernelspec": {
   "display_name": "SageMath 9.1",
   "language": "sage",
   "name": "sagemath"
  },
  "language_info": {
   "codemirror_mode": {
    "name": "ipython",
    "version": 3
   },
   "file_extension": ".py",
   "mimetype": "text/x-python",
   "name": "python",
   "nbconvert_exporter": "python",
   "pygments_lexer": "ipython3",
   "version": "3.7.3"
  }
 },
 "nbformat": 4,
 "nbformat_minor": 2
}
